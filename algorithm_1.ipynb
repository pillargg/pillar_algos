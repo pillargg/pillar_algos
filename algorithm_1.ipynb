{
 "cells": [
  {
   "cell_type": "markdown",
   "metadata": {},
   "source": [
    "## Outline\n",
    "\n",
    "1. Background\n",
    "    1. Current status\n",
    "1. Helper Functions # note: saved for posterity. Moved to `data_handler.py`\n",
    "    1. Organize dataset\n",
    "    1. Split into hour sections\n",
    "    1. Split each section into X minute chunks\n",
    "    1. Format results as json\n",
    "    1. Save as json\n",
    "1. Algorithm 1\n",
    "    1. Find percent unique chatters\n",
    "    1. Iterate over sections and chunks\n",
    "1. Results\n",
    "    1. Top 5 moments\n",
    "    1. Graphs\n",
    "    1. BUGS\n",
    "1. Big Data EDA"
   ]
  },
  {
   "cell_type": "markdown",
   "metadata": {},
   "source": [
    "# Background\n",
    "\n",
    "__Description__:\n",
    "\n",
    "1. Find the best moments in clips based on where the most users participated. Most is defined as the *ratio of unique users* during a 2 min section to unique users for the entire session.\n",
    "\n",
    "__Datasets used__:\n",
    "\n",
    "1. Big data `big_df`: 2409 rows representing one 7 hour 37 minute, 0 second twitch stream chat of [Hearthstone by LiiHS](https://www.twitch.tv/videos/955629991)\n",
    "    * Used to create all algorithms"
   ]
  },
  {
   "cell_type": "markdown",
   "metadata": {},
   "source": [
    "## Current status\n",
    "\n",
    "__Finished:__\n",
    "1. Algorithm 1\n",
    "2. Graphing of results\n",
    "\n",
    "__To do:__\n",
    "1. ~~Clean up helper functions to be more general~~\n",
    "1. Double and triple check the algorithm. Currently they don't look accurate"
   ]
  },
  {
   "cell_type": "code",
   "execution_count": 1,
   "metadata": {},
   "outputs": [],
   "source": [
    "import pandas as pd\n",
    "import numpy as np\n",
    "import matplotlib.pyplot as plt\n",
    "import seaborn as sns"
   ]
  },
  {
   "cell_type": "code",
   "execution_count": 2,
   "metadata": {},
   "outputs": [],
   "source": [
    "import json"
   ]
  },
  {
   "cell_type": "code",
   "execution_count": 3,
   "metadata": {},
   "outputs": [],
   "source": [
    "from pillaralgos.helpers import data_handler as dh"
   ]
  },
  {
   "cell_type": "markdown",
   "metadata": {},
   "source": [
    "# Algorithm 1"
   ]
  },
  {
   "cell_type": "markdown",
   "metadata": {},
   "source": [
    "The following functions are unique to algo1"
   ]
  },
  {
   "cell_type": "markdown",
   "metadata": {},
   "source": [
    "## Find percent unique chatters"
   ]
  },
  {
   "cell_type": "code",
   "execution_count": 4,
   "metadata": {},
   "outputs": [],
   "source": [
    "def perc_uniques(chunk_list, min_, total_uniques, big_unique):\n",
    "    '''\n",
    "    Finds the percent unique chatters for each dataframe in the list. Dataframes assumed to be split using xminChats.find_rest.\n",
    "    '''\n",
    "\n",
    "    perc_unique = {\n",
    "            f'{min_}min_chunk':[],\n",
    "            'start':[],\n",
    "            'end':[],\n",
    "            'num_unique':[],\n",
    "            'perc_rel_unique':[],\n",
    "            'perc_abs_unique':[]\n",
    "    }\n",
    "\n",
    "\n",
    "    for i in range(len(chunk_list)):\n",
    "        # calcuate\n",
    "        chunk = i\n",
    "        unique = len(chunk_list[i]['_id'].unique())\n",
    "        timestamp = [chunk_list[i]['created_at'].min(), chunk_list[i]['created_at'].max()]\n",
    "        perc_rel = unique/total_uniques # this is the total uniques in THAT DATAFRAME, ie the hourly cut\n",
    "        perc_abs = unique/big_unique # this is the total uniques in the entire twitch session\n",
    "        # store\n",
    "        perc_unique[f'{min_}min_chunk'].append(chunk)\n",
    "        perc_unique['start'].append(timestamp[0])\n",
    "        perc_unique['end'].append(timestamp[1])\n",
    "        perc_unique['num_unique'].append(unique)\n",
    "        perc_unique['perc_rel_unique'].append(perc_rel)\n",
    "        perc_unique['perc_abs_unique'].append(perc_abs)\n",
    "\n",
    "    df_unique = pd.DataFrame(perc_unique)\n",
    "    df_unique['elapsed'] = df_unique['end'] - df_unique['start']\n",
    "    return df_unique"
   ]
  },
  {
   "cell_type": "markdown",
   "metadata": {},
   "source": [
    "## Iterate over sections and chunks"
   ]
  },
  {
   "cell_type": "markdown",
   "metadata": {},
   "source": [
    "NOTE: a version of this was generalized and moved to `data_handler.py`"
   ]
  },
  {
   "cell_type": "code",
   "execution_count": 5,
   "metadata": {},
   "outputs": [],
   "source": [
    "def hour_iterator(big_df, min_=2, sort_by='rel'):\n",
    "    '''\n",
    "    Pushes all dfs in a list through the xminChats function, returns a dataframe of results\n",
    "    \n",
    "    input\n",
    "    -----\n",
    "    big_df: pd.DataFrame\n",
    "        Df of the entire twitch session. This is the one that was split by dfSplitter class\n",
    "    min_: int\n",
    "        How long a timestamp range should be\n",
    "    sort_by: str\n",
    "        Whether to sort values by `abs` or `rel` unique chatters.\n",
    "    '''\n",
    "    ds = dh.dfSplitter(big_df) # initiate\n",
    "    ds.find_rest() # split big_df into 1 hour long separate dfs\n",
    "    hour_list = ds.result # result stored in class var. NOTE: index 0 is always the very first timestamp of big_df\n",
    "    first_sec = hour_list[0]\n",
    "    hour_list = hour_list[1:]\n",
    "\n",
    "    # initiate empty results df\n",
    "    results = pd.DataFrame(columns=['hour', f'{min_}min_chunk', 'start', 'end', 'num_unique', 'perc_rel_unique', 'perc_abs_unique'])\n",
    "    max_uniques = len(big_df['_id'].unique()) # the total number of unique chatters for the entire twitch session\n",
    "\n",
    "    # iterate all sections through the class\n",
    "    for i in range(len(hour_list)):\n",
    "        fm = dh.xminChats(hour_list[i], max_uniques, min_=min_)\n",
    "        _n = fm.find_rest() # _n not needed\n",
    "        chunk_list = fm.result # get back list of dfs, each 2 minutes long\n",
    "        \n",
    "        hr_uniques = perc_uniques(chunk_list, min_, total_uniques=fm.total_uniques, big_unique=fm.big_unique)\n",
    "        hr_uniques['hour'] = i + 1\n",
    "        results = results.append(hr_uniques)\n",
    "\n",
    "    results['elapsed'] = results['end'] - results['start'] # to double check length\n",
    "    pretty_results = results.reset_index(drop=True) # prettify\n",
    "    pretty_results = pretty_results.sort_values(f'perc_{sort_by}_unique',ascending=False)\n",
    "    \n",
    "    json_results = dh.results_jsonified(results, first_sec, results_col=f'perc_{sort_by}_unique') # ordered by top perc_rel_unique\n",
    "    \n",
    "    return pretty_results, json_results"
   ]
  },
  {
   "cell_type": "markdown",
   "metadata": {},
   "source": [
    "# Results"
   ]
  },
  {
   "cell_type": "markdown",
   "metadata": {},
   "source": [
    "__Description__: Try to find the best moments in clips based on where the most users participated\n",
    "1. ~~Isolate chat transcript to 1 hour long sessions~~ DONE `dfSplitter`\n",
    "1. ~~Find total number of unique users that participated in session~~ DONE\n",
    "1. ~~Find % of users that participated at any given `2 minute` timestamp~~\n",
    "1. ~~Isolate `top 3` timestamps per session~~"
   ]
  },
  {
   "cell_type": "code",
   "execution_count": 6,
   "metadata": {},
   "outputs": [],
   "source": [
    "sort_by = 'rel'\n",
    "\n",
    "data = json.load(open('data/big_data.json'))\n",
    "data = pd.DataFrame.from_records(data)\n",
    "big_df = dh.organize_twitch_chat(data, keep_user_vars=False) # fetch appropriate data\n",
    "results, json_results = hour_iterator(big_df, min_=2, sort_by=sort_by)"
   ]
  },
  {
   "cell_type": "code",
   "execution_count": 14,
   "metadata": {},
   "outputs": [],
   "source": [
    "# save_json(json_results, \"algo1_results\")"
   ]
  },
  {
   "cell_type": "markdown",
   "metadata": {},
   "source": [
    "## Top five moments"
   ]
  },
  {
   "cell_type": "code",
   "execution_count": 15,
   "metadata": {},
   "outputs": [
    {
     "data": {
      "text/html": [
       "<div>\n",
       "<style scoped>\n",
       "    .dataframe tbody tr th:only-of-type {\n",
       "        vertical-align: middle;\n",
       "    }\n",
       "\n",
       "    .dataframe tbody tr th {\n",
       "        vertical-align: top;\n",
       "    }\n",
       "\n",
       "    .dataframe thead th {\n",
       "        text-align: right;\n",
       "    }\n",
       "</style>\n",
       "<table border=\"1\" class=\"dataframe\">\n",
       "  <thead>\n",
       "    <tr style=\"text-align: right;\">\n",
       "      <th></th>\n",
       "      <th>hour</th>\n",
       "      <th>2min_chunk</th>\n",
       "      <th>start</th>\n",
       "      <th>end</th>\n",
       "      <th>num_unique</th>\n",
       "      <th>perc_rel_unique</th>\n",
       "      <th>perc_abs_unique</th>\n",
       "      <th>elapsed</th>\n",
       "    </tr>\n",
       "  </thead>\n",
       "  <tbody>\n",
       "    <tr>\n",
       "      <th>156</th>\n",
       "      <td>6</td>\n",
       "      <td>6</td>\n",
       "      <td>2021-03-27 00:52:40.290000+00:00</td>\n",
       "      <td>2021-03-27 00:54:40.127000+00:00</td>\n",
       "      <td>421</td>\n",
       "      <td>0.266119</td>\n",
       "      <td>0.043433</td>\n",
       "      <td>0 days 00:01:59.837000</td>\n",
       "    </tr>\n",
       "    <tr>\n",
       "      <th>201</th>\n",
       "      <td>7</td>\n",
       "      <td>21</td>\n",
       "      <td>2021-03-27 02:22:44.867000+00:00</td>\n",
       "      <td>2021-03-27 02:24:44.753000+00:00</td>\n",
       "      <td>510</td>\n",
       "      <td>0.262211</td>\n",
       "      <td>0.052615</td>\n",
       "      <td>0 days 00:01:59.886000</td>\n",
       "    </tr>\n",
       "    <tr>\n",
       "      <th>100</th>\n",
       "      <td>4</td>\n",
       "      <td>10</td>\n",
       "      <td>2021-03-26 23:00:47.031000+00:00</td>\n",
       "      <td>2021-03-26 23:02:46.853000+00:00</td>\n",
       "      <td>284</td>\n",
       "      <td>0.232216</td>\n",
       "      <td>0.029299</td>\n",
       "      <td>0 days 00:01:59.822000</td>\n",
       "    </tr>\n",
       "    <tr>\n",
       "      <th>291</th>\n",
       "      <td>10</td>\n",
       "      <td>21</td>\n",
       "      <td>2021-03-27 05:22:54.723000+00:00</td>\n",
       "      <td>2021-03-27 05:24:53.251000+00:00</td>\n",
       "      <td>480</td>\n",
       "      <td>0.223152</td>\n",
       "      <td>0.049520</td>\n",
       "      <td>0 days 00:01:58.528000</td>\n",
       "    </tr>\n",
       "    <tr>\n",
       "      <th>226</th>\n",
       "      <td>8</td>\n",
       "      <td>16</td>\n",
       "      <td>2021-03-27 03:12:44.743000+00:00</td>\n",
       "      <td>2021-03-27 03:14:44.730000+00:00</td>\n",
       "      <td>446</td>\n",
       "      <td>0.217455</td>\n",
       "      <td>0.046013</td>\n",
       "      <td>0 days 00:01:59.987000</td>\n",
       "    </tr>\n",
       "  </tbody>\n",
       "</table>\n",
       "</div>"
      ],
      "text/plain": [
       "    hour 2min_chunk                            start  \\\n",
       "156    6          6 2021-03-27 00:52:40.290000+00:00   \n",
       "201    7         21 2021-03-27 02:22:44.867000+00:00   \n",
       "100    4         10 2021-03-26 23:00:47.031000+00:00   \n",
       "291   10         21 2021-03-27 05:22:54.723000+00:00   \n",
       "226    8         16 2021-03-27 03:12:44.743000+00:00   \n",
       "\n",
       "                                 end num_unique  perc_rel_unique  \\\n",
       "156 2021-03-27 00:54:40.127000+00:00        421         0.266119   \n",
       "201 2021-03-27 02:24:44.753000+00:00        510         0.262211   \n",
       "100 2021-03-26 23:02:46.853000+00:00        284         0.232216   \n",
       "291 2021-03-27 05:24:53.251000+00:00        480         0.223152   \n",
       "226 2021-03-27 03:14:44.730000+00:00        446         0.217455   \n",
       "\n",
       "     perc_abs_unique                elapsed  \n",
       "156         0.043433 0 days 00:01:59.837000  \n",
       "201         0.052615 0 days 00:01:59.886000  \n",
       "100         0.029299 0 days 00:01:59.822000  \n",
       "291         0.049520 0 days 00:01:58.528000  \n",
       "226         0.046013 0 days 00:01:59.987000  "
      ]
     },
     "execution_count": 15,
     "metadata": {},
     "output_type": "execute_result"
    }
   ],
   "source": [
    "# for normal people\n",
    "results.head()"
   ]
  },
  {
   "cell_type": "markdown",
   "metadata": {},
   "source": [
    "[Twitch Source](https://www.twitch.tv/videos/955629991)\n",
    "\n",
    "Variables:\n",
    "* `hour`: section of twitch chat df, after df was split into 1 hour sections\n",
    "* `xmin_chunk`: chunk of hour section, after section was split into x min chunks\n",
    "* `start`: starting timestamp of chunk\n",
    "* `end`: ending timestamp of chunk\n",
    "* `num_unique`: number of unique chatters in that chunk\n",
    "* `perc_rel_unique`: percent of unique __hour section__ chatters participating in that chunk\n",
    "* `perc_abs_unique`: percent of unique __twitch df__ chatters participating in that chunk"
   ]
  },
  {
   "cell_type": "markdown",
   "metadata": {},
   "source": [
    "__Conclusion__: The max relative chat engagement was around 55% in the eighth hour of twitch chat during chunk_16. Timestamps `03-20 05:32` to `03-20 05:33` are good candidates"
   ]
  },
  {
   "cell_type": "code",
   "execution_count": 17,
   "metadata": {},
   "outputs": [
    {
     "data": {
      "text/plain": [
       "[{'startTime': 18725.355, 'endTime': 18845.192},\n",
       " {'startTime': 24129.932, 'endTime': 24249.818},\n",
       " {'startTime': 12012.096, 'endTime': 12131.918},\n",
       " {'startTime': 34939.788, 'endTime': 35058.316},\n",
       " {'startTime': 27129.808, 'endTime': 27249.795},\n",
       " {'startTime': 36245.123, 'endTime': 36364.36},\n",
       " {'startTime': 27490.397, 'endTime': 27610.244},\n",
       " {'startTime': 27250.118, 'endTime': 27369.878}]"
      ]
     },
     "execution_count": 17,
     "metadata": {},
     "output_type": "execute_result"
    }
   ],
   "source": [
    "# for engineers\n",
    "json_results[:8]"
   ]
  },
  {
   "cell_type": "markdown",
   "metadata": {},
   "source": [
    "## Graphs"
   ]
  },
  {
   "cell_type": "code",
   "execution_count": 18,
   "metadata": {},
   "outputs": [
    {
     "name": "stderr",
     "output_type": "stream",
     "text": [
      "/home/jupyter-pomkos/.conda/envs/pillar_env/lib/python3.8/site-packages/seaborn/axisgrid.py:643: UserWarning: Using the barplot function without specifying `order` is likely to produce an incorrect plot.\n",
      "  warnings.warn(warning)\n"
     ]
    },
    {
     "data": {
      "text/plain": [
       "Text(0.5, 1.05, 'Percent chatters, relative to each hour')"
      ]
     },
     "execution_count": 18,
     "metadata": {},
     "output_type": "execute_result"
    },
    {
     "data": {
      "image/png": "[encoded data removed]",
      "text/plain": [
       "<Figure size 864x648 with 11 Axes>"
      ]
     },
     "metadata": {
      "needs_background": "light"
     },
     "output_type": "display_data"
    }
   ],
   "source": [
    "g = sns.FacetGrid(results,col='hour', col_wrap = 4, hue = 'hour')\n",
    "g.map(sns.barplot,'2min_chunk','perc_rel_unique')\n",
    "\n",
    "plt.suptitle(\"Percent chatters, relative to each hour\",y=1.05)"
   ]
  },
  {
   "cell_type": "code",
   "execution_count": 19,
   "metadata": {},
   "outputs": [
    {
     "name": "stderr",
     "output_type": "stream",
     "text": [
      "/home/jupyter-pomkos/.conda/envs/pillar_env/lib/python3.8/site-packages/seaborn/axisgrid.py:643: UserWarning: Using the barplot function without specifying `order` is likely to produce an incorrect plot.\n",
      "  warnings.warn(warning)\n"
     ]
    },
    {
     "data": {
      "text/plain": [
       "Text(0.5, 1.05, 'Percent of total twitch session chatters participating at each chunk')"
      ]
     },
     "execution_count": 19,
     "metadata": {},
     "output_type": "execute_result"
    },
    {
     "data": {
      "image/png": "[encoded data removed]",
      "text/plain": [
       "<Figure size 864x648 with 11 Axes>"
      ]
     },
     "metadata": {
      "needs_background": "light"
     },
     "output_type": "display_data"
    }
   ],
   "source": [
    "g = sns.FacetGrid(results,col='hour', col_wrap = 4, hue = 'hour')\n",
    "g.map(sns.barplot,'2min_chunk','perc_abs_unique')\n",
    "\n",
    "plt.suptitle(\"Percent of total twitch session chatters participating at each chunk\",y=1.05)"
   ]
  },
  {
   "cell_type": "markdown",
   "metadata": {},
   "source": [
    "## BUGS"
   ]
  },
  {
   "cell_type": "markdown",
   "metadata": {},
   "source": [
    "Why do the perc_abs_unique and perc_rel_unique have the same exact graphs???"
   ]
  },
  {
   "cell_type": "markdown",
   "metadata": {},
   "source": [
    "# Big Data EDA\n",
    "\n",
    "[Twitch Source](https://www.twitch.tv/videos/955629991)"
   ]
  },
  {
   "cell_type": "code",
   "execution_count": 21,
   "metadata": {},
   "outputs": [],
   "source": [
    "data = json.load(open('data/big_data.json'))"
   ]
  },
  {
   "cell_type": "code",
   "execution_count": 22,
   "metadata": {},
   "outputs": [],
   "source": [
    "data = pd.DataFrame.from_records(data)"
   ]
  },
  {
   "cell_type": "code",
   "execution_count": 24,
   "metadata": {},
   "outputs": [
    {
     "name": "stdout",
     "output_type": "stream",
     "text": [
      "<class 'pandas.core.frame.DataFrame'>\n",
      "RangeIndex: 103928 entries, 0 to 103927\n",
      "Data columns (total 11 columns):\n",
      " #   Column                  Non-Null Count   Dtype  \n",
      "---  ------                  --------------   -----  \n",
      " 0   _id                     103928 non-null  object \n",
      " 1   created_at              103928 non-null  object \n",
      " 2   updated_at              103928 non-null  object \n",
      " 3   channel_id              103928 non-null  object \n",
      " 4   content_type            103928 non-null  object \n",
      " 5   content_id              103928 non-null  object \n",
      " 6   content_offset_seconds  103928 non-null  float64\n",
      " 7   commenter               103928 non-null  object \n",
      " 8   source                  103928 non-null  object \n",
      " 9   state                   103928 non-null  object \n",
      " 10  message                 103928 non-null  object \n",
      "dtypes: float64(1), object(10)\n",
      "memory usage: 8.7+ MB\n"
     ]
    }
   ],
   "source": [
    "data.info()"
   ]
  },
  {
   "cell_type": "code",
   "execution_count": 25,
   "metadata": {},
   "outputs": [],
   "source": [
    "big_df = organize_twitch_chat(data) # fetch appropriate data"
   ]
  },
  {
   "cell_type": "code",
   "execution_count": 26,
   "metadata": {},
   "outputs": [
    {
     "data": {
      "text/plain": [
       "Text(0.5, 1.0, 'Message Count')"
      ]
     },
     "execution_count": 26,
     "metadata": {},
     "output_type": "execute_result"
    },
    {
     "data": {
      "image/png": "[encoded data removed]",
      "text/plain": [
       "<Figure size 432x288 with 1 Axes>"
      ]
     },
     "metadata": {
      "needs_background": "light"
     },
     "output_type": "display_data"
    }
   ],
   "source": [
    "sns.histplot(big_df['created_at'], bins=100)\n",
    "plt.title(\"Message Count\")"
   ]
  },
  {
   "cell_type": "code",
   "execution_count": null,
   "metadata": {},
   "outputs": [],
   "source": [
    "sns.histplot(big_df['display_name'])\n",
    "plt.title(\"Messages per User\")"
   ]
  },
  {
   "cell_type": "code",
   "execution_count": null,
   "metadata": {},
   "outputs": [],
   "source": []
  }
 ],
 "metadata": {
  "kernelspec": {
   "display_name": "Pillar Env",
   "language": "python",
   "name": "pillar_env"
  },
  "language_info": {
   "codemirror_mode": {
    "name": "ipython",
    "version": 3
   },
   "file_extension": ".py",
   "mimetype": "text/x-python",
   "name": "python",
   "nbconvert_exporter": "python",
   "pygments_lexer": "ipython3",
   "version": "3.8.8"
  }
 },
 "nbformat": 4,
 "nbformat_minor": 4
}
