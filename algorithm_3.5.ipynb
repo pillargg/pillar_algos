{
 "cells": [
  {
   "cell_type": "markdown",
   "metadata": {},
   "source": [
    "# Outline\n",
    "1. Background\n",
    "1. Load and Process\n",
    "1. Algorithm 3.5\n",
    "    1. Number of words and emojis\n",
    "    1. Number of emojis\n",
    "    1. Number of words\n",
    "    1. Save results\n",
    "    1. Number of unique words (WIP)\n",
    "1. EDA\n",
    "    1. Words + emojis\n",
    "    1. Emojis\n",
    "    1. Words"
   ]
  },
  {
   "cell_type": "markdown",
   "metadata": {},
   "source": [
    "# Background"
   ]
  },
  {
   "cell_type": "markdown",
   "metadata": {},
   "source": [
    "A modification of Algorithm 3 looking at the number of words per each 2 min chunk"
   ]
  },
  {
   "cell_type": "code",
   "execution_count": 6,
   "metadata": {},
   "outputs": [],
   "source": [
    "import pandas as pd\n",
    "import numpy as np\n",
    "import matplotlib.pyplot as plt\n",
    "import seaborn as sns\n",
    "import json\n",
    "\n",
    "from helpers import data_handler as d\n",
    "from helpers import graph_helpers as gr"
   ]
  },
  {
   "cell_type": "markdown",
   "metadata": {},
   "source": [
    "# Load and Process"
   ]
  },
  {
   "cell_type": "code",
   "execution_count": 2,
   "metadata": {},
   "outputs": [],
   "source": [
    "data = json.load(open('data/big_data.json'))"
   ]
  },
  {
   "cell_type": "code",
   "execution_count": 3,
   "metadata": {},
   "outputs": [],
   "source": [
    "big_df = d.organize_twitch_chat(data)"
   ]
  },
  {
   "cell_type": "markdown",
   "metadata": {},
   "source": [
    "# Algorithm 3.5"
   ]
  },
  {
   "cell_type": "markdown",
   "metadata": {
    "toc-hr-collapsed": true
   },
   "source": [
    "## Number of words + emoticons"
   ]
  },
  {
   "cell_type": "code",
   "execution_count": 7,
   "metadata": {},
   "outputs": [],
   "source": [
    "def results_formatter(dataframe, goal):\n",
    "    '''\n",
    "    Creates a new df `results` that contains the total number of words in the dataframe, the time\n",
    "    the time the dataframe started and ended\n",
    "    input\n",
    "    -----\n",
    "    dataframe: pd.DataFrame\n",
    "        Dataframe with all the hours and chunks labeled, and num_words calculated\n",
    "    goal: str\n",
    "        Col name that has calculated results (ex: num_words, chat_rate, etc.)\n",
    "    output\n",
    "    ------\n",
    "    results: pd.DataFrame\n",
    "        Dataframe with `hour`, `chunk`, `start`, `end`, `num_words` columns\n",
    "    '''\n",
    "    hour_list = []\n",
    "    chunk_list = []\n",
    "    time_start_list = []\n",
    "    time_end_list = []\n",
    "    goal_list = []\n",
    "    \n",
    "    dataframe = dataframe.sort_values('created_at')\n",
    "    # label each chunk with unique ID\n",
    "    dataframe['category'] = dataframe['hour'].astype(str) + dataframe['chunk'].astype(str)\n",
    "    \n",
    "    for cat in dataframe['category'].unique():\n",
    "        temp_df = dataframe[dataframe['category'] == cat] \n",
    "        hour_list.append(temp_df.iloc[0, -3])  # assumes hour col is 3 from end\n",
    "        chunk_list.append(temp_df.iloc[0, -2])  # assumes hunk col is 2 from end\n",
    "        time_start_list.append(temp_df.iloc[0, 0])  # assume created_at col is first\n",
    "        time_end_list.append(temp_df.iloc[-1, 0])  # assume created_at col is first\n",
    "        goal_list.append(temp_df[goal].sum())\n",
    "\n",
    "    results = pd.DataFrame({\n",
    "        'hour':hour_list,\n",
    "        'chunk':chunk_list,\n",
    "        'start':time_start_list,\n",
    "        'end':time_end_list,\n",
    "        goal:goal_list\n",
    "    })\n",
    "    return results"
   ]
  },
  {
   "cell_type": "code",
   "execution_count": 8,
   "metadata": {},
   "outputs": [],
   "source": [
    "def num_words_in_chat(dataframe):\n",
    "    '''\n",
    "    Creates a new col `num_words_emo` that contains the number of words in each message\n",
    "    '''\n",
    "    word_bag = []\n",
    "    body_split = dataframe['body'].str.split(' ')  # split each string at the whitespace\n",
    "    for row in body_split:\n",
    "        num_words = len(row)\n",
    "        word_bag.append(num_words)\n",
    "    \n",
    "    dataframe['num_words_emo'] = word_bag\n",
    "    return dataframe"
   ]
  },
  {
   "cell_type": "markdown",
   "metadata": {
    "toc-hr-collapsed": true
   },
   "source": [
    "## Number of emojis"
   ]
  },
  {
   "cell_type": "code",
   "execution_count": 9,
   "metadata": {},
   "outputs": [
    {
     "data": {
      "text/plain": [
       "'lii1more lii1more lii1more'"
      ]
     },
     "execution_count": 9,
     "metadata": {},
     "output_type": "execute_result"
    }
   ],
   "source": [
    "big_df.iloc[2402]['body']"
   ]
  },
  {
   "cell_type": "code",
   "execution_count": 10,
   "metadata": {},
   "outputs": [
    {
     "data": {
      "text/plain": [
       "[{'_id': '303368959', 'begin': 0, 'end': 7},\n",
       " {'_id': '303368959', 'begin': 9, 'end': 16},\n",
       " {'_id': '303368959', 'begin': 18, 'end': 25}]"
      ]
     },
     "execution_count": 10,
     "metadata": {},
     "output_type": "execute_result"
    }
   ],
   "source": [
    "big_df.iloc[2402]['emoticons']"
   ]
  },
  {
   "cell_type": "markdown",
   "metadata": {},
   "source": [
    "Emoticon column can be seen as a \"marker\" for which chat message contained one or more emoticon. Each \"marker\" (row with emoticon in it) contains a list of dictionaries with:\n",
    "* `_id`: twitch id of that emoticon\n",
    "* `begin`: character index of the start of the emoticon reference\n",
    "* `end`: character index of the end of the emoticon reference\n",
    "\n",
    "1 dictionary = 1 emoticon"
   ]
  },
  {
   "cell_type": "markdown",
   "metadata": {},
   "source": [
    "__This cell is the \"algorithm\"__"
   ]
  },
  {
   "cell_type": "code",
   "execution_count": 15,
   "metadata": {},
   "outputs": [],
   "source": [
    "# find the number words (this includes emoticons)\n",
    "big_df = num_words_in_chat(big_df)\n",
    "# find the number of emoticons used in each message\n",
    "# if the cell has a list, it has emoticon(s)\n",
    "big_df['num_emo'] = big_df['emoticons'].apply(lambda x: len(x) if type(x) == list else 0)\n",
    "# find the number of words only\n",
    "big_df['num_words_only'] = big_df['num_words_emo'] - big_df['num_emo']"
   ]
  },
  {
   "cell_type": "markdown",
   "metadata": {},
   "source": [
    "__The following function is just formatting__"
   ]
  },
  {
   "cell_type": "code",
   "execution_count": 23,
   "metadata": {},
   "outputs": [],
   "source": [
    "def chunker(big_df, min_):\n",
    "    '''\n",
    "    Runs big_df through classes and functions to split it into hours/chunks\n",
    "    '''\n",
    "    # split into hours\n",
    "    dfs = d.dfSplitter(big_df)\n",
    "    dfs.find_rest()\n",
    "\n",
    "    hour_list = dfs.result\n",
    "    first_stamp = hour_list[0]\n",
    "    del hour_list[0]\n",
    "    \n",
    "    big_unique = big_df['_id'].unique()\n",
    "    \n",
    "    # split into minutes\n",
    "    chunk_list = []\n",
    "    for i in range(len(hour_list)):\n",
    "        hour = hour_list[i]\n",
    "        xmc = d.xminChats(hour, big_unique, min_=min_)\n",
    "        xmc.find_rest()\n",
    "        for chunk_num in range(len(xmc.result)):\n",
    "            chunk = xmc.result[chunk_num]\n",
    "            chunk['hour'] = i\n",
    "            chunk['chunk'] = chunk_num\n",
    "            chunk_list.append(chunk)\n",
    "            \n",
    "    chunk_list_expanded = []\n",
    "\n",
    "    for chunk in chunk_list:\n",
    "        chunk_list_expanded.append(num_words_in_chat(chunk))\n",
    "\n",
    "    chunk_df = pd.DataFrame(columns = ['created_at', 'updated_at', 'display_name', '_id', 'name', 'type',\n",
    "           'bio', 'logo', 'body', 'is_action', 'user_badges', 'emoticons', 'hour',\n",
    "           'chunk', 'num_words_emo', 'num_emo', 'num_words'])\n",
    "\n",
    "    for chunk in chunk_list_expanded:\n",
    "        chunk_df = chunk_df.append(chunk)\n",
    "\n",
    "    chunk_df = chunk_df.astype({\n",
    "                                'is_action':bool,\n",
    "                                'hour':int,\n",
    "                                'chunk':int,\n",
    "                                'num_words_emo':float,\n",
    "                                'num_emo':float,\n",
    "                                'num_words':float\n",
    "                             })\n",
    "    return chunk_df, first_stamp"
   ]
  },
  {
   "cell_type": "code",
   "execution_count": 24,
   "metadata": {},
   "outputs": [
    {
     "name": "stderr",
     "output_type": "stream",
     "text": [
      "/home/jupyter-pomkos/.conda/envs/data_env/lib/python3.6/site-packages/ipykernel_launcher.py:23: SettingWithCopyWarning: \n",
      "A value is trying to be set on a copy of a slice from a DataFrame.\n",
      "Try using .loc[row_indexer,col_indexer] = value instead\n",
      "\n",
      "See the caveats in the documentation: https://pandas.pydata.org/pandas-docs/stable/user_guide/indexing.html#returning-a-view-versus-a-copy\n",
      "/home/jupyter-pomkos/.conda/envs/data_env/lib/python3.6/site-packages/ipykernel_launcher.py:24: SettingWithCopyWarning: \n",
      "A value is trying to be set on a copy of a slice from a DataFrame.\n",
      "Try using .loc[row_indexer,col_indexer] = value instead\n",
      "\n",
      "See the caveats in the documentation: https://pandas.pydata.org/pandas-docs/stable/user_guide/indexing.html#returning-a-view-versus-a-copy\n",
      "/home/jupyter-pomkos/.conda/envs/data_env/lib/python3.6/site-packages/ipykernel_launcher.py:11: SettingWithCopyWarning: \n",
      "A value is trying to be set on a copy of a slice from a DataFrame.\n",
      "Try using .loc[row_indexer,col_indexer] = value instead\n",
      "\n",
      "See the caveats in the documentation: https://pandas.pydata.org/pandas-docs/stable/user_guide/indexing.html#returning-a-view-versus-a-copy\n",
      "  # This is added back by InteractiveShellApp.init_path()\n"
     ]
    }
   ],
   "source": [
    "chunk_df, first_stamp = chunker(big_df, min_=2)"
   ]
  },
  {
   "cell_type": "markdown",
   "metadata": {},
   "source": [
    "## Save Results"
   ]
  },
  {
   "cell_type": "code",
   "execution_count": 26,
   "metadata": {},
   "outputs": [
    {
     "name": "stdout",
     "output_type": "stream",
     "text": [
      "Saved to data/algo3.5_num_words_emo.json\n",
      "Saved to data/algo3.5_num_emo.json\n",
      "Saved to data/algo3.5_num_words_only.json\n"
     ]
    }
   ],
   "source": [
    "# Format results\n",
    "for col in ['num_words_emo','num_emo','num_words_only']:\n",
    "    results = results_formatter(chunk_df, goal=col)\n",
    "    json_results = d.results_jsonified(results, first_stamp, results_col = col)\n",
    "    d.save_json(json_results,name=f'algo3.5_{col}')"
   ]
  },
  {
   "cell_type": "markdown",
   "metadata": {},
   "source": [
    "## Number of unique words"
   ]
  },
  {
   "cell_type": "code",
   "execution_count": null,
   "metadata": {},
   "outputs": [],
   "source": []
  },
  {
   "cell_type": "markdown",
   "metadata": {},
   "source": [
    "# EDA"
   ]
  },
  {
   "cell_type": "code",
   "execution_count": null,
   "metadata": {},
   "outputs": [],
   "source": [
    "df_counts = chunk_df.groupby(['hour','chunk'])['num_emo','num_words_only'].sum().reset_index()"
   ]
  },
  {
   "cell_type": "markdown",
   "metadata": {},
   "source": [
    "## Words + Emoji"
   ]
  },
  {
   "cell_type": "code",
   "execution_count": null,
   "metadata": {},
   "outputs": [],
   "source": [
    "# results df\n",
    "results.head()"
   ]
  },
  {
   "cell_type": "code",
   "execution_count": null,
   "metadata": {},
   "outputs": [],
   "source": [
    "# chunk_df df\n",
    "chunk_words_sum = chunk_df.groupby(['hour','chunk'])['num_words_emo'].sum().reset_index()"
   ]
  },
  {
   "cell_type": "code",
   "execution_count": null,
   "metadata": {},
   "outputs": [],
   "source": [
    "g = sns.FacetGrid(col='hour',data=chunk_words_sum, hue='hour', col_wrap = 4)\n",
    "g.map(sns.barplot, 'chunk','num_words_emo')"
   ]
  },
  {
   "cell_type": "markdown",
   "metadata": {},
   "source": [
    "## Emoji"
   ]
  },
  {
   "cell_type": "code",
   "execution_count": null,
   "metadata": {},
   "outputs": [],
   "source": [
    "gr.plot_with_time(x='created_at', y='num_emo', data = chunk_df)"
   ]
  },
  {
   "cell_type": "code",
   "execution_count": null,
   "metadata": {},
   "outputs": [],
   "source": [
    "sns.catplot(x='hour',y='num_emo',data=df_counts, kind='bar')\n",
    "plt.title(\"Mean number of emoticons each chunk per hour\")"
   ]
  },
  {
   "cell_type": "code",
   "execution_count": null,
   "metadata": {},
   "outputs": [],
   "source": [
    "g = sns.FacetGrid(col='hour',data=df_counts, hue='hour', col_wrap = 4)\n",
    "g.map(sns.barplot, 'chunk','num_emo')\n",
    "plt.suptitle(\"Number of emoticons per chunk each hour\",y=1.05)"
   ]
  },
  {
   "cell_type": "markdown",
   "metadata": {},
   "source": [
    "## Words"
   ]
  },
  {
   "cell_type": "code",
   "execution_count": null,
   "metadata": {},
   "outputs": [],
   "source": [
    "gr.plot_with_time(x='created_at', y='num_words_only', data = chunk_df)"
   ]
  },
  {
   "cell_type": "code",
   "execution_count": null,
   "metadata": {},
   "outputs": [],
   "source": [
    "sns.catplot(x='hour',y='num_words_only',data=df_counts, kind='bar')\n",
    "plt.title(\"Mean number of words each chunk per hour\")"
   ]
  },
  {
   "cell_type": "code",
   "execution_count": null,
   "metadata": {},
   "outputs": [],
   "source": [
    "g = sns.FacetGrid(col='hour',data=df_counts, hue='hour', col_wrap = 4)\n",
    "g.map(sns.barplot, 'chunk','num_words_only')"
   ]
  },
  {
   "cell_type": "code",
   "execution_count": null,
   "metadata": {},
   "outputs": [],
   "source": []
  }
 ],
 "metadata": {
  "kernelspec": {
   "display_name": "Data Env",
   "language": "python",
   "name": "data_env"
  },
  "language_info": {
   "codemirror_mode": {
    "name": "ipython",
    "version": 3
   },
   "file_extension": ".py",
   "mimetype": "text/x-python",
   "name": "python",
   "nbconvert_exporter": "python",
   "pygments_lexer": "ipython3",
   "version": "3.6.12"
  }
 },
 "nbformat": 4,
 "nbformat_minor": 4
}
