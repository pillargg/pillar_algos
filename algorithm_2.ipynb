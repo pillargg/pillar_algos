{
 "cells": [
  {
   "cell_type": "markdown",
   "metadata": {},
   "source": [
    "## Outline\n",
    "\n",
    "1. Background\n",
    "    1. Current status\n",
    "1. Big Data EDA\n",
    "1. Algorithm 2\n",
    "    1. Organize dataset\n",
    "    1. Split into hour sections\n",
    "    1. Split each section into X minute chunks\n",
    "    1. Iterate over chunks, find `perc_rel_unique` or `perc_abs_unique`\n",
    "1. Results\n",
    "    1. Top 5 moments\n",
    "    1. Graphs\n",
    "    1. BUGS"
   ]
  },
  {
   "cell_type": "markdown",
   "metadata": {},
   "source": [
    "# Background\n",
    "\n",
    "__Description__:\n",
    "\n",
    "1. Find the best moments in clips based on when rate of messages per user peaked. This involves answering the question \"at which 2 min segment do the most users send the most messages?\". If users X, Y, and Z all send 60% of their messages at timestamp range delta, then that timestamp might qualify as a \"best moment\"\n",
    "\n",
    "__Datasets used__:\n",
    "\n",
    "1. Big data `big_df`: 2409 rows representing one 7 hour 37 minute, 0 second twitch stream chat of [Hearthstone by LiiHS](https://www.twitch.tv/videos/955629991)\n",
    "    * Used to create all algorithms"
   ]
  },
  {
   "cell_type": "markdown",
   "metadata": {},
   "source": [
    "## Current status\n",
    "\n",
    "__Finished:__\n",
    "1. Algorithm 2\n",
    "1. Graphing of preliminary results\n",
    "1. Define user activity rate\n",
    "\n",
    "__To do:__\n",
    "1. Narrow down results to specific timestamps\n",
    "1. Clean up helper functions to be more general\n",
    "1. Write sanity checks\n",
    "1. Double and triple check the algorithms. Currently they don't look accurate, maybe"
   ]
  },
  {
   "cell_type": "code",
   "execution_count": 2,
   "metadata": {},
   "outputs": [],
   "source": [
    "import pandas as pd\n",
    "import numpy as np\n",
    "\n",
    "import datetime as dt\n",
    "import json\n",
    "\n",
    "import matplotlib.pyplot as plt\n",
    "import seaborn as sns\n",
    "\n",
    "from helpers import sanity_checks as s\n",
    "from helpers import data_handler as d"
   ]
  },
  {
   "cell_type": "markdown",
   "metadata": {},
   "source": [
    "# Algorithm 2: user activity rate\n",
    "\n",
    "__Description__: Try to find the best moments in clips based on when rate of messages per user peaked\n",
    "\n",
    "1. ~~Isolate chat transcript to 1 hour long sessions~~ DONE\n",
    "1. ~~Find overall message rate per 2 minutes per users~~ DONE\n",
    "1. ~~Identify timestamps where `message_rate` peaked~~ DONE"
   ]
  },
  {
   "cell_type": "markdown",
   "metadata": {},
   "source": [
    "Based on the above, it looks like top message sender sent the top message at all hours"
   ]
  },
  {
   "cell_type": "code",
   "execution_count": 7,
   "metadata": {},
   "outputs": [],
   "source": [
    "data = json.load(open('data/big_data.json'))\n",
    "big_df = d.organize_twitch_chat(data)"
   ]
  },
  {
   "cell_type": "code",
   "execution_count": 10,
   "metadata": {},
   "outputs": [],
   "source": [
    "dfs = d.dfSplitter(big_df)\n",
    "dfs.find_rest()\n",
    "hour_list = dfs.result\n",
    "first_hour = hour_list[0]\n",
    "del hour_list[0]"
   ]
  },
  {
   "cell_type": "code",
   "execution_count": 11,
   "metadata": {},
   "outputs": [
    {
     "name": "stderr",
     "output_type": "stream",
     "text": [
      "/home/jupyter-pomkos/.conda/envs/data_env/lib/python3.6/site-packages/ipykernel_launcher.py:4: SettingWithCopyWarning: \n",
      "A value is trying to be set on a copy of a slice from a DataFrame.\n",
      "Try using .loc[row_indexer,col_indexer] = value instead\n",
      "\n",
      "See the caveats in the documentation: https://pandas.pydata.org/pandas-docs/stable/user_guide/indexing.html#returning-a-view-versus-a-copy\n",
      "  after removing the cwd from sys.path.\n"
     ]
    }
   ],
   "source": [
    "chat_rates = ''\n",
    "\n",
    "for i in range(len(hour_list)):\n",
    "    hour_list[i]['hour'] = i # label each dataset so we can tell what hour they came from"
   ]
  },
  {
   "cell_type": "code",
   "execution_count": 14,
   "metadata": {},
   "outputs": [],
   "source": [
    "chunk_list = []\n",
    "for hour in hour_list:\n",
    "    xmc = d.xminChats(hour, big_df['_id'].unique(), min_=2) # split into 2 min segments\n",
    "    xmc.find_rest()\n",
    "    \n",
    "    for chunk in xmc.result:\n",
    "        chunk_list.append(chunk) # fmc.result gets returned as a list"
   ]
  },
  {
   "cell_type": "code",
   "execution_count": 15,
   "metadata": {},
   "outputs": [],
   "source": [
    "def rate_finder(dataframe, hour, x=2):\n",
    "    '''\n",
    "    Finds the rate of messages sent per X minutes for each user in the dataframe.\n",
    "    \n",
    "    NOTE: if only 1 timestamp in chunk dataframe, assumes the chunk is exactly 2 minutes before the next chunk in the entire twitch chat stream\n",
    "    '''\n",
    "    # Initiate new df\n",
    "    chat_rate_df = pd.DataFrame(columns = ['hour','chunk','time_start','time_end','_id','num_chats', 'chat_rate'])\n",
    "    chatters = dataframe['_id'].unique() # id unique chatters for this chunk\n",
    "    \n",
    "    \n",
    "    for i in range(len(chatters)):\n",
    "        temp_df = dataframe[dataframe['_id']==chatters[i]] # isolate chatter's data\n",
    "        hour = hour\n",
    "        chunk = i\n",
    "        time_start = dataframe.iloc[0,0]\n",
    "        time_end = dataframe.iloc[-1,0]\n",
    "        _id = chatters[i]\n",
    "        num_chats = len(temp_df['body']) # count how many chats were sent by them\n",
    "        time_d = dt.timedelta.total_seconds(dataframe.iloc[-1,0] - dataframe.iloc[0,0]) \n",
    "\n",
    "        if time_d > 0:\n",
    "            chat_rate = (num_chats/time_d) * 60 * x # use time_d to calculate chat/sec, then multiply to get user requested rate\n",
    "        elif time_d == 0:\n",
    "            # if there is only 1 message in the chunk, there will be only 1 timestamp\n",
    "            # in that case assume that time_d = 2\n",
    "            time_d = 2\n",
    "            chat_rate = (num_chats/time_d) * 60 * x\n",
    "        else:\n",
    "            chat_rate = -100 # if number is negative, math is wrong somewhere\n",
    "\n",
    "        # gather results\n",
    "        results = pd.DataFrame({\n",
    "            'hour':[hour],\n",
    "            'chunk':[chunk],\n",
    "            'time_start':[time_start],\n",
    "            'time_end':[time_end],\n",
    "            '_id':[_id],\n",
    "            'num_chats':[num_chats],\n",
    "            'chat_rate':[chat_rate]\n",
    "        })\n",
    "\n",
    "        chat_rate_df = chat_rate_df.append(results) # store in df\n",
    "    return chat_rate_df.reset_index(drop=True)\n",
    "        "
   ]
  },
  {
   "cell_type": "markdown",
   "metadata": {},
   "source": [
    "## Per unique user"
   ]
  },
  {
   "cell_type": "code",
   "execution_count": 16,
   "metadata": {},
   "outputs": [],
   "source": [
    "chat_rates = pd.DataFrame(columns = ['hour', 'chunk', 'time_start', 'time_end', '_id', 'num_chats', 'chat_rate'])\n",
    "\n",
    "for chunk in chunk_list:\n",
    "    hour = chunk.iloc[-1,12] # col 12 is hour. \n",
    "    chat_rates = chat_rates.append(rate_finder(dataframe = chunk, hour = hour, x=2)) \n",
    "    \n",
    "chat_rates = chat_rates.reset_index(drop=True)"
   ]
  },
  {
   "cell_type": "code",
   "execution_count": 17,
   "metadata": {},
   "outputs": [],
   "source": [
    "# eliminate rows where the user only chatted once (so the timedelta is 0)\n",
    "deltas = []\n",
    "for i, row in chat_rates.iterrows():\n",
    "    delta = dt.timedelta.total_seconds(row['time_end'] - row['time_start'])\n",
    "    deltas.append(delta)\n",
    "\n",
    "chat_rates['elapsed'] = deltas\n",
    "chat_rates = chat_rates[chat_rates['elapsed'] != 0]"
   ]
  },
  {
   "cell_type": "code",
   "execution_count": 18,
   "metadata": {},
   "outputs": [
    {
     "data": {
      "text/plain": [
       "Text(0.5, -0.15, 'One dot represents one user')"
      ]
     },
     "execution_count": 18,
     "metadata": {},
     "output_type": "execute_result"
    },
    {
     "data": {
      "image/png": "[encoded data removed]",
      "text/plain": [
       "<Figure size 432x432 with 1 Axes>"
      ]
     },
     "metadata": {
      "needs_background": "light"
     },
     "output_type": "display_data"
    }
   ],
   "source": [
    "sns.catplot(x='hour',y='chat_rate', data=chat_rates, kind = 'strip',height=6)\n",
    "plt.suptitle(\"Mean chat rate per unique user, for each hour\",y=0.98)\n",
    "plt.title(\"One dot represents one user\",y=-0.15)"
   ]
  },
  {
   "cell_type": "markdown",
   "metadata": {},
   "source": [
    "__Interpretation__: There were three chunks (at hours 2,6,7 respectively) where mean unique user chat rate was higher than anywhere else"
   ]
  },
  {
   "cell_type": "code",
   "execution_count": 19,
   "metadata": {},
   "outputs": [
    {
     "name": "stdout",
     "output_type": "stream",
     "text": [
      "<class 'pandas.core.frame.DataFrame'>\n",
      "Int64Index: 125 entries, 1115 to 1239\n",
      "Data columns (total 8 columns):\n",
      " #   Column      Non-Null Count  Dtype              \n",
      "---  ------      --------------  -----              \n",
      " 0   hour        125 non-null    object             \n",
      " 1   chunk       125 non-null    object             \n",
      " 2   time_start  125 non-null    datetime64[ns, UTC]\n",
      " 3   time_end    125 non-null    datetime64[ns, UTC]\n",
      " 4   _id         125 non-null    object             \n",
      " 5   num_chats   125 non-null    object             \n",
      " 6   chat_rate   125 non-null    float64            \n",
      " 7   elapsed     125 non-null    float64            \n",
      "dtypes: datetime64[ns, UTC](2), float64(2), object(4)\n",
      "memory usage: 8.8+ KB\n"
     ]
    }
   ],
   "source": [
    "isolated = chat_rates[chat_rates['hour']==7]\n",
    "isolated.info()"
   ]
  },
  {
   "cell_type": "code",
   "execution_count": 20,
   "metadata": {},
   "outputs": [],
   "source": [
    "mean_rates = chat_rates.groupby(['hour','chunk']).mean().reset_index()"
   ]
  },
  {
   "cell_type": "code",
   "execution_count": 21,
   "metadata": {},
   "outputs": [
    {
     "data": {
      "text/html": [
       "<div>\n",
       "<style scoped>\n",
       "    .dataframe tbody tr th:only-of-type {\n",
       "        vertical-align: middle;\n",
       "    }\n",
       "\n",
       "    .dataframe tbody tr th {\n",
       "        vertical-align: top;\n",
       "    }\n",
       "\n",
       "    .dataframe thead th {\n",
       "        text-align: right;\n",
       "    }\n",
       "</style>\n",
       "<table border=\"1\" class=\"dataframe\">\n",
       "  <thead>\n",
       "    <tr style=\"text-align: right;\">\n",
       "      <th></th>\n",
       "      <th>hour</th>\n",
       "      <th>chunk</th>\n",
       "      <th>chat_rate</th>\n",
       "      <th>elapsed</th>\n",
       "    </tr>\n",
       "  </thead>\n",
       "  <tbody>\n",
       "    <tr>\n",
       "      <th>87</th>\n",
       "      <td>7</td>\n",
       "      <td>1</td>\n",
       "      <td>5.616447</td>\n",
       "      <td>105.146882</td>\n",
       "    </tr>\n",
       "    <tr>\n",
       "      <th>86</th>\n",
       "      <td>7</td>\n",
       "      <td>0</td>\n",
       "      <td>4.851385</td>\n",
       "      <td>105.146882</td>\n",
       "    </tr>\n",
       "    <tr>\n",
       "      <th>101</th>\n",
       "      <td>7</td>\n",
       "      <td>15</td>\n",
       "      <td>4.768575</td>\n",
       "      <td>100.659000</td>\n",
       "    </tr>\n",
       "    <tr>\n",
       "      <th>78</th>\n",
       "      <td>6</td>\n",
       "      <td>0</td>\n",
       "      <td>3.991713</td>\n",
       "      <td>103.504125</td>\n",
       "    </tr>\n",
       "    <tr>\n",
       "      <th>100</th>\n",
       "      <td>7</td>\n",
       "      <td>14</td>\n",
       "      <td>3.576431</td>\n",
       "      <td>100.659000</td>\n",
       "    </tr>\n",
       "    <tr>\n",
       "      <th>1</th>\n",
       "      <td>0</td>\n",
       "      <td>1</td>\n",
       "      <td>3.497183</td>\n",
       "      <td>111.750143</td>\n",
       "    </tr>\n",
       "    <tr>\n",
       "      <th>96</th>\n",
       "      <td>7</td>\n",
       "      <td>10</td>\n",
       "      <td>3.486104</td>\n",
       "      <td>109.648000</td>\n",
       "    </tr>\n",
       "    <tr>\n",
       "      <th>0</th>\n",
       "      <td>0</td>\n",
       "      <td>0</td>\n",
       "      <td>3.420562</td>\n",
       "      <td>111.750143</td>\n",
       "    </tr>\n",
       "    <tr>\n",
       "      <th>26</th>\n",
       "      <td>2</td>\n",
       "      <td>0</td>\n",
       "      <td>3.296661</td>\n",
       "      <td>92.380455</td>\n",
       "    </tr>\n",
       "    <tr>\n",
       "      <th>3</th>\n",
       "      <td>0</td>\n",
       "      <td>3</td>\n",
       "      <td>3.230044</td>\n",
       "      <td>114.060630</td>\n",
       "    </tr>\n",
       "  </tbody>\n",
       "</table>\n",
       "</div>"
      ],
      "text/plain": [
       "     hour  chunk  chat_rate     elapsed\n",
       "87      7      1   5.616447  105.146882\n",
       "86      7      0   4.851385  105.146882\n",
       "101     7     15   4.768575  100.659000\n",
       "78      6      0   3.991713  103.504125\n",
       "100     7     14   3.576431  100.659000\n",
       "1       0      1   3.497183  111.750143\n",
       "96      7     10   3.486104  109.648000\n",
       "0       0      0   3.420562  111.750143\n",
       "26      2      0   3.296661   92.380455\n",
       "3       0      3   3.230044  114.060630"
      ]
     },
     "execution_count": 21,
     "metadata": {},
     "output_type": "execute_result"
    }
   ],
   "source": [
    "mean_rates.sort_values('chat_rate', ascending=False).head(10)"
   ]
  },
  {
   "cell_type": "code",
   "execution_count": 22,
   "metadata": {},
   "outputs": [
    {
     "data": {
      "text/plain": [
       "<seaborn.axisgrid.FacetGrid at 0x7f3566de0ef0>"
      ]
     },
     "execution_count": 22,
     "metadata": {},
     "output_type": "execute_result"
    },
    {
     "data": {
      "image/png": "[encoded data removed]",
      "text/plain": [
       "<Figure size 360x360 with 1 Axes>"
      ]
     },
     "metadata": {
      "needs_background": "light"
     },
     "output_type": "display_data"
    }
   ],
   "source": [
    "sns.catplot(x='hour',y='chat_rate',data=mean_rates, kind='strip')"
   ]
  },
  {
   "cell_type": "markdown",
   "metadata": {},
   "source": [
    "## Per hour"
   ]
  },
  {
   "cell_type": "code",
   "execution_count": 23,
   "metadata": {},
   "outputs": [],
   "source": [
    "def big_rate_finder(dataframe, x=2):\n",
    "    '''\n",
    "    Finds the overall chat rate per X minutes, regardless of chatter ID\n",
    "    '''\n",
    "    \n",
    "    dataframe = dataframe.sort_values('created_at')\n",
    "    seconds = dt.timedelta.total_seconds(dataframe.iloc[-1,0] - dataframe.iloc[0,0])\n",
    "    messages = len(dataframe['body'])\n",
    "    \n",
    "    rate = (messages/seconds) * 60 * x\n",
    "    \n",
    "    return rate"
   ]
  },
  {
   "cell_type": "code",
   "execution_count": 24,
   "metadata": {},
   "outputs": [],
   "source": [
    "hour_rates = {}\n",
    "for i in range(len(hour_list)):\n",
    "    rate = big_rate_finder(hour_list[i])\n",
    "    hour_rates[i] = [rate]"
   ]
  },
  {
   "cell_type": "code",
   "execution_count": 25,
   "metadata": {},
   "outputs": [],
   "source": [
    "hour_rates = pd.DataFrame(hour_rates).T.reset_index()\n",
    "hour_rates.columns = ['hour','chat_per_2min']"
   ]
  },
  {
   "cell_type": "code",
   "execution_count": 26,
   "metadata": {},
   "outputs": [
    {
     "data": {
      "text/plain": [
       "Text(0.5, 1.0, 'Chat per 2min')"
      ]
     },
     "execution_count": 26,
     "metadata": {},
     "output_type": "execute_result"
    },
    {
     "data": {
      "image/png": "[encoded data removed]",
      "text/plain": [
       "<Figure size 360x360 with 1 Axes>"
      ]
     },
     "metadata": {
      "needs_background": "light"
     },
     "output_type": "display_data"
    }
   ],
   "source": [
    "sns.catplot(x='hour',y='chat_per_2min',data=hour_rates, kind='bar')\n",
    "plt.title(\"Chat per 2min\")"
   ]
  },
  {
   "cell_type": "markdown",
   "metadata": {},
   "source": [
    "__Interpretation__: Hours 0,1,7 had the most chat activity overall. "
   ]
  },
  {
   "cell_type": "code",
   "execution_count": null,
   "metadata": {},
   "outputs": [],
   "source": []
  }
 ],
 "metadata": {
  "kernelspec": {
   "display_name": "Data Env",
   "language": "python",
   "name": "data_env"
  },
  "language_info": {
   "codemirror_mode": {
    "name": "ipython",
    "version": 3
   },
   "file_extension": ".py",
   "mimetype": "text/x-python",
   "name": "python",
   "nbconvert_exporter": "python",
   "pygments_lexer": "ipython3",
   "version": "3.6.12"
  }
 },
 "nbformat": 4,
 "nbformat_minor": 4
}
