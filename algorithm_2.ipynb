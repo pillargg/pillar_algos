{
 "cells": [
  {
   "cell_type": "markdown",
   "metadata": {},
   "source": [
    "## Outline\n",
    "\n",
    "1. Background\n",
    "    1. Current status\n",
    "1. Big Data EDA\n",
    "1. Algorithm 2\n",
    "    1. Organize dataset\n",
    "    1. Split into hour sections\n",
    "    1. Split each section into X minute chunks\n",
    "    1. Iterate over chunks, find `perc_rel_unique` or `perc_abs_unique`\n",
    "1. Results\n",
    "    1. Top 5 moments\n",
    "    1. Graphs\n",
    "    1. BUGS"
   ]
  },
  {
   "cell_type": "markdown",
   "metadata": {},
   "source": [
    "# Background\n",
    "\n",
    "__Description__:\n",
    "\n",
    "1. Find the best moments in clips based on when rate of messages per user peaked. This involves answering the question \"at which 2 min segment do the most users send the most messages?\". If users X, Y, and Z all send 60% of their messages at timestamp range delta, then that timestamp might qualify as a \"best moment\"\n",
    "\n",
    "__Datasets used__:\n",
    "\n",
    "1. Big data `big_df`: 2409 rows representing one 7 hour 37 minute, 0 second twitch stream chat of [Hearthstone by LiiHS](https://www.twitch.tv/videos/955629991)\n",
    "    * Used to create all algorithms"
   ]
  },
  {
   "cell_type": "markdown",
   "metadata": {},
   "source": [
    "## Current status\n",
    "\n",
    "__Finished:__\n",
    "1. Algorithm 2\n",
    "1. Graphing of preliminary results\n",
    "1. Define user activity rate\n",
    "\n",
    "__To do:__\n",
    "1. Narrow down results to specific timestamps\n",
    "1. Clean up helper functions to be more general\n",
    "1. Write sanity checks\n",
    "1. Double and triple check the algorithms. Currently they don't look accurate, maybe"
   ]
  },
  {
   "cell_type": "code",
   "execution_count": 12,
   "metadata": {},
   "outputs": [],
   "source": [
    "import pandas as pd\n",
    "import numpy as np\n",
    "\n",
    "import datetime as dt\n",
    "import json\n",
    "\n",
    "import matplotlib.pyplot as plt\n",
    "import seaborn as sns\n",
    "\n",
    "from helpers import sanity_checks as s\n",
    "from helpers import data_handler as d\n",
    "from helpers import graph_helpers as g"
   ]
  },
  {
   "cell_type": "markdown",
   "metadata": {},
   "source": [
    "# Algorithm 2: user activity rate\n",
    "\n",
    "__Description__: Try to find the best moments in clips based on when rate of messages per user peaked\n",
    "\n",
    "1. ~~Isolate chat transcript to 1 hour long sessions~~ DONE\n",
    "1. ~~Find overall message rate per 2 minutes per users~~ DONE\n",
    "1. ~~Identify timestamps where `message_rate` peaked~~ DONE"
   ]
  },
  {
   "cell_type": "markdown",
   "metadata": {},
   "source": [
    "Based on the above, it looks like top message sender sent the top message at all hours"
   ]
  },
  {
   "cell_type": "code",
   "execution_count": 2,
   "metadata": {},
   "outputs": [],
   "source": [
    "data = json.load(open('data/big_data.json'))\n",
    "big_df = d.organize_twitch_chat(data)"
   ]
  },
  {
   "cell_type": "code",
   "execution_count": 29,
   "metadata": {},
   "outputs": [],
   "source": [
    "# split into hours\n",
    "dfs = d.dfSplitter(big_df)\n",
    "dfs.find_rest()\n",
    "hour_list = dfs.result\n",
    "first_stamp = hour_list[0]\n",
    "del hour_list[0]"
   ]
  },
  {
   "cell_type": "code",
   "execution_count": 30,
   "metadata": {},
   "outputs": [
    {
     "name": "stderr",
     "output_type": "stream",
     "text": [
      "/home/jupyter-pomkos/.conda/envs/data_env/lib/python3.6/site-packages/ipykernel_launcher.py:3: SettingWithCopyWarning: \n",
      "A value is trying to be set on a copy of a slice from a DataFrame.\n",
      "Try using .loc[row_indexer,col_indexer] = value instead\n",
      "\n",
      "See the caveats in the documentation: https://pandas.pydata.org/pandas-docs/stable/user_guide/indexing.html#returning-a-view-versus-a-copy\n",
      "  This is separate from the ipykernel package so we can avoid doing imports until\n"
     ]
    }
   ],
   "source": [
    "# label each dataset so we can tell what hour they came from\n",
    "for i in range(len(hour_list)):\n",
    "    hour_list[i]['hour'] = i"
   ]
  },
  {
   "cell_type": "code",
   "execution_count": 31,
   "metadata": {},
   "outputs": [],
   "source": [
    "# split hours into 2 minute chunks\n",
    "chunk_list = []\n",
    "for hour in hour_list:\n",
    "    xmc = d.xminChats(hour, big_df['_id'].unique(), min_=2) # split into 2 min segments\n",
    "    xmc.find_rest()\n",
    "    \n",
    "    for chunk in xmc.result:\n",
    "        chunk_list.append(chunk) # fmc.result gets returned as a list"
   ]
  },
  {
   "cell_type": "code",
   "execution_count": 32,
   "metadata": {},
   "outputs": [],
   "source": [
    "def rate_finder(dataframe, hour, x=2):\n",
    "    '''\n",
    "    Finds the rate of messages sent per X minutes for each user in the dataframe.\n",
    "    \n",
    "    NOTE: if only 1 timestamp in chunk dataframe, assumes the chunk is exactly 2 minutes before the next chunk in the entire twitch chat stream\n",
    "    '''\n",
    "    # Initiate new df\n",
    "    chat_rate_df = pd.DataFrame(columns = ['hour','chunk','time_start','time_end','_id','num_chats', f'chats_per_{x}min'])\n",
    "    chatters = dataframe['_id'].unique() # id unique chatters for this chunk\n",
    "    \n",
    "    \n",
    "    for i in range(len(chatters)):\n",
    "        temp_df = dataframe[dataframe['_id']==chatters[i]] # isolate chatter's data\n",
    "        hour = hour\n",
    "        chunk = i\n",
    "        time_start = dataframe.iloc[0,0]\n",
    "        time_end = dataframe.iloc[-1,0]\n",
    "        _id = chatters[i]\n",
    "        num_chats = len(temp_df['body']) # count how many chats were sent by them\n",
    "        time_d = dt.timedelta.total_seconds(dataframe.iloc[-1,0] - dataframe.iloc[0,0]) \n",
    "\n",
    "        if time_d > 0:\n",
    "            chat_rate = (num_chats/time_d) * 60 * x # use time_d to calculate chat/sec, then multiply to get user requested rate\n",
    "        elif time_d == 0:\n",
    "            # if there is only 1 message in the chunk, there will be only 1 timestamp\n",
    "            # in that case assume that time_d = 2\n",
    "            time_d = 2\n",
    "            chat_rate = (num_chats/time_d) * 60 * x # convert to chat/X minutes\n",
    "        else:\n",
    "            chat_rate = -100 # if number is negative, math is wrong somewhere and needs to be looked into\n",
    "\n",
    "        # gather results\n",
    "        results = pd.DataFrame({\n",
    "            'hour':[hour],\n",
    "            'chunk':[chunk],\n",
    "            'time_start':[time_start],\n",
    "            'time_end':[time_end],\n",
    "            '_id':[_id],\n",
    "            'num_chats':[num_chats],\n",
    "            f'chats_per_{x}min':[chat_rate]\n",
    "        })\n",
    "\n",
    "        chat_rate_df = chat_rate_df.append(results) # store in df\n",
    "    return chat_rate_df.reset_index(drop=True)\n",
    "        "
   ]
  },
  {
   "cell_type": "markdown",
   "metadata": {},
   "source": [
    "## Per chunk"
   ]
  },
  {
   "cell_type": "markdown",
   "metadata": {},
   "source": [
    "### Mean user chat rate per chunk"
   ]
  },
  {
   "cell_type": "code",
   "execution_count": 33,
   "metadata": {},
   "outputs": [],
   "source": [
    "chat_rates = pd.DataFrame(columns = ['hour', 'chunk', 'time_start', 'time_end', '_id', 'num_chats', 'chats_per_2min'])\n",
    "\n",
    "# for each 2 min chunk\n",
    "for chunk in chunk_list:\n",
    "    hour = chunk.iloc[-1,12] # col 12 is hour.\n",
    "    # find the chat rate for each user\n",
    "    chat_rates = chat_rates.append(rate_finder(dataframe = chunk, hour = hour, x=2)) \n",
    "    \n",
    "chat_rates = chat_rates.reset_index(drop=True)"
   ]
  },
  {
   "cell_type": "code",
   "execution_count": 34,
   "metadata": {},
   "outputs": [],
   "source": [
    "# eliminate rows where the user only chatted once (so the timedelta is 0)\n",
    "deltas = []\n",
    "for i, row in chat_rates.iterrows():\n",
    "    delta = dt.timedelta.total_seconds(row['time_end'] - row['time_start'])\n",
    "    deltas.append(delta)\n",
    "\n",
    "chat_rates['elapsed'] = deltas # this was only done so we can filter out the 0s\n",
    "chat_rates = chat_rates[chat_rates['elapsed'] != 0]\n",
    "# replace with actual datetime\n",
    "chat_rates['elapsed'] = chat_rates['time_end'] - chat_rates['time_start']"
   ]
  },
  {
   "cell_type": "code",
   "execution_count": 35,
   "metadata": {},
   "outputs": [
    {
     "data": {
      "text/plain": [
       "Text(0.5, -0.15, 'One dot represents one user')"
      ]
     },
     "execution_count": 35,
     "metadata": {},
     "output_type": "execute_result"
    },
    {
     "data": {
      "image/png": "[encoded data removed]",
      "text/plain": [
       "<Figure size 432x432 with 1 Axes>"
      ]
     },
     "metadata": {
      "needs_background": "light"
     },
     "output_type": "display_data"
    }
   ],
   "source": [
    "sns.catplot(x='hour',y='chats_per_2min', data=chat_rates, kind = 'strip',height=6)\n",
    "plt.suptitle(\"Mean chat rate per unique user, for each hour\",y=0.98)\n",
    "plt.title(\"One dot represents one user\",y=-0.15)"
   ]
  },
  {
   "cell_type": "markdown",
   "metadata": {},
   "source": [
    "#### Interpretation"
   ]
  },
  {
   "cell_type": "markdown",
   "metadata": {},
   "source": [
    "There were three chunks (at hours 2,6,7 respectively) where mean unique user chat rate was higher than anywhere else. Let's isolate the top 3 most active hours"
   ]
  },
  {
   "cell_type": "markdown",
   "metadata": {},
   "source": [
    "NOTE: below function saved into `graph_helpers.py`"
   ]
  },
  {
   "cell_type": "code",
   "execution_count": 36,
   "metadata": {},
   "outputs": [],
   "source": [
    "def plot_with_time(x,y,data, xformat='%H:%m'):\n",
    "    '''\n",
    "    Plots a scatterplot with the xaxis neatly formatted\n",
    "    \n",
    "    input\n",
    "    -----\n",
    "    x: str\n",
    "        Column name. Column must be datetime\n",
    "    y: str\n",
    "    data: pd.DataFrame\n",
    "    xformat: str\n",
    "        Format xaxis should be displayed in, using strftime syntax\n",
    "    '''\n",
    "    import matplotlib.dates as mdates\n",
    "    fig, ax = plt.subplots()\n",
    "    sns.scatterplot(x=x,y=y,data=data)\n",
    "    \n",
    "    myFmt = mdates.DateFormatter(xformat)\n",
    "    ax.xaxis.set_major_formatter(myFmt)\n"
   ]
  },
  {
   "cell_type": "code",
   "execution_count": 37,
   "metadata": {},
   "outputs": [
    {
     "data": {
      "text/plain": [
       "Text(0.5, 1.0, 'One dot is the chat rate of one user')"
      ]
     },
     "execution_count": 37,
     "metadata": {},
     "output_type": "execute_result"
    },
    {
     "data": {
      "image/png": "[encoded data removed]",
      "text/plain": [
       "<Figure size 432x288 with 1 Axes>"
      ]
     },
     "metadata": {
      "needs_background": "light"
     },
     "output_type": "display_data"
    }
   ],
   "source": [
    "g.plot_with_time(x='time_start',y='chats_per_2min',data=chat_rates)\n",
    "plt.title('One dot is the chat rate of one user')"
   ]
  },
  {
   "cell_type": "markdown",
   "metadata": {},
   "source": [
    "### Result"
   ]
  },
  {
   "cell_type": "code",
   "execution_count": 39,
   "metadata": {},
   "outputs": [
    {
     "data": {
      "text/html": [
       "<div>\n",
       "<style scoped>\n",
       "    .dataframe tbody tr th:only-of-type {\n",
       "        vertical-align: middle;\n",
       "    }\n",
       "\n",
       "    .dataframe tbody tr th {\n",
       "        vertical-align: top;\n",
       "    }\n",
       "\n",
       "    .dataframe thead th {\n",
       "        text-align: right;\n",
       "    }\n",
       "</style>\n",
       "<table border=\"1\" class=\"dataframe\">\n",
       "  <thead>\n",
       "    <tr style=\"text-align: right;\">\n",
       "      <th></th>\n",
       "      <th>hour</th>\n",
       "      <th>chunk</th>\n",
       "      <th>time_start</th>\n",
       "      <th>time_end</th>\n",
       "      <th>_id</th>\n",
       "      <th>num_chats</th>\n",
       "      <th>chats_per_2min</th>\n",
       "      <th>elapsed</th>\n",
       "    </tr>\n",
       "  </thead>\n",
       "  <tbody>\n",
       "    <tr>\n",
       "      <th>1127</th>\n",
       "      <td>7</td>\n",
       "      <td>0</td>\n",
       "      <td>2021-03-20 05:04:52.155000+00:00</td>\n",
       "      <td>2021-03-20 05:04:54.993000+00:00</td>\n",
       "      <td>488814751</td>\n",
       "      <td>1</td>\n",
       "      <td>42.283298</td>\n",
       "      <td>0 days 00:00:02.838000</td>\n",
       "    </tr>\n",
       "    <tr>\n",
       "      <th>1128</th>\n",
       "      <td>7</td>\n",
       "      <td>1</td>\n",
       "      <td>2021-03-20 05:04:52.155000+00:00</td>\n",
       "      <td>2021-03-20 05:04:54.993000+00:00</td>\n",
       "      <td>479407171</td>\n",
       "      <td>1</td>\n",
       "      <td>42.283298</td>\n",
       "      <td>0 days 00:00:02.838000</td>\n",
       "    </tr>\n",
       "    <tr>\n",
       "      <th>489</th>\n",
       "      <td>2</td>\n",
       "      <td>0</td>\n",
       "      <td>2021-03-20 00:44:05.361000+00:00</td>\n",
       "      <td>2021-03-20 00:44:32.755000+00:00</td>\n",
       "      <td>495717828</td>\n",
       "      <td>4</td>\n",
       "      <td>17.522085</td>\n",
       "      <td>0 days 00:00:27.394000</td>\n",
       "    </tr>\n",
       "    <tr>\n",
       "      <th>1112</th>\n",
       "      <td>6</td>\n",
       "      <td>0</td>\n",
       "      <td>2021-03-20 04:56:50.318000+00:00</td>\n",
       "      <td>2021-03-20 04:57:39.408000+00:00</td>\n",
       "      <td>488814751</td>\n",
       "      <td>7</td>\n",
       "      <td>17.111428</td>\n",
       "      <td>0 days 00:00:49.090000</td>\n",
       "    </tr>\n",
       "    <tr>\n",
       "      <th>1130</th>\n",
       "      <td>7</td>\n",
       "      <td>1</td>\n",
       "      <td>2021-03-20 05:06:59.917000+00:00</td>\n",
       "      <td>2021-03-20 05:08:45.674000+00:00</td>\n",
       "      <td>488814751</td>\n",
       "      <td>11</td>\n",
       "      <td>12.481443</td>\n",
       "      <td>0 days 00:01:45.757000</td>\n",
       "    </tr>\n",
       "  </tbody>\n",
       "</table>\n",
       "</div>"
      ],
      "text/plain": [
       "     hour chunk                       time_start  \\\n",
       "1127    7     0 2021-03-20 05:04:52.155000+00:00   \n",
       "1128    7     1 2021-03-20 05:04:52.155000+00:00   \n",
       "489     2     0 2021-03-20 00:44:05.361000+00:00   \n",
       "1112    6     0 2021-03-20 04:56:50.318000+00:00   \n",
       "1130    7     1 2021-03-20 05:06:59.917000+00:00   \n",
       "\n",
       "                             time_end        _id num_chats  chats_per_2min  \\\n",
       "1127 2021-03-20 05:04:54.993000+00:00  488814751         1       42.283298   \n",
       "1128 2021-03-20 05:04:54.993000+00:00  479407171         1       42.283298   \n",
       "489  2021-03-20 00:44:32.755000+00:00  495717828         4       17.522085   \n",
       "1112 2021-03-20 04:57:39.408000+00:00  488814751         7       17.111428   \n",
       "1130 2021-03-20 05:08:45.674000+00:00  488814751        11       12.481443   \n",
       "\n",
       "                    elapsed  \n",
       "1127 0 days 00:00:02.838000  \n",
       "1128 0 days 00:00:02.838000  \n",
       "489  0 days 00:00:27.394000  \n",
       "1112 0 days 00:00:49.090000  \n",
       "1130 0 days 00:01:45.757000  "
      ]
     },
     "execution_count": 39,
     "metadata": {},
     "output_type": "execute_result"
    }
   ],
   "source": [
    "chat_rates.sort_values('chats_per_2min', ascending=False).head()"
   ]
  },
  {
   "cell_type": "code",
   "execution_count": 40,
   "metadata": {},
   "outputs": [
    {
     "data": {
      "text/html": [
       "<div>\n",
       "<style scoped>\n",
       "    .dataframe tbody tr th:only-of-type {\n",
       "        vertical-align: middle;\n",
       "    }\n",
       "\n",
       "    .dataframe tbody tr th {\n",
       "        vertical-align: top;\n",
       "    }\n",
       "\n",
       "    .dataframe thead th {\n",
       "        text-align: right;\n",
       "    }\n",
       "</style>\n",
       "<table border=\"1\" class=\"dataframe\">\n",
       "  <thead>\n",
       "    <tr style=\"text-align: right;\">\n",
       "      <th></th>\n",
       "      <th>start</th>\n",
       "      <th>end</th>\n",
       "      <th>chats_per_2min</th>\n",
       "    </tr>\n",
       "  </thead>\n",
       "  <tbody>\n",
       "    <tr>\n",
       "      <th>180</th>\n",
       "      <td>2021-03-20 05:04:52.155000+00:00</td>\n",
       "      <td>2021-03-20 05:04:54.993000+00:00</td>\n",
       "      <td>42.283298</td>\n",
       "    </tr>\n",
       "    <tr>\n",
       "      <th>75</th>\n",
       "      <td>2021-03-20 00:44:05.361000+00:00</td>\n",
       "      <td>2021-03-20 00:44:32.755000+00:00</td>\n",
       "      <td>17.522085</td>\n",
       "    </tr>\n",
       "    <tr>\n",
       "      <th>176</th>\n",
       "      <td>2021-03-20 04:56:50.318000+00:00</td>\n",
       "      <td>2021-03-20 04:57:39.408000+00:00</td>\n",
       "      <td>8.148299</td>\n",
       "    </tr>\n",
       "    <tr>\n",
       "      <th>72</th>\n",
       "      <td>2021-03-20 00:38:00.175000+00:00</td>\n",
       "      <td>2021-03-20 00:39:54.699000+00:00</td>\n",
       "      <td>5.239077</td>\n",
       "    </tr>\n",
       "    <tr>\n",
       "      <th>13</th>\n",
       "      <td>2021-03-19 22:26:32.919000+00:00</td>\n",
       "      <td>2021-03-19 22:28:31.230000+00:00</td>\n",
       "      <td>4.564242</td>\n",
       "    </tr>\n",
       "  </tbody>\n",
       "</table>\n",
       "</div>"
      ],
      "text/plain": [
       "                               start                              end  \\\n",
       "180 2021-03-20 05:04:52.155000+00:00 2021-03-20 05:04:54.993000+00:00   \n",
       "75  2021-03-20 00:44:05.361000+00:00 2021-03-20 00:44:32.755000+00:00   \n",
       "176 2021-03-20 04:56:50.318000+00:00 2021-03-20 04:57:39.408000+00:00   \n",
       "72  2021-03-20 00:38:00.175000+00:00 2021-03-20 00:39:54.699000+00:00   \n",
       "13  2021-03-19 22:26:32.919000+00:00 2021-03-19 22:28:31.230000+00:00   \n",
       "\n",
       "     chats_per_2min  \n",
       "180       42.283298  \n",
       "75        17.522085  \n",
       "176        8.148299  \n",
       "72         5.239077  \n",
       "13         4.564242  "
      ]
     },
     "execution_count": 40,
     "metadata": {},
     "output_type": "execute_result"
    }
   ],
   "source": [
    "result = chat_rates.groupby(['time_start','time_end']).mean().reset_index()\n",
    "result = result.sort_values('chats_per_2min', ascending=False)\n",
    "result.columns = ['start','end','chats_per_2min']\n",
    "result.head()"
   ]
  },
  {
   "cell_type": "code",
   "execution_count": 41,
   "metadata": {},
   "outputs": [
    {
     "data": {
      "text/plain": [
       "Text(0.5, 1.0, 'Mean user chat rate per 2min chunk')"
      ]
     },
     "execution_count": 41,
     "metadata": {},
     "output_type": "execute_result"
    },
    {
     "data": {
      "image/png": "[encoded data removed]",
      "text/plain": [
       "<Figure size 432x288 with 1 Axes>"
      ]
     },
     "metadata": {
      "needs_background": "light"
     },
     "output_type": "display_data"
    }
   ],
   "source": [
    "g.plot_with_time(x='start',y='chats_per_2min',data=result)\n",
    "plt.title(\"Mean user chat rate per 2min chunk\")"
   ]
  },
  {
   "cell_type": "code",
   "execution_count": 44,
   "metadata": {},
   "outputs": [
    {
     "name": "stdout",
     "output_type": "stream",
     "text": [
      "Saved to data/algo2_mean_rate_per_2min.json\n"
     ]
    }
   ],
   "source": [
    "d.save_json(d.results_jsonified(result,first_stamp, 'chats_per_2min'), 'algo2_mean_rate_per_2min')"
   ]
  },
  {
   "cell_type": "markdown",
   "metadata": {},
   "source": [
    "### Total chat rate per chunk"
   ]
  },
  {
   "cell_type": "code",
   "execution_count": 27,
   "metadata": {},
   "outputs": [],
   "source": [
    "def big_rate_finder(dataframe, x=2):\n",
    "    '''\n",
    "    Finds the overall chat rate per X minutes, regardless of chatter ID\n",
    "    '''\n",
    "    \n",
    "    dataframe = dataframe.sort_values('created_at')\n",
    "    seconds = dt.timedelta.total_seconds(dataframe.iloc[-1,0] - dataframe.iloc[0,0])\n",
    "    messages = len(dataframe['body'])\n",
    "    \n",
    "    if seconds != 0:\n",
    "        rate = (messages/seconds) * 60 * x\n",
    "    else:\n",
    "        rate = (messages/120) * 60 * x\n",
    "    \n",
    "    return rate"
   ]
  },
  {
   "cell_type": "code",
   "execution_count": 28,
   "metadata": {},
   "outputs": [],
   "source": [
    "chunk_rates = {}\n",
    "for i in range(len(chunk_list)):\n",
    "    rate = big_rate_finder(chunk_list[i])\n",
    "    chunk_rates[i] = [rate]"
   ]
  },
  {
   "cell_type": "code",
   "execution_count": 30,
   "metadata": {},
   "outputs": [],
   "source": [
    "chunk_rates = pd.DataFrame(chunk_rates).T.reset_index()\n",
    "chunk_rates.columns = ['chunk','chat_per_2min']"
   ]
  },
  {
   "cell_type": "code",
   "execution_count": 58,
   "metadata": {},
   "outputs": [
    {
     "data": {
      "text/plain": [
       "<matplotlib.legend.Legend at 0x7f579396eac8>"
      ]
     },
     "execution_count": 58,
     "metadata": {},
     "output_type": "execute_result"
    },
    {
     "data": {
      "image/png": "[encoded data removed]",
      "text/plain": [
       "<Figure size 432x288 with 1 Axes>"
      ]
     },
     "metadata": {
      "needs_background": "light"
     },
     "output_type": "display_data"
    }
   ],
   "source": [
    "sns.lineplot(x='chunk',y='chat_per_2min',data=chunk_rates)\n",
    "plt.title(\"Chat per 2min\")\n",
    "x=0\n",
    "for i in range(29,200):\n",
    "    if i % 30 == 0:\n",
    "        x+=1\n",
    "        plt.vlines(i, ymin=0, ymax=80, colors='red',linestyles='--',label=f'Hour {x}-{x+1}')\n",
    "plt.legend(bbox_to_anchor=(1,1))"
   ]
  },
  {
   "cell_type": "markdown",
   "metadata": {},
   "source": [
    "## Per hour"
   ]
  },
  {
   "cell_type": "code",
   "execution_count": 51,
   "metadata": {},
   "outputs": [],
   "source": [
    "hour_rates = {}\n",
    "for i in range(len(hour_list)):\n",
    "    rate = big_rate_finder(hour_list[i])\n",
    "    hour_rates[i] = [rate]"
   ]
  },
  {
   "cell_type": "code",
   "execution_count": 52,
   "metadata": {},
   "outputs": [],
   "source": [
    "hour_rates = pd.DataFrame(hour_rates).T.reset_index()\n",
    "hour_rates.columns = ['hour','chat_per_2min']"
   ]
  },
  {
   "cell_type": "code",
   "execution_count": 53,
   "metadata": {},
   "outputs": [
    {
     "data": {
      "text/plain": [
       "Text(0.5, 1.0, 'Chat per 2min')"
      ]
     },
     "execution_count": 53,
     "metadata": {},
     "output_type": "execute_result"
    },
    {
     "data": {
      "image/png": "[encoded data removed]",
      "text/plain": [
       "<Figure size 432x288 with 1 Axes>"
      ]
     },
     "metadata": {
      "needs_background": "light"
     },
     "output_type": "display_data"
    }
   ],
   "source": [
    "sns.lineplot(x='hour',y='chat_per_2min',data=hour_rates)\n",
    "plt.title(\"Chat per 2min\")"
   ]
  },
  {
   "cell_type": "markdown",
   "metadata": {},
   "source": [
    "__Interpretation__: Hours 0,1,7 had the most chat activity overall. "
   ]
  },
  {
   "cell_type": "code",
   "execution_count": null,
   "metadata": {},
   "outputs": [],
   "source": []
  }
 ],
 "metadata": {
  "kernelspec": {
   "display_name": "Data Env",
   "language": "python",
   "name": "data_env"
  },
  "language_info": {
   "codemirror_mode": {
    "name": "ipython",
    "version": 3
   },
   "file_extension": ".py",
   "mimetype": "text/x-python",
   "name": "python",
   "nbconvert_exporter": "python",
   "pygments_lexer": "ipython3",
   "version": "3.6.12"
  }
 },
 "nbformat": 4,
 "nbformat_minor": 4
}
