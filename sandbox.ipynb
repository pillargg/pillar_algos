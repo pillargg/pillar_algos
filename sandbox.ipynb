{
 "cells": [
  {
   "cell_type": "code",
   "execution_count": 4,
   "metadata": {},
   "outputs": [],
   "source": [
    "import pandas as pd"
   ]
  },
  {
   "cell_type": "code",
   "execution_count": 13,
   "metadata": {},
   "outputs": [],
   "source": [
    "all_tables = pd.read_html('https://www.twitch.tv/creatorcamp/en/learn-the-basics/emotes/', header=0)\n",
    "emoticons = all_tables[0].drop('Emote',axis=1)"
   ]
  },
  {
   "cell_type": "code",
   "execution_count": 14,
   "metadata": {},
   "outputs": [],
   "source": [
    "emoticons['Category'] = ''"
   ]
  },
  {
   "cell_type": "code",
   "execution_count": 18,
   "metadata": {},
   "outputs": [],
   "source": [
    "emoticons.to_csv('data/emoticons.csv', index=False)"
   ]
  },
  {
   "cell_type": "markdown",
   "metadata": {},
   "source": [
    "# Samples"
   ]
  },
  {
   "cell_type": "code",
   "execution_count": 35,
   "metadata": {},
   "outputs": [],
   "source": [
    "from pillaralgos import algo2\n",
    "import pillaralgos_dev as p_dev\n",
    "from pillaralgos_dev import dev_helpers as dev_help\n",
    "import json"
   ]
  },
  {
   "cell_type": "code",
   "execution_count": 39,
   "metadata": {},
   "outputs": [
    {
     "ename": "IndexError",
     "evalue": "index 0 is out of bounds for axis 0 with size 0",
     "output_type": "error",
     "traceback": [
      "\u001b[0;31m---------------------------------------------------------------------------\u001b[0m",
      "\u001b[0;31mIndexError\u001b[0m                                Traceback (most recent call last)",
      "\u001b[0;32m<ipython-input-39-c563df4362ca>\u001b[0m in \u001b[0;36m<module>\u001b[0;34m\u001b[0m\n\u001b[1;32m      1\u001b[0m \u001b[0maws\u001b[0m \u001b[0;34m=\u001b[0m \u001b[0mdev_help\u001b[0m\u001b[0;34m.\u001b[0m\u001b[0mawsBucketAPI\u001b[0m\u001b[0;34m(\u001b[0m\u001b[0;34m)\u001b[0m\u001b[0;34m\u001b[0m\u001b[0;34m\u001b[0m\u001b[0m\n\u001b[0;32m----> 2\u001b[0;31m \u001b[0maws\u001b[0m\u001b[0;34m.\u001b[0m\u001b[0mget_top_filenames\u001b[0m\u001b[0;34m(\u001b[0m\u001b[0;34m)\u001b[0m\u001b[0;34m\u001b[0m\u001b[0;34m\u001b[0m\u001b[0m\n\u001b[0m",
      "\u001b[0;32m~/opt/miniconda3/envs/pillar_env/lib/python3.8/site-packages/pillaralgos_dev/dev_helpers.py\u001b[0m in \u001b[0;36mget_top_filenames\u001b[0;34m(self, save)\u001b[0m\n\u001b[1;32m     88\u001b[0m             \u001b[0;31m# otherwise just use the middle index\u001b[0m\u001b[0;34m\u001b[0m\u001b[0;34m\u001b[0m\u001b[0;34m\u001b[0m\u001b[0m\n\u001b[1;32m     89\u001b[0m             mid_size = df_objects.iloc[\n\u001b[0;32m---> 90\u001b[0;31m                 \u001b[0mmedian_indices\u001b[0m\u001b[0;34m[\u001b[0m\u001b[0;36m0\u001b[0m\u001b[0;34m]\u001b[0m \u001b[0;34m-\u001b[0m \u001b[0;36m3\u001b[0m \u001b[0;34m:\u001b[0m \u001b[0mmedian_indices\u001b[0m\u001b[0;34m[\u001b[0m\u001b[0;36m0\u001b[0m\u001b[0;34m]\u001b[0m \u001b[0;34m+\u001b[0m \u001b[0;36m3\u001b[0m\u001b[0;34m,\u001b[0m \u001b[0;34m:\u001b[0m\u001b[0;34m\u001b[0m\u001b[0;34m\u001b[0m\u001b[0m\n\u001b[0m\u001b[1;32m     91\u001b[0m             ][\"Key\"].values\n\u001b[1;32m     92\u001b[0m \u001b[0;34m\u001b[0m\u001b[0m\n",
      "\u001b[0;32m~/opt/miniconda3/envs/pillar_env/lib/python3.8/site-packages/pandas/core/indexes/base.py\u001b[0m in \u001b[0;36m__getitem__\u001b[0;34m(self, key)\u001b[0m\n\u001b[1;32m   4295\u001b[0m         \u001b[0;32mif\u001b[0m \u001b[0mis_scalar\u001b[0m\u001b[0;34m(\u001b[0m\u001b[0mkey\u001b[0m\u001b[0;34m)\u001b[0m\u001b[0;34m:\u001b[0m\u001b[0;34m\u001b[0m\u001b[0;34m\u001b[0m\u001b[0m\n\u001b[1;32m   4296\u001b[0m             \u001b[0mkey\u001b[0m \u001b[0;34m=\u001b[0m \u001b[0mcom\u001b[0m\u001b[0;34m.\u001b[0m\u001b[0mcast_scalar_indexer\u001b[0m\u001b[0;34m(\u001b[0m\u001b[0mkey\u001b[0m\u001b[0;34m,\u001b[0m \u001b[0mwarn_float\u001b[0m\u001b[0;34m=\u001b[0m\u001b[0;32mTrue\u001b[0m\u001b[0;34m)\u001b[0m\u001b[0;34m\u001b[0m\u001b[0;34m\u001b[0m\u001b[0m\n\u001b[0;32m-> 4297\u001b[0;31m             \u001b[0;32mreturn\u001b[0m \u001b[0mgetitem\u001b[0m\u001b[0;34m(\u001b[0m\u001b[0mkey\u001b[0m\u001b[0;34m)\u001b[0m\u001b[0;34m\u001b[0m\u001b[0;34m\u001b[0m\u001b[0m\n\u001b[0m\u001b[1;32m   4298\u001b[0m \u001b[0;34m\u001b[0m\u001b[0m\n\u001b[1;32m   4299\u001b[0m         \u001b[0;32mif\u001b[0m \u001b[0misinstance\u001b[0m\u001b[0;34m(\u001b[0m\u001b[0mkey\u001b[0m\u001b[0;34m,\u001b[0m \u001b[0mslice\u001b[0m\u001b[0;34m)\u001b[0m\u001b[0;34m:\u001b[0m\u001b[0;34m\u001b[0m\u001b[0;34m\u001b[0m\u001b[0m\n",
      "\u001b[0;31mIndexError\u001b[0m: index 0 is out of bounds for axis 0 with size 0"
     ]
    }
   ],
   "source": [
    "aws = dev_help.awsBucketAPI()\n",
    "aws.get_top_filenames()"
   ]
  },
  {
   "cell_type": "code",
   "execution_count": 40,
   "metadata": {},
   "outputs": [],
   "source": [
    "aws.get_bucket_name()"
   ]
  },
  {
   "cell_type": "code",
   "execution_count": 45,
   "metadata": {},
   "outputs": [],
   "source": [
    "objects = aws.s3c.list_objects(Bucket = aws.chat_bucket)"
   ]
  },
  {
   "cell_type": "code",
   "execution_count": 51,
   "metadata": {},
   "outputs": [],
   "source": [
    "content = pd.DataFrame.from_records(objects['Contents'])[[\"Key\", \"LastModified\", \"Size\"]]"
   ]
  },
  {
   "cell_type": "code",
   "execution_count": 54,
   "metadata": {},
   "outputs": [],
   "source": [
    "df_c = content.sort_values(\"Size\").reset_index(drop=True)"
   ]
  },
  {
   "cell_type": "code",
   "execution_count": 71,
   "metadata": {},
   "outputs": [
    {
     "data": {
      "text/plain": [
       "0             2\n",
       "10         2407\n",
       "11         7985\n",
       "12        40896\n",
       "13       116095\n",
       "         ...   \n",
       "215    60727847\n",
       "216    62611555\n",
       "217    67521985\n",
       "218    71842112\n",
       "219    92066457\n",
       "Name: Size, Length: 211, dtype: int64"
      ]
     },
     "execution_count": 71,
     "metadata": {},
     "output_type": "execute_result"
    }
   ],
   "source": [
    "df_c['Size'].drop_duplicates()"
   ]
  },
  {
   "cell_type": "code",
   "execution_count": 81,
   "metadata": {},
   "outputs": [
    {
     "data": {
      "text/plain": [
       "220"
      ]
     },
     "execution_count": 81,
     "metadata": {},
     "output_type": "execute_result"
    }
   ],
   "source": [
    "len(df_c)"
   ]
  },
  {
   "cell_type": "code",
   "execution_count": 86,
   "metadata": {},
   "outputs": [
    {
     "data": {
      "text/plain": [
       "0"
      ]
     },
     "execution_count": 86,
     "metadata": {},
     "output_type": "execute_result"
    }
   ],
   "source": [
    "len(df_c) % 2"
   ]
  },
  {
   "cell_type": "code",
   "execution_count": 98,
   "metadata": {},
   "outputs": [
    {
     "name": "stdout",
     "output_type": "stream",
     "text": [
      "219\n"
     ]
    }
   ],
   "source": [
    "if len(df_c) % 2 == 0:\n",
    "    temp_df = df_c.iloc[1:,:]\n",
    "    print(len(temp_df))\n",
    "    median_size = temp_df['Size'].median()\n",
    "else:\n",
    "    median_size = df_c[\"Size\"].median()"
   ]
  },
  {
   "cell_type": "code",
   "execution_count": 99,
   "metadata": {},
   "outputs": [
    {
     "data": {
      "text/plain": [
       "6974234.0"
      ]
     },
     "execution_count": 99,
     "metadata": {},
     "output_type": "execute_result"
    }
   ],
   "source": [
    "median_size"
   ]
  },
  {
   "cell_type": "code",
   "execution_count": 100,
   "metadata": {},
   "outputs": [
    {
     "data": {
      "text/html": [
       "<div>\n",
       "<style scoped>\n",
       "    .dataframe tbody tr th:only-of-type {\n",
       "        vertical-align: middle;\n",
       "    }\n",
       "\n",
       "    .dataframe tbody tr th {\n",
       "        vertical-align: top;\n",
       "    }\n",
       "\n",
       "    .dataframe thead th {\n",
       "        text-align: right;\n",
       "    }\n",
       "</style>\n",
       "<table border=\"1\" class=\"dataframe\">\n",
       "  <thead>\n",
       "    <tr style=\"text-align: right;\">\n",
       "      <th></th>\n",
       "      <th>Key</th>\n",
       "      <th>LastModified</th>\n",
       "      <th>Size</th>\n",
       "    </tr>\n",
       "  </thead>\n",
       "  <tbody>\n",
       "    <tr>\n",
       "      <th>110</th>\n",
       "      <td>1002674602</td>\n",
       "      <td>2021-04-27 23:10:37+00:00</td>\n",
       "      <td>6974234</td>\n",
       "    </tr>\n",
       "  </tbody>\n",
       "</table>\n",
       "</div>"
      ],
      "text/plain": [
       "            Key              LastModified     Size\n",
       "110  1002674602 2021-04-27 23:10:37+00:00  6974234"
      ]
     },
     "execution_count": 100,
     "metadata": {},
     "output_type": "execute_result"
    }
   ],
   "source": [
    "df_c[df_c['Size'] == median_size]"
   ]
  },
  {
   "cell_type": "code",
   "execution_count": 38,
   "metadata": {},
   "outputs": [
    {
     "name": "stdout",
     "output_type": "stream",
     "text": [
      "Help on awsBucketAPI in module pillaralgos_dev.dev_helpers object:\n",
      "\n",
      "class awsBucketAPI(builtins.object)\n",
      " |  Methods defined here:\n",
      " |  \n",
      " |  __init__(self)\n",
      " |      Initializes connection to AWS bucket.\n",
      " |      \n",
      " |      NOTE:\n",
      " |          Must have AWS CLI installed and configured using `aws configure`\n",
      " |      HOW TO:\n",
      " |          aws = awsBucketAPI()\n",
      " |          results = aws.get_top_file_sizes(save=False)\n",
      " |          names = aws.get_random_file_names(n=5)\n",
      " |          aws.save_files(names)\n",
      " |  \n",
      " |  get_bucket_name(self)\n",
      " |      Grabs the twitch chat bucket name, as long as its the only one that contains\n",
      " |      \"messagestore\" in it. Returns False if more than one match.\n",
      " |  \n",
      " |  get_random_filenames(self, n, save=False)\n",
      " |      Randomly select `n` files in the bucket, returns the filenames as an array\n",
      " |  \n",
      " |  get_top_filenames(self, save=False)\n",
      " |      Retrieves 16 file names: the top 5 smallest files, top 5 largest files, and\n",
      " |      3 files +/- 3 from the median size's index.\n",
      " |      \n",
      " |      input\n",
      " |      -----\n",
      " |      save: bool\n",
      " |          True if the files should be saved to data/*.json. Calls self.save_files.\n",
      " |      \n",
      " |      output\n",
      " |      ------\n",
      " |      results: dict\n",
      " |          Dictionary of small/medium/large_files:[list of filenames]\n",
      " |  \n",
      " |  save_files(self, filename_list, prefix='', suffix='')\n",
      " |      Downloads into data folder as file.json\n",
      " |      \n",
      " |      input\n",
      " |      -----\n",
      " |      filename_list: list\n",
      " |          List of strings, where the string represents object name in aws\n",
      " |      prefix/suffix: str\n",
      " |          Adds prefix/suffix with \"_\" to the filename of each object in list\n",
      " |  \n",
      " |  save_specific_file(self, filename, suffix='', prefix='')\n",
      " |      Downloads a specific file from aws bucket, saving to data/ folder as one of:\n",
      " |          - filename.json\n",
      " |          - prefix_filename.json\n",
      " |          - filename_suffix.json\n",
      " |          - prefix_filename_suffix.json\n",
      " |  \n",
      " |  ----------------------------------------------------------------------\n",
      " |  Data descriptors defined here:\n",
      " |  \n",
      " |  __dict__\n",
      " |      dictionary for instance variables (if defined)\n",
      " |  \n",
      " |  __weakref__\n",
      " |      list of weak references to the object (if defined)\n",
      "\n"
     ]
    }
   ],
   "source": [
    "help(aws)"
   ]
  },
  {
   "cell_type": "code",
   "execution_count": 18,
   "metadata": {},
   "outputs": [],
   "source": [
    "data = json.load(open('data/1002674602.json'))"
   ]
  },
  {
   "cell_type": "code",
   "execution_count": 23,
   "metadata": {},
   "outputs": [],
   "source": [
    "df = pd.DataFrame.from_records(data)"
   ]
  },
  {
   "cell_type": "code",
   "execution_count": 32,
   "metadata": {},
   "outputs": [
    {
     "data": {
      "text/plain": [
       "5055    {'display_name': 'InTheFlesh', '_id': '3826061...\n",
       "Name: commenter, dtype: object"
      ]
     },
     "execution_count": 32,
     "metadata": {},
     "output_type": "execute_result"
    }
   ],
   "source": [
    "df['commenter'].sample(1)"
   ]
  },
  {
   "cell_type": "code",
   "execution_count": 33,
   "metadata": {},
   "outputs": [
    {
     "data": {
      "text/plain": [
       "{'display_name': 'InTheFlesh',\n",
       " '_id': '38260618',\n",
       " 'name': 'intheflesh',\n",
       " 'type': 'user',\n",
       " 'bio': 'Hi',\n",
       " 'created_at': '2012-12-06T18:11:48.178418Z',\n",
       " 'updated_at': '2021-04-25T22:12:46.177565Z',\n",
       " 'logo': 'https://static-cdn.jtvnw.net/jtv_user_pictures/35358475-adf8-4adf-beec-e0b3105979e5-profile_image-300x300.png'}"
      ]
     },
     "execution_count": 33,
     "metadata": {},
     "output_type": "execute_result"
    }
   ],
   "source": [
    "df['commenter'].iloc[5055]"
   ]
  },
  {
   "cell_type": "code",
   "execution_count": 34,
   "metadata": {},
   "outputs": [
    {
     "data": {
      "text/plain": [
       "{'body': 'LMFAO',\n",
       " 'fragments': [{'text': 'LMFAO'}],\n",
       " 'is_action': False,\n",
       " 'user_badges': [{'_id': 'subscriber', 'version': '12'},\n",
       "  {'_id': 'battlerite_1', 'version': '1'}],\n",
       " 'user_color': '#0036CC',\n",
       " 'user_notice_params': {}}"
      ]
     },
     "execution_count": 34,
     "metadata": {},
     "output_type": "execute_result"
    }
   ],
   "source": [
    "df.iloc[5055,-1]"
   ]
  },
  {
   "cell_type": "markdown",
   "metadata": {},
   "source": [
    "# Description"
   ]
  },
  {
   "cell_type": "markdown",
   "metadata": {},
   "source": [
    "Notebook to explore data, recreate bugs, solve bugs"
   ]
  },
  {
   "cell_type": "code",
   "execution_count": 3,
   "metadata": {},
   "outputs": [],
   "source": [
    "from pillaralgos import algo2\n",
    "import pillaralgos_dev as p_dev\n",
    "from pillaralgos_dev import dev_helpers as dev_help\n",
    "import json"
   ]
  },
  {
   "cell_type": "code",
   "execution_count": 2,
   "metadata": {},
   "outputs": [],
   "source": [
    "buggy_file = '981828174'\n",
    "def bug_handler(buggy_file, algo):\n",
    "    '''\n",
    "    Simple function to run reported file and files in data folder through a function\n",
    "    '''\n",
    "    aws = p_dev.awsBucketAPI()\n",
    "    aws.save_specific_file(buggy_file)\n",
    "    data = json.load(open(f'data/{buggy_file}.json'))\n",
    "    try:\n",
    "        json_result = algo.run(data)\n",
    "    except Exception as e:\n",
    "        print(\"FAILED\")\n",
    "        print(e)\n",
    "\n",
    "    import os\n",
    "    files = os.listdir('data/')\n",
    "    new_files = [f for f in files if '.json' in f and 'big_data' not in f]\n",
    "\n",
    "    algoworked = []\n",
    "    algofailed = []\n",
    "    results = {}\n",
    "    for file in new_files:\n",
    "        try:\n",
    "            data = json.load(open(f'data/{file}'))\n",
    "            results[file] = algo.run(data)\n",
    "            algoworked.append(file)\n",
    "        except:\n",
    "            algofailed.append(file)\n",
    "    return algoworked, algofailed, results"
   ]
  },
  {
   "cell_type": "markdown",
   "metadata": {},
   "source": [
    "# Unit Test creations"
   ]
  },
  {
   "cell_type": "code",
   "execution_count": 1,
   "metadata": {},
   "outputs": [],
   "source": [
    "import json\n",
    "import pandas as pd"
   ]
  },
  {
   "cell_type": "code",
   "execution_count": 3,
   "metadata": {},
   "outputs": [],
   "source": [
    "data = json.load(open(\"pypi/prod/test/sample_data/sample_med.json\"))"
   ]
  },
  {
   "cell_type": "code",
   "execution_count": 6,
   "metadata": {},
   "outputs": [],
   "source": [
    "from pillaralgos.helpers import data_handler as dh"
   ]
  },
  {
   "cell_type": "code",
   "execution_count": 39,
   "metadata": {},
   "outputs": [],
   "source": [
    "from pillaralgos import algo1, algo2, algo3_0, algo3_5"
   ]
  },
  {
   "cell_type": "code",
   "execution_count": 37,
   "metadata": {},
   "outputs": [],
   "source": [
    "json_re1 = algo1.run(data,min_=0.5, limit=10, sort_by='rel',save_json=False)"
   ]
  },
  {
   "cell_type": "code",
   "execution_count": 40,
   "metadata": {},
   "outputs": [
    {
     "name": "stderr",
     "output_type": "stream",
     "text": [
      "/home/jupyter-pomkos/.conda/envs/pillar_env/lib/python3.8/site-packages/pillaralgos/helpers/data_handler.py:278: SettingWithCopyWarning: \n",
      "A value is trying to be set on a copy of a slice from a DataFrame.\n",
      "Try using .loc[row_indexer,col_indexer] = value instead\n",
      "\n",
      "See the caveats in the documentation: https://pandas.pydata.org/pandas-docs/stable/user_guide/indexing.html#returning-a-view-versus-a-copy\n",
      "  chunk[\"hour\"] = i\n",
      "/home/jupyter-pomkos/.conda/envs/pillar_env/lib/python3.8/site-packages/pillaralgos/helpers/data_handler.py:279: SettingWithCopyWarning: \n",
      "A value is trying to be set on a copy of a slice from a DataFrame.\n",
      "Try using .loc[row_indexer,col_indexer] = value instead\n",
      "\n",
      "See the caveats in the documentation: https://pandas.pydata.org/pandas-docs/stable/user_guide/indexing.html#returning-a-view-versus-a-copy\n",
      "  chunk[\"chunk\"] = x\n"
     ]
    }
   ],
   "source": [
    "json_re2 = algo2.run(data,min_=0.5, limit=10,save_json=False)"
   ]
  },
  {
   "cell_type": "code",
   "execution_count": 43,
   "metadata": {},
   "outputs": [
    {
     "name": "stderr",
     "output_type": "stream",
     "text": [
      "/home/jupyter-pomkos/.conda/envs/pillar_env/lib/python3.8/site-packages/pillaralgos/helpers/data_handler.py:278: SettingWithCopyWarning: \n",
      "A value is trying to be set on a copy of a slice from a DataFrame.\n",
      "Try using .loc[row_indexer,col_indexer] = value instead\n",
      "\n",
      "See the caveats in the documentation: https://pandas.pydata.org/pandas-docs/stable/user_guide/indexing.html#returning-a-view-versus-a-copy\n",
      "  chunk[\"hour\"] = i\n",
      "/home/jupyter-pomkos/.conda/envs/pillar_env/lib/python3.8/site-packages/pillaralgos/helpers/data_handler.py:279: SettingWithCopyWarning: \n",
      "A value is trying to be set on a copy of a slice from a DataFrame.\n",
      "Try using .loc[row_indexer,col_indexer] = value instead\n",
      "\n",
      "See the caveats in the documentation: https://pandas.pydata.org/pandas-docs/stable/user_guide/indexing.html#returning-a-view-versus-a-copy\n",
      "  chunk[\"chunk\"] = x\n"
     ]
    }
   ],
   "source": [
    "json_re3 = algo3_0.run(data,min_=0.5, limit=10, min_words=10,save_json=False)"
   ]
  },
  {
   "cell_type": "code",
   "execution_count": 45,
   "metadata": {},
   "outputs": [
    {
     "name": "stderr",
     "output_type": "stream",
     "text": [
      "/home/jupyter-pomkos/.conda/envs/pillar_env/lib/python3.8/site-packages/pillaralgos/helpers/data_handler.py:278: SettingWithCopyWarning: \n",
      "A value is trying to be set on a copy of a slice from a DataFrame.\n",
      "Try using .loc[row_indexer,col_indexer] = value instead\n",
      "\n",
      "See the caveats in the documentation: https://pandas.pydata.org/pandas-docs/stable/user_guide/indexing.html#returning-a-view-versus-a-copy\n",
      "  chunk[\"hour\"] = i\n",
      "/home/jupyter-pomkos/.conda/envs/pillar_env/lib/python3.8/site-packages/pillaralgos/helpers/data_handler.py:279: SettingWithCopyWarning: \n",
      "A value is trying to be set on a copy of a slice from a DataFrame.\n",
      "Try using .loc[row_indexer,col_indexer] = value instead\n",
      "\n",
      "See the caveats in the documentation: https://pandas.pydata.org/pandas-docs/stable/user_guide/indexing.html#returning-a-view-versus-a-copy\n",
      "  chunk[\"chunk\"] = x\n"
     ]
    }
   ],
   "source": [
    "json_re3 = algo3_5.run(data,min_=0.5, limit=10, goal='num_emo',save_json=False)"
   ]
  },
  {
   "cell_type": "code",
   "execution_count": 46,
   "metadata": {},
   "outputs": [
    {
     "data": {
      "text/plain": [
       "[{'startTime': 0.0, 'endTime': 119.562},\n",
       " {'startTime': 765.512, 'endTime': 882.645},\n",
       " {'startTime': 891.677, 'endTime': 1008.99},\n",
       " {'startTime': 259.889, 'endTime': 375.413},\n",
       " {'startTime': 127.098, 'endTime': 234.249},\n",
       " {'startTime': 383.298, 'endTime': 495.599},\n",
       " {'startTime': 630.41, 'endTime': 741.233},\n",
       " {'startTime': 1018.379, 'endTime': 1131.467},\n",
       " {'startTime': 507.003, 'endTime': 626.884},\n",
       " {'startTime': 1138.629, 'endTime': 1256.19}]"
      ]
     },
     "execution_count": 46,
     "metadata": {},
     "output_type": "execute_result"
    }
   ],
   "source": [
    "\"\"\"\n",
    "This script finds the top 10 active users, timestamps where they participated,\n",
    "filtered by at least `min_words` number of words sent by the user per stamp\n",
    "\n",
    "HOW TO\n",
    "    algo3_0.run(data, min_=2, limit=10, min_words=5, save_json = False)\n",
    "\"\"\"\n",
    "import pandas as pd\n",
    "from helpers import data_handler as dh\n",
    "\n",
    "\n",
    "def thalamus(big_df, min_, goal, min_words):\n",
    "\n",
    "    id_words = id_words_counter(big_df)\n",
    "    first_stamp, chunk_list = dh.get_chunks(big_df)\n",
    "    top_chunks = new_chunk_list(id_words, chunk_list, min_words=min_words)\n",
    "    results = results_formatter(top_chunks, goal=\"num_top_user_appears\")\n",
    "\n",
    "    return results, first_stamp\n",
    "\n",
    "\n",
    "def results_formatter(list_chunk, goal):\n",
    "    \"\"\"\n",
    "    Creates a new df `results` that contains the total number of words in the dataframe, the time\n",
    "    the time the dataframe started and ended\n",
    "    input\n",
    "    -----\n",
    "    list_chunk: list\n",
    "        List of pd.DataFrame\n",
    "    goal: str\n",
    "        Col name that has calculated results (ex: num_words, chat_rate, etc.)\n",
    "    output\n",
    "    ------\n",
    "    results: pd.DataFrame\n",
    "        Dataframe with `start`, `end`, `num_words` columns\n",
    "    \"\"\"\n",
    "    time_start_list = []\n",
    "    time_end_list = []\n",
    "    goal_list = []\n",
    "\n",
    "    for chunk in list_chunk:\n",
    "        time_start_list.append(chunk.iloc[0, 0])  # assume created_at col is first\n",
    "        time_end_list.append(chunk.iloc[-1, 0])  # assume created_at col is first\n",
    "        goal_list.append(chunk[goal].sum())\n",
    "\n",
    "    results = pd.DataFrame(\n",
    "        {\"start\": time_start_list, \"end\": time_end_list, goal: goal_list}\n",
    "    )\n",
    "    results = results.sort_values(goal, ascending=False).drop_duplicates()\n",
    "    return results\n",
    "\n",
    "\n",
    "def new_chunk_list(id_words, chunk_list, min_words):\n",
    "    \"\"\"\n",
    "    Creates a new list of chunks, containing only chunks where top\n",
    "    users sent more than `min_words` words\n",
    "    \"\"\"\n",
    "    user_dict = {}  # store chunks of the top 10 users\n",
    "    for user in id_words.head(10)[\"_id\"]:\n",
    "        user_dict[user] = []\n",
    "    for user in user_dict.keys():\n",
    "        for chunk in chunk_list:\n",
    "            chunk[\"_id\"] = chunk[\"_id\"].astype(int)\n",
    "            if sum(chunk[\"_id\"] == user) > min_words:\n",
    "                user_dict[user].append(chunk)\n",
    "    top_chunks = []\n",
    "    for user, value in user_dict.items():\n",
    "        if len(value) > 0:\n",
    "            for chunk in value:\n",
    "                chunk[\"num_top_user_appears\"] = chunk[\"_id\"] == user\n",
    "                top_chunks.append(chunk)\n",
    "    return top_chunks\n",
    "\n",
    "\n",
    "def id_words_counter(big_df):\n",
    "    \"\"\"\n",
    "    Returns a dataframe with all user IDs and the number of words/emojis/combined\n",
    "    they each sent, sorted by top senders\n",
    "    \"\"\"\n",
    "    id_words = pd.DataFrame(columns=[\"_id\", \"num_words\", \"num_emoji\"])\n",
    "\n",
    "    for _id in big_df[\"_id\"].unique():\n",
    "        temp_df = big_df[big_df[\"_id\"] == _id]\n",
    "        words = temp_df[\"body\"].str.split(\" \")\n",
    "        emoji = temp_df[\"emoticons\"].apply(lambda x: 0 if type(x) == float else len(x))\n",
    "        num_emoji = emoji.sum()\n",
    "        num_words = words.apply(lambda x: len(x))\n",
    "\n",
    "        sum_words = num_words.sum()\n",
    "        id_words = id_words.append(\n",
    "            {\"_id\": _id, \"num_words\": sum_words, \"num_emoji\": num_emoji},\n",
    "            ignore_index=True,\n",
    "        )\n",
    "    id_words = id_words.astype({\"_id\": int, \"num_words\": int, \"num_emoji\": int})\n",
    "    id_words[\"only_words\"] = id_words[\"num_words\"] - id_words[\"num_emoji\"]\n",
    "    id_words = (\n",
    "        id_words.sort_values(\"only_words\", ascending=False)\n",
    "        .reset_index(drop=True)\n",
    "        .reset_index()\n",
    "    )\n",
    "    id_words = id_words.rename({\"index\": \"rank\"}, axis=1)\n",
    "    # Weight = \"num words / num words of biggest spammer\"\n",
    "    id_words[\"weight\"] = id_words[\"only_words\"] / id_words[\"only_words\"].max()\n",
    "\n",
    "    return id_words\n",
    "\n",
    "\n",
    "def run(data, min_=2, limit=10, min_words=5, save_json=False):\n",
    "    \"\"\"\n",
    "    Runs algo3_0 to extract only those chunks where the top 10 users participated.\n",
    "      - Top users are defined as \"sent the most words in the entire twitch stream\".\n",
    "      - Once top users are identified, only those chunks are returned where top users\n",
    "        sent at least `min_words` number of words.\n",
    "\n",
    "    input\n",
    "    ------\n",
    "    data: list\n",
    "        List of dictionaries of data from Twitch chat\n",
    "    min_: int\n",
    "        Approximate number of minutes each clip should be\n",
    "    limit: int\n",
    "        Number of rows/dictionaries/timestamps to return\n",
    "    min_words:int\n",
    "        When filtering chunks to top users, at least how many words the top user should send\n",
    "    save_json: bool\n",
    "        True if want to save results as json to exports folder\n",
    "\n",
    "    output\n",
    "    ------\n",
    "    json_results: list\n",
    "        List of dictionaries in json format, ordered from predicted best to worst candidates.\n",
    "            Ex: [{start:TIMESTAMP_INT, end:TIMESTAMP_INT}]\n",
    "    \"\"\"\n",
    "    data = pd.DataFrame.from_records(data)\n",
    "    big_df = dh.organize_twitch_chat(data)  # fetch appropriate data\n",
    "    if type(big_df) == pd.DataFrame:\n",
    "        results, first_stamp = thalamus(big_df, min_=min_, min_words=min_words, goal=\"num_top_user_appears\")\n",
    "        results = results.head(limit)\n",
    "\n",
    "        json_results = dh.results_jsonified(results, first_stamp, results_col=\"num_top_user_appears\")\n",
    "        if save_json:\n",
    "            dh.save_json(json_results, f\"algo3.0_top_user_appears\")\n",
    "\n",
    "        return json_results\n",
    "    else:\n",
    "        return big_df"
   ]
  },
  {
   "cell_type": "code",
   "execution_count": 1,
   "metadata": {},
   "outputs": [],
   "source": [
    "import pandas as pd\n",
    "import numpy as np"
   ]
  },
  {
   "cell_type": "code",
   "execution_count": 9,
   "metadata": {},
   "outputs": [],
   "source": [
    "sample_data = pd.DataFrame({\n",
    "    'part_id':[i for i in range(1,101)],\n",
    "    't1c1':np.random.normal(loc=5, size=100),\n",
    "    't1c2':np.random.normal(loc=5, size=100),\n",
    "    't2c1_a':np.random.normal(loc=5, size=100),\n",
    "    't2c1_b':np.random.normal(loc=5, size=100),\n",
    "    't2c2_a':np.random.normal(loc=5, size=100),\n",
    "    't2c2_b':np.random.normal(loc=5, size=100),\n",
    "})"
   ]
  },
  {
   "cell_type": "code",
   "execution_count": 10,
   "metadata": {},
   "outputs": [],
   "source": [
    "sample_data.to_csv(\"sample.csv\", index=False)"
   ]
  },
  {
   "cell_type": "code",
   "execution_count": null,
   "metadata": {},
   "outputs": [],
   "source": []
  }
 ],
 "metadata": {
  "kernelspec": {
   "display_name": "pillar_env2",
   "language": "python",
   "name": "pillar_env2"
  },
  "language_info": {
   "codemirror_mode": {
    "name": "ipython",
    "version": 3
   },
   "file_extension": ".py",
   "mimetype": "text/x-python",
   "name": "python",
   "nbconvert_exporter": "python",
   "pygments_lexer": "ipython3",
   "version": "3.8.8"
  }
 },
 "nbformat": 4,
 "nbformat_minor": 4
}
