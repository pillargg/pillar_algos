{
 "cells": [
  {
   "cell_type": "code",
   "execution_count": 2,
   "metadata": {},
   "outputs": [],
   "source": [
    "from pillaralgos_dev import dev_helpers as d\n",
    "import pandas as pd\n",
    "import numpy as np"
   ]
  },
  {
   "cell_type": "code",
   "execution_count": 3,
   "metadata": {},
   "outputs": [
    {
     "name": "stdout",
     "output_type": "stream",
     "text": [
      "['preprod-preprod-messagestore60e7afc8-1ifmftm19emtr', 'preprod-preprod-timestamps-messagestore60e7afc8-n0mp38o42apt', 'prod-prod-messagestore60e7afc8-z09kg03c2kxl', 'prod-prod-timestamps-messagestore60e7afc8-1vm3bcjkd4poh', 'prod-timestamps-messagestore60e7afc8-dmylgjgqhcij', 'prodtimestampsstack-messagestore60e7afc8-5dk4n5xry5p4', 'slstack-messagestore60e7afc8-10pxshwbhks35', 'slstack-messagestore60e7afc8-1en9skucbixbb', 'slstack-messagestore60e7afc8-fcvaaengplyv', 'slstack-messagestore60e7afc8-g9jj9kjw7qda']\n",
      "\n",
      "                Known buckets:\n",
      "                    Full chat records [1]: prod-prod-messagestore60e7afc8-z09kg03c2kxl\n",
      "                    CCC records [2]: prod-timestamps-messagestore60e7afc8-dmylgjgqhcij\n",
      "                \n"
     ]
    },
    {
     "name": "stdin",
     "output_type": "stream",
     "text": [
      "Choose the bucket (ex: 1, 2, or a full id):  2\n"
     ]
    },
    {
     "name": "stdout",
     "output_type": "stream",
     "text": [
      "Loaded CCC records\n"
     ]
    }
   ],
   "source": [
    "aws = d.awsBucketAPI(choose_bucket=True)"
   ]
  },
  {
   "cell_type": "code",
   "execution_count": 4,
   "metadata": {},
   "outputs": [],
   "source": [
    "res = aws.get_all_filenames()"
   ]
  },
  {
   "cell_type": "code",
   "execution_count": 5,
   "metadata": {},
   "outputs": [
    {
     "data": {
      "text/plain": [
       "1000"
      ]
     },
     "execution_count": 5,
     "metadata": {},
     "output_type": "execute_result"
    }
   ],
   "source": [
    "(res['Key'].value_counts() < 2).sum()"
   ]
  },
  {
   "cell_type": "code",
   "execution_count": 1,
   "metadata": {},
   "outputs": [],
   "source": [
    "import json"
   ]
  },
  {
   "cell_type": "code",
   "execution_count": 2,
   "metadata": {},
   "outputs": [],
   "source": [
    "data = json.load(open('data/lg_957886784.json'))"
   ]
  },
  {
   "cell_type": "code",
   "execution_count": 5,
   "metadata": {},
   "outputs": [],
   "source": [
    "from pillaralgos.helpers import data_handler as dh"
   ]
  },
  {
   "cell_type": "code",
   "execution_count": 7,
   "metadata": {},
   "outputs": [],
   "source": [
    "df = dh.organize_twitch_chat(data)"
   ]
  },
  {
   "cell_type": "code",
   "execution_count": 19,
   "metadata": {},
   "outputs": [
    {
     "data": {
      "text/plain": [
       "[{'_id': '28087', 'begin': 0, 'end': 6},\n",
       " {'_id': '28087', 'begin': 8, 'end': 14},\n",
       " {'_id': '28087', 'begin': 16, 'end': 22},\n",
       " {'_id': '28087', 'begin': 24, 'end': 30}]"
      ]
     },
     "execution_count": 19,
     "metadata": {},
     "output_type": "execute_result"
    }
   ],
   "source": [
    "df.dropna(subset=['emoticons'])['emoticons'].iloc[13]"
   ]
  },
  {
   "cell_type": "code",
   "execution_count": null,
   "metadata": {},
   "outputs": [],
   "source": []
  }
 ],
 "metadata": {
  "kernelspec": {
   "display_name": "Pillar Env",
   "language": "python",
   "name": "pillar_env"
  },
  "language_info": {
   "codemirror_mode": {
    "name": "ipython",
    "version": 3
   },
   "file_extension": ".py",
   "mimetype": "text/x-python",
   "name": "python",
   "nbconvert_exporter": "python",
   "pygments_lexer": "ipython3",
   "version": "3.8.8"
  },
  "widgets": {
   "application/vnd.jupyter.widget-state+json": {
    "state": {},
    "version_major": 2,
    "version_minor": 0
   }
  }
 },
 "nbformat": 4,
 "nbformat_minor": 4
}
