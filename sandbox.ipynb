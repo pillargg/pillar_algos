{
 "cells": [
  {
   "cell_type": "code",
   "execution_count": 5,
   "metadata": {},
   "outputs": [],
   "source": [
    "import pandas as pd"
   ]
  },
  {
   "cell_type": "code",
   "execution_count": 6,
   "metadata": {},
   "outputs": [],
   "source": [
    "all_tables = pd.read_html('https://www.twitch.tv/creatorcamp/en/learn-the-basics/emotes/', header=0)\n",
    "emoticons = all_tables[0].drop('Emote',axis=1)"
   ]
  },
  {
   "cell_type": "code",
   "execution_count": 7,
   "metadata": {},
   "outputs": [],
   "source": [
    "emoticons['Category'] = ''"
   ]
  },
  {
   "cell_type": "code",
   "execution_count": 8,
   "metadata": {},
   "outputs": [],
   "source": [
    "emoticons.to_csv('data/emoticons.csv', index=False)"
   ]
  },
  {
   "cell_type": "markdown",
   "metadata": {},
   "source": [
    "# Description"
   ]
  },
  {
   "cell_type": "markdown",
   "metadata": {},
   "source": [
    "Notebook to explore data, recreate bugs, solve bugs"
   ]
  },
  {
   "cell_type": "code",
   "execution_count": 1,
   "metadata": {},
   "outputs": [],
   "source": [
    "from pillaralgos import algo3_5"
   ]
  },
  {
   "cell_type": "code",
   "execution_count": 2,
   "metadata": {},
   "outputs": [],
   "source": [
    "import json"
   ]
  },
  {
   "cell_type": "code",
   "execution_count": 3,
   "metadata": {},
   "outputs": [],
   "source": [
    "data = json.load(open('bug_1015750167.json'))"
   ]
  },
  {
   "cell_type": "code",
   "execution_count": 4,
   "metadata": {},
   "outputs": [
    {
     "data": {
      "text/plain": [
       "[{'startTime': 0.0, 'endTime': 44.183}]"
      ]
     },
     "execution_count": 4,
     "metadata": {},
     "output_type": "execute_result"
    }
   ],
   "source": [
    "algo3_5.run(data)"
   ]
  },
  {
   "cell_type": "code",
   "execution_count": 2,
   "metadata": {},
   "outputs": [],
   "source": [
    "buggy_file = '981828174'\n",
    "def bug_handler(buggy_file, algo):\n",
    "    '''\n",
    "    Simple function to run reported file and files in data folder through a function\n",
    "    '''\n",
    "    aws = p_dev.awsBucketAPI()\n",
    "    aws.save_specific_file(buggy_file)\n",
    "    data = json.load(open(f'data/{buggy_file}.json'))\n",
    "    try:\n",
    "        json_result = algo.run(data)\n",
    "    except Exception as e:\n",
    "        print(\"FAILED\")\n",
    "        print(e)\n",
    "\n",
    "    import os\n",
    "    files = os.listdir('data/')\n",
    "    new_files = [f for f in files if '.json' in f and 'big_data' not in f]\n",
    "\n",
    "    algoworked = []\n",
    "    algofailed = []\n",
    "    results = {}\n",
    "    for file in new_files:\n",
    "        try:\n",
    "            data = json.load(open(f'data/{file}'))\n",
    "            results[file] = algo.run(data)\n",
    "            algoworked.append(file)\n",
    "        except:\n",
    "            algofailed.append(file)\n",
    "    return algoworked, algofailed, results"
   ]
  },
  {
   "cell_type": "markdown",
   "metadata": {},
   "source": [
    "# Unit Test creations"
   ]
  },
  {
   "cell_type": "code",
   "execution_count": 1,
   "metadata": {},
   "outputs": [],
   "source": [
    "import json\n",
    "import pandas as pd"
   ]
  },
  {
   "cell_type": "code",
   "execution_count": 2,
   "metadata": {},
   "outputs": [],
   "source": [
    "from pillaralgos.helpers import data_handler as dh"
   ]
  },
  {
   "cell_type": "code",
   "execution_count": 3,
   "metadata": {},
   "outputs": [],
   "source": [
    "from pillaralgos import algo1, algo2, algo3_0, algo3_5, brain"
   ]
  },
  {
   "cell_type": "code",
   "execution_count": 4,
   "metadata": {},
   "outputs": [],
   "source": [
    "data = json.load(open(\"prod/test/sample_data/sample_med.json\"))"
   ]
  },
  {
   "cell_type": "code",
   "execution_count": 35,
   "metadata": {},
   "outputs": [],
   "source": [
    "calc_result = algo3_5.run(\n",
    "    data = data,\n",
    "    min_ = 0.5,\n",
    "    limit = 3,\n",
    "    goal='num_emo',\n",
    "    save_json = False\n",
    ")"
   ]
  },
  {
   "cell_type": "code",
   "execution_count": 36,
   "metadata": {},
   "outputs": [
    {
     "data": {
      "text/plain": [
       "[{'startTime': 21204.676, 'endTime': 21233.315},\n",
       " {'startTime': 12215.271, 'endTime': 12244.861},\n",
       " {'startTime': 19757.217, 'endTime': 19785.986}]"
      ]
     },
     "execution_count": 36,
     "metadata": {},
     "output_type": "execute_result"
    }
   ],
   "source": [
    "calc_result"
   ]
  },
  {
   "cell_type": "code",
   "execution_count": null,
   "metadata": {},
   "outputs": [],
   "source": []
  }
 ],
 "metadata": {
  "kernelspec": {
   "display_name": "Pillar Env",
   "language": "python",
   "name": "pillar_env"
  },
  "language_info": {
   "codemirror_mode": {
    "name": "ipython",
    "version": 3
   },
   "file_extension": ".py",
   "mimetype": "text/x-python",
   "name": "python",
   "nbconvert_exporter": "python",
   "pygments_lexer": "ipython3",
   "version": "3.8.8"
  },
  "widgets": {
   "application/vnd.jupyter.widget-state+json": {
    "state": {},
    "version_major": 2,
    "version_minor": 0
   }
  }
 },
 "nbformat": 4,
 "nbformat_minor": 4
}
