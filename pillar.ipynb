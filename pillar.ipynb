{
 "cells": [
  {
   "cell_type": "code",
   "execution_count": 338,
   "metadata": {},
   "outputs": [],
   "source": [
    "import pandas as pd\n",
    "import numpy as np\n",
    "\n",
    "import matplotlib.pyplot as plt\n",
    "import seaborn as sns"
   ]
  },
  {
   "cell_type": "code",
   "execution_count": 339,
   "metadata": {},
   "outputs": [],
   "source": [
    "import datetime as dt\n",
    "import json"
   ]
  },
  {
   "cell_type": "markdown",
   "metadata": {},
   "source": [
    "# Preliminary Data"
   ]
  },
  {
   "cell_type": "markdown",
   "metadata": {},
   "source": [
    "Used to create data cleaning function"
   ]
  },
  {
   "cell_type": "code",
   "execution_count": 340,
   "metadata": {},
   "outputs": [],
   "source": [
    "def organize_twitch_chat(json_name):\n",
    "    data = pd.read_json(json_name, orient='records')\n",
    "    df = data[['created_at','updated_at','commenter','message']]\n",
    "    messages = df['message'].apply(pd.Series).drop(['fragments','user_color','user_notice_params'],axis=1)\n",
    "    users = df['commenter'].apply(pd.Series)\n",
    "    \n",
    "    df = df.drop(['message','commenter'], axis=1) # duplicate info\n",
    "    df = pd.concat([df,users,messages],axis=1)\n",
    "    df = df.iloc[:,[0,1,2,3,4,5,6,9,10,11,12,13]] # select cols that arent duplicates\n",
    "    \n",
    "    return df"
   ]
  },
  {
   "cell_type": "code",
   "execution_count": 341,
   "metadata": {},
   "outputs": [],
   "source": [
    "df = organize_twitch_chat(\"sample_data.json\")"
   ]
  },
  {
   "cell_type": "code",
   "execution_count": 342,
   "metadata": {},
   "outputs": [],
   "source": [
    "df['time_clipped'] = df['created_at'].astype(str).str.extract('(\\d\\d\\d\\d-\\d\\d-\\d\\d \\d\\d:\\d\\d)')"
   ]
  },
  {
   "cell_type": "code",
   "execution_count": 343,
   "metadata": {},
   "outputs": [
    {
     "data": {
      "text/html": [
       "<div>\n",
       "<style scoped>\n",
       "    .dataframe tbody tr th:only-of-type {\n",
       "        vertical-align: middle;\n",
       "    }\n",
       "\n",
       "    .dataframe tbody tr th {\n",
       "        vertical-align: top;\n",
       "    }\n",
       "\n",
       "    .dataframe thead th {\n",
       "        text-align: right;\n",
       "    }\n",
       "</style>\n",
       "<table border=\"1\" class=\"dataframe\">\n",
       "  <thead>\n",
       "    <tr style=\"text-align: right;\">\n",
       "      <th></th>\n",
       "      <th>created_at</th>\n",
       "      <th>updated_at</th>\n",
       "      <th>_id</th>\n",
       "      <th>name</th>\n",
       "      <th>type</th>\n",
       "      <th>bio</th>\n",
       "      <th>logo</th>\n",
       "      <th>body</th>\n",
       "      <th>is_action</th>\n",
       "      <th>user_badges</th>\n",
       "      <th>emoticons</th>\n",
       "      <th>time_clipped</th>\n",
       "    </tr>\n",
       "    <tr>\n",
       "      <th>display_name</th>\n",
       "      <th></th>\n",
       "      <th></th>\n",
       "      <th></th>\n",
       "      <th></th>\n",
       "      <th></th>\n",
       "      <th></th>\n",
       "      <th></th>\n",
       "      <th></th>\n",
       "      <th></th>\n",
       "      <th></th>\n",
       "      <th></th>\n",
       "      <th></th>\n",
       "    </tr>\n",
       "  </thead>\n",
       "  <tbody>\n",
       "    <tr>\n",
       "      <th>mdsvellhoo</th>\n",
       "      <td>1</td>\n",
       "      <td>1</td>\n",
       "      <td>1</td>\n",
       "      <td>1</td>\n",
       "      <td>1</td>\n",
       "      <td>0</td>\n",
       "      <td>1</td>\n",
       "      <td>1</td>\n",
       "      <td>1</td>\n",
       "      <td>0</td>\n",
       "      <td>0</td>\n",
       "      <td>1</td>\n",
       "    </tr>\n",
       "    <tr>\n",
       "      <th>chicken2013</th>\n",
       "      <td>1</td>\n",
       "      <td>1</td>\n",
       "      <td>1</td>\n",
       "      <td>1</td>\n",
       "      <td>1</td>\n",
       "      <td>0</td>\n",
       "      <td>1</td>\n",
       "      <td>1</td>\n",
       "      <td>1</td>\n",
       "      <td>0</td>\n",
       "      <td>0</td>\n",
       "      <td>1</td>\n",
       "    </tr>\n",
       "    <tr>\n",
       "      <th>luuser830</th>\n",
       "      <td>1</td>\n",
       "      <td>1</td>\n",
       "      <td>1</td>\n",
       "      <td>1</td>\n",
       "      <td>1</td>\n",
       "      <td>0</td>\n",
       "      <td>1</td>\n",
       "      <td>1</td>\n",
       "      <td>1</td>\n",
       "      <td>1</td>\n",
       "      <td>0</td>\n",
       "      <td>1</td>\n",
       "    </tr>\n",
       "    <tr>\n",
       "      <th>Pekoeta</th>\n",
       "      <td>1</td>\n",
       "      <td>1</td>\n",
       "      <td>1</td>\n",
       "      <td>1</td>\n",
       "      <td>1</td>\n",
       "      <td>0</td>\n",
       "      <td>1</td>\n",
       "      <td>1</td>\n",
       "      <td>1</td>\n",
       "      <td>1</td>\n",
       "      <td>1</td>\n",
       "      <td>1</td>\n",
       "    </tr>\n",
       "    <tr>\n",
       "      <th>littleballofhate</th>\n",
       "      <td>1</td>\n",
       "      <td>1</td>\n",
       "      <td>1</td>\n",
       "      <td>1</td>\n",
       "      <td>1</td>\n",
       "      <td>0</td>\n",
       "      <td>1</td>\n",
       "      <td>1</td>\n",
       "      <td>1</td>\n",
       "      <td>1</td>\n",
       "      <td>0</td>\n",
       "      <td>1</td>\n",
       "    </tr>\n",
       "    <tr>\n",
       "      <th>...</th>\n",
       "      <td>...</td>\n",
       "      <td>...</td>\n",
       "      <td>...</td>\n",
       "      <td>...</td>\n",
       "      <td>...</td>\n",
       "      <td>...</td>\n",
       "      <td>...</td>\n",
       "      <td>...</td>\n",
       "      <td>...</td>\n",
       "      <td>...</td>\n",
       "      <td>...</td>\n",
       "      <td>...</td>\n",
       "    </tr>\n",
       "    <tr>\n",
       "      <th>stevekay4444</th>\n",
       "      <td>20</td>\n",
       "      <td>20</td>\n",
       "      <td>20</td>\n",
       "      <td>20</td>\n",
       "      <td>20</td>\n",
       "      <td>0</td>\n",
       "      <td>20</td>\n",
       "      <td>20</td>\n",
       "      <td>20</td>\n",
       "      <td>20</td>\n",
       "      <td>1</td>\n",
       "      <td>20</td>\n",
       "    </tr>\n",
       "    <tr>\n",
       "      <th>CptnJLPicard</th>\n",
       "      <td>22</td>\n",
       "      <td>22</td>\n",
       "      <td>22</td>\n",
       "      <td>22</td>\n",
       "      <td>22</td>\n",
       "      <td>0</td>\n",
       "      <td>22</td>\n",
       "      <td>22</td>\n",
       "      <td>22</td>\n",
       "      <td>0</td>\n",
       "      <td>0</td>\n",
       "      <td>22</td>\n",
       "    </tr>\n",
       "    <tr>\n",
       "      <th>ninaisnoob</th>\n",
       "      <td>37</td>\n",
       "      <td>37</td>\n",
       "      <td>37</td>\n",
       "      <td>37</td>\n",
       "      <td>37</td>\n",
       "      <td>37</td>\n",
       "      <td>37</td>\n",
       "      <td>37</td>\n",
       "      <td>37</td>\n",
       "      <td>37</td>\n",
       "      <td>10</td>\n",
       "      <td>37</td>\n",
       "    </tr>\n",
       "    <tr>\n",
       "      <th>SamDLIVE</th>\n",
       "      <td>43</td>\n",
       "      <td>43</td>\n",
       "      <td>43</td>\n",
       "      <td>43</td>\n",
       "      <td>43</td>\n",
       "      <td>0</td>\n",
       "      <td>43</td>\n",
       "      <td>43</td>\n",
       "      <td>43</td>\n",
       "      <td>0</td>\n",
       "      <td>7</td>\n",
       "      <td>43</td>\n",
       "    </tr>\n",
       "    <tr>\n",
       "      <th>gassyvegan247</th>\n",
       "      <td>95</td>\n",
       "      <td>95</td>\n",
       "      <td>95</td>\n",
       "      <td>95</td>\n",
       "      <td>95</td>\n",
       "      <td>0</td>\n",
       "      <td>95</td>\n",
       "      <td>95</td>\n",
       "      <td>95</td>\n",
       "      <td>95</td>\n",
       "      <td>14</td>\n",
       "      <td>95</td>\n",
       "    </tr>\n",
       "  </tbody>\n",
       "</table>\n",
       "<p>100 rows × 12 columns</p>\n",
       "</div>"
      ],
      "text/plain": [
       "                  created_at  updated_at  _id  name  type  bio  logo  body  \\\n",
       "display_name                                                                 \n",
       "mdsvellhoo                 1           1    1     1     1    0     1     1   \n",
       "chicken2013                1           1    1     1     1    0     1     1   \n",
       "luuser830                  1           1    1     1     1    0     1     1   \n",
       "Pekoeta                    1           1    1     1     1    0     1     1   \n",
       "littleballofhate           1           1    1     1     1    0     1     1   \n",
       "...                      ...         ...  ...   ...   ...  ...   ...   ...   \n",
       "stevekay4444              20          20   20    20    20    0    20    20   \n",
       "CptnJLPicard              22          22   22    22    22    0    22    22   \n",
       "ninaisnoob                37          37   37    37    37   37    37    37   \n",
       "SamDLIVE                  43          43   43    43    43    0    43    43   \n",
       "gassyvegan247             95          95   95    95    95    0    95    95   \n",
       "\n",
       "                  is_action  user_badges  emoticons  time_clipped  \n",
       "display_name                                                       \n",
       "mdsvellhoo                1            0          0             1  \n",
       "chicken2013               1            0          0             1  \n",
       "luuser830                 1            1          0             1  \n",
       "Pekoeta                   1            1          1             1  \n",
       "littleballofhate          1            1          0             1  \n",
       "...                     ...          ...        ...           ...  \n",
       "stevekay4444             20           20          1            20  \n",
       "CptnJLPicard             22            0          0            22  \n",
       "ninaisnoob               37           37         10            37  \n",
       "SamDLIVE                 43            0          7            43  \n",
       "gassyvegan247            95           95         14            95  \n",
       "\n",
       "[100 rows x 12 columns]"
      ]
     },
     "execution_count": 343,
     "metadata": {},
     "output_type": "execute_result"
    }
   ],
   "source": [
    "df.groupby('display_name').count().sort_values('body')"
   ]
  },
  {
   "cell_type": "code",
   "execution_count": 344,
   "metadata": {},
   "outputs": [
    {
     "data": {
      "text/plain": [
       "Text(0.5, 1.0, 'Messages per User')"
      ]
     },
     "execution_count": 344,
     "metadata": {},
     "output_type": "execute_result"
    },
    {
     "data": {
      "image/png": "[encoded data removed]",
      "text/plain": [
       "<Figure size 432x288 with 1 Axes>"
      ]
     },
     "metadata": {
      "needs_background": "light"
     },
     "output_type": "display_data"
    }
   ],
   "source": [
    "sns.histplot(df['display_name'])\n",
    "plt.title('Messages per User')"
   ]
  },
  {
   "cell_type": "markdown",
   "metadata": {},
   "source": [
    "# Big Data\n",
    "\n",
    "[Twitch Source](https://www.twitch.tv/videos/955629991)"
   ]
  },
  {
   "cell_type": "code",
   "execution_count": 345,
   "metadata": {},
   "outputs": [],
   "source": [
    "big_df = organize_twitch_chat(\"big_data.json\") # fetch appropriate data"
   ]
  },
  {
   "cell_type": "code",
   "execution_count": 346,
   "metadata": {},
   "outputs": [
    {
     "data": {
      "text/plain": [
       "Text(0.5, 1.0, 'Message Count')"
      ]
     },
     "execution_count": 346,
     "metadata": {},
     "output_type": "execute_result"
    },
    {
     "data": {
      "image/png": "[encoded data removed]",
      "text/plain": [
       "<Figure size 432x288 with 1 Axes>"
      ]
     },
     "metadata": {
      "needs_background": "light"
     },
     "output_type": "display_data"
    }
   ],
   "source": [
    "sns.histplot(big_df['created_at'], bins=100)\n",
    "plt.title(\"Message Count\")"
   ]
  },
  {
   "cell_type": "code",
   "execution_count": 347,
   "metadata": {},
   "outputs": [
    {
     "data": {
      "text/plain": [
       "Text(0.5, 1.0, 'Messages per User')"
      ]
     },
     "execution_count": 347,
     "metadata": {},
     "output_type": "execute_result"
    },
    {
     "data": {
      "image/png": "[encoded data removed]",
      "text/plain": [
       "<Figure size 432x288 with 1 Axes>"
      ]
     },
     "metadata": {
      "needs_background": "light"
     },
     "output_type": "display_data"
    }
   ],
   "source": [
    "sns.histplot(big_df['display_name'])\n",
    "plt.title(\"Messages per User\")"
   ]
  },
  {
   "cell_type": "markdown",
   "metadata": {},
   "source": [
    "## User Stats"
   ]
  },
  {
   "cell_type": "code",
   "execution_count": 348,
   "metadata": {},
   "outputs": [],
   "source": [
    "def user_stats(dataframe):\n",
    "    '''\n",
    "    Returns the user who sent the most messages, most emoticons, and who changed their username the most\n",
    "    '''\n",
    "    temp_df = dataframe.groupby(\"name\").count().reset_index()\n",
    "    temp_df['username_chg'] = temp_df['_id'] - temp_df['display_name'] # if mismatch in count, then its probs changed username\n",
    "    \n",
    "    stats = {}\n",
    "    for col in ['_id','emoticons', 'username_chg']:\n",
    "        sort = temp_df.sort_values(col, ascending=False)[['name',col]].iloc[0]\n",
    "        stat = sort[col]\n",
    "        _id = sort['name']\n",
    "        \n",
    "        if col == '_id':\n",
    "            col = 'num_messages'\n",
    "        stats[col] = [_id, stat]\n",
    "    \n",
    "    return stats"
   ]
  },
  {
   "cell_type": "code",
   "execution_count": 349,
   "metadata": {},
   "outputs": [
    {
     "data": {
      "text/plain": [
       "{'num_messages': ['dominickstarcraft', 239],\n",
       " 'emoticons': ['gassyvegan247', 27],\n",
       " 'username_chg': ['21up21', 0]}"
      ]
     },
     "execution_count": 349,
     "metadata": {},
     "output_type": "execute_result"
    }
   ],
   "source": [
    "user_stats(big_df)"
   ]
  },
  {
   "cell_type": "markdown",
   "metadata": {},
   "source": [
    "# Algorithm 1: percent user participation"
   ]
  },
  {
   "cell_type": "markdown",
   "metadata": {},
   "source": [
    "__Description__: Try to find the best moments in clips based on where the most users participated\n",
    "1. ~~Isolate chat transcript to 1 hour long sessions~~ DONE `dfSplitter`\n",
    "1. ~~Find total number of unique users that participated in session~~ DONE\n",
    "1. ~~Find % of users that participated at any given `2 minute` timestamp~~\n",
    "1. ~~Isolate `top 3` timestamps per session~~"
   ]
  },
  {
   "cell_type": "markdown",
   "metadata": {},
   "source": [
    "## Split into hour sections"
   ]
  },
  {
   "cell_type": "code",
   "execution_count": 350,
   "metadata": {},
   "outputs": [],
   "source": [
    "class dfSplitter():\n",
    "    def __init__(self, dataframe):\n",
    "        '''\n",
    "        Splits dataframe into multiple dataframes, each 1 hour long\n",
    "\n",
    "        output:\n",
    "        ------\n",
    "        my_list: list\n",
    "            List of dataframes\n",
    "        '''\n",
    "        # init function finds the first split\n",
    "        dataframe = dataframe.sort_values(\"created_at\")\n",
    "        first = dataframe[dataframe['created_at'] <= dataframe.loc[0,'created_at'] + pd.Timedelta(hours = 1)]\n",
    "        self.last_i = first.index.max()\n",
    "        self.dataframe = dataframe\n",
    "        self.result = [] # list to append starting timestamp + datasets to\n",
    "        self.result.append(dataframe.iloc[0, 0]) # NOTE: assumes first col is always \"created_at\" col\n",
    "        self.result.append(first)\n",
    "        \n",
    "    def find_rest(self):\n",
    "        '''\n",
    "        Uses last index of first split to find the others\n",
    "        '''\n",
    "        dataframe = self.dataframe\n",
    "        last_i = self.last_i\n",
    "        if last_i+1 != len(dataframe):\n",
    "            new_df = dataframe.loc[last_i+1:,:] # clip df to start at last_i\n",
    "            newest = new_df[new_df['created_at'] <= new_df.loc[last_i+1,'created_at'] + pd.Timedelta(hours=1)] # filter by hour\n",
    "            self.result.append(newest) # store in list\n",
    "            self.last_i = newest.index.max()\n",
    "            \n",
    "            self.find_rest() # repeat\n",
    "        else:\n",
    "            return dataframe # never actually used"
   ]
  },
  {
   "cell_type": "code",
   "execution_count": 351,
   "metadata": {},
   "outputs": [],
   "source": [
    "def sanity_time_check(dataframe):\n",
    "    '''\n",
    "    Checks the time length of dataframe\n",
    "    '''\n",
    "    return dataframe['created_at'].max() - dataframe['created_at'].min()\n",
    "\n",
    "def sanity_list_checker(list1):\n",
    "    '''\n",
    "    Prints out detailed information for each item in the list\n",
    "    '''\n",
    "    for data in list1:\n",
    "        print(f\"Hour {data['hour_section'].unique()} length: {sanity_time_check(data)}\")"
   ]
  },
  {
   "cell_type": "markdown",
   "metadata": {},
   "source": [
    "## Split each section into 2 minute chunks"
   ]
  },
  {
   "cell_type": "code",
   "execution_count": 352,
   "metadata": {},
   "outputs": [],
   "source": [
    "class fminChats():\n",
    "    def __init__(self,dataframe, big_unique, min_= 2):\n",
    "        '''\n",
    "        Finds the percent unique chatters that chatted every min_ minutes\n",
    "        \n",
    "        input\n",
    "        -----\n",
    "        dataframe: pd.DataFrame\n",
    "            Twitch chat dataframe organized and split by dfSplitter\n",
    "        big_unique: int\n",
    "            Total number of unique chatters for the entire Twitch stream\n",
    "        min_: int\n",
    "            Minute range to find timestamps for. Ex: Find 2 min long timestamps.\n",
    "        '''\n",
    "        \n",
    "        # init function finds the first split\n",
    "        dataframe = dataframe.sort_values(\"created_at\")\n",
    "        first = dataframe[dataframe['created_at'] <= dataframe.iloc[0,0] + pd.Timedelta(minutes = min_)]\n",
    "        \n",
    "        self.min_ = min_\n",
    "        self.total_uniques = len(dataframe['_id'].unique())\n",
    "        self.big_unique = big_unique\n",
    "        \n",
    "        self.last_i = first.index.max()\n",
    "        self.dataframe = dataframe\n",
    "        \n",
    "        self.result = []\n",
    "        self.result.append(first)\n",
    "        \n",
    "    def find_rest(self):\n",
    "        '''\n",
    "        Uses last index of first split to find the others\n",
    "        '''\n",
    "        dataframe = self.dataframe\n",
    "        last_i = self.last_i\n",
    "        if last_i+1 < dataframe.index.max(): # NOT len(dataframe), that bugs out and i dont wanna explain why\n",
    "            new_df = dataframe.loc[last_i+1:,:] # clip df to start new min_min calc at last_i+1\n",
    "            newest = new_df[new_df['created_at'] <= new_df.loc[last_i+1,'created_at'] + pd.Timedelta(value=self.min_, unit='minutes')] # filter by minute\n",
    "            self.result.append(newest) # store in list\n",
    "            \n",
    "            self.last_i = newest.index.max()\n",
    "            self.find_rest() # repeat\n",
    "        else:\n",
    "            x=''\n",
    "    \n",
    "    def perc_uniques(self, chunk_list):\n",
    "        '''\n",
    "        Finds the percent unique chatters for eachd dataframe in the list. Dataframes assumed to be split using self.find_rest.\n",
    "        '''\n",
    "        \n",
    "        perc_unique = {\n",
    "                f'{self.min_}min_chunk':[],\n",
    "                'start':[],\n",
    "                'end':[],\n",
    "                'num_unique':[],\n",
    "                'perc_rel_unique':[],\n",
    "                'perc_abs_unique':[]\n",
    "        }\n",
    "        \n",
    "        \n",
    "        for i in range(len(chunk_list)):\n",
    "            # calcuate\n",
    "            chunk = i\n",
    "            unique = len(chunk_list[i]['_id'].unique())\n",
    "            timestamp = [chunk_list[i]['created_at'].min(), chunk_list[i]['created_at'].max()]\n",
    "            perc_rel = unique/self.total_uniques # this is the total uniques in THAT DATAFRAME, ie the hourly cut\n",
    "            perc_abs = unique/self.big_unique # this is the total uniques in the entire twitch session\n",
    "            # store\n",
    "            perc_unique[f'{self.min_}min_chunk'].append(chunk)\n",
    "            perc_unique['start'].append(timestamp[0])\n",
    "            perc_unique['end'].append(timestamp[1])\n",
    "            perc_unique['num_unique'].append(unique)\n",
    "            perc_unique['perc_rel_unique'].append(perc_rel)\n",
    "            perc_unique['perc_abs_unique'].append(perc_abs)\n",
    "            \n",
    "        df_unique = pd.DataFrame(perc_unique)\n",
    "        df_unique['elapsed'] = df_unique['end'] - df_unique['start']\n",
    "        return df_unique\n",
    "    "
   ]
  },
  {
   "cell_type": "markdown",
   "metadata": {},
   "source": [
    "The above class will do everything for one df. The following functions will tie both classes together and format the results."
   ]
  },
  {
   "cell_type": "code",
   "execution_count": 353,
   "metadata": {},
   "outputs": [],
   "source": [
    "def results_jsonified(results, vid_id, first_sec):\n",
    "    '''\n",
    "    Extracts relevant results and makes them machine readable\n",
    "    \n",
    "    input\n",
    "    -----\n",
    "    results: pd.DataFrame\n",
    "        DataFrame with at least start, end columns.\n",
    "    vid_id: int\n",
    "        Twitch id of video\n",
    "    '''\n",
    "    results['first_sec'] = first_sec # to calculate elapsed time from first sec, in seconds\n",
    "    results = results.sort_values('perc_rel_unique', ascending=False) # so json format is returned with top result being the most relevant\n",
    "    json_results = []\n",
    "    for i, row in results.iterrows():\n",
    "        og = row['first_sec']\n",
    "        start = row['start']\n",
    "        end = row['end']\n",
    "        \n",
    "        start_sec = dt.timedelta.total_seconds(start-og) # find difference between first sec and given timestamp, convert that to seconds\n",
    "        end_sec = dt.timedelta.total_seconds(end-og)\n",
    "        \n",
    "        dict_ = {\"startTime\":start_sec,\n",
    "                 \"endTime\":end_sec,\n",
    "                 \"videoId\":vid_id}\n",
    "        json_results.append(dict_)\n",
    "        \n",
    "    return json_results\n",
    "        \n",
    "def hour_iterator(big_df, vid_id, min_=2):\n",
    "    '''\n",
    "    Pushes all dfs in a list through the fminChats function, returns a dataframe of results\n",
    "    \n",
    "    input\n",
    "    -----\n",
    "    big_df: pd.DataFrame\n",
    "        Df of the entire twitch session. This is the one that was split by dfSplitter class\n",
    "    min_: int\n",
    "        How long a timestamp range should be\n",
    "    vid_id: int\n",
    "        Twitch id of video. Needed for jsonify function\n",
    "    '''\n",
    "    ds = dfSplitter(big_df) # initiate\n",
    "    ds.find_rest() # split big_df into 1 hour long separate dfs\n",
    "    hour_list = ds.result # result stored in class var. NOTE: index 0 is always the very first timestamp of big_df\n",
    "    first_sec = hour_list[0]\n",
    "    hour_list = hour_list[1:]\n",
    "\n",
    "    # initiate empty results df\n",
    "    results = pd.DataFrame(columns=['hour', f'{min_}min_chunk', 'start', 'end', 'num_unique', 'perc_rel_unique', 'perc_abs_unique'])\n",
    "    max_uniques = len(big_df['_id'].unique()) # the total number of unique chatters for the entire twitch session\n",
    "\n",
    "    # iterate all sections through the class\n",
    "    for i in range(len(hour_list)):\n",
    "        fm = fminChats(hour_list[i], max_uniques)\n",
    "        _n = fm.find_rest() # _n not needed\n",
    "        chunk_list = fm.result # get back list of dfs, each 2 minutes long\n",
    "\n",
    "        hr_uniques = fm.perc_uniques(chunk_list)\n",
    "        hr_uniques['hour'] = i + 1\n",
    "        results = results.append(hr_uniques)\n",
    "\n",
    "    results['elapsed'] = results['end'] - results['start'] # to double check length\n",
    "    pretty_results = results.reset_index(drop=True) # prettify\n",
    "    \n",
    "    json_results = results_jsonified(results, vid_id, first_sec) # ordered by top perc_rel_unique\n",
    "    \n",
    "    return pretty_results, json_results"
   ]
  },
  {
   "cell_type": "code",
   "execution_count": 354,
   "metadata": {},
   "outputs": [],
   "source": [
    "results, json_results = hour_iterator(big_df, vid_id=955629991)"
   ]
  },
  {
   "cell_type": "code",
   "execution_count": 355,
   "metadata": {},
   "outputs": [],
   "source": [
    "def save_json(json_results):\n",
    "    '''\n",
    "    Saves json_results in txt file.\n",
    "    '''\n",
    "    str_  = '['\n",
    "    for dict_ in json_results:\n",
    "        str_ += str(dict_) + ', \\n '\n",
    "    str_ += ']'\n",
    "    \n",
    "    with open(\"results.txt\",'w') as f:\n",
    "        f.write(str_)"
   ]
  },
  {
   "cell_type": "markdown",
   "metadata": {},
   "source": [
    "## Results Top five moments"
   ]
  },
  {
   "cell_type": "code",
   "execution_count": 356,
   "metadata": {},
   "outputs": [
    {
     "data": {
      "text/html": [
       "<div>\n",
       "<style scoped>\n",
       "    .dataframe tbody tr th:only-of-type {\n",
       "        vertical-align: middle;\n",
       "    }\n",
       "\n",
       "    .dataframe tbody tr th {\n",
       "        vertical-align: top;\n",
       "    }\n",
       "\n",
       "    .dataframe thead th {\n",
       "        text-align: right;\n",
       "    }\n",
       "</style>\n",
       "<table border=\"1\" class=\"dataframe\">\n",
       "  <thead>\n",
       "    <tr style=\"text-align: right;\">\n",
       "      <th></th>\n",
       "      <th>hour</th>\n",
       "      <th>2min_chunk</th>\n",
       "      <th>start</th>\n",
       "      <th>end</th>\n",
       "      <th>num_unique</th>\n",
       "      <th>perc_rel_unique</th>\n",
       "      <th>perc_abs_unique</th>\n",
       "      <th>elapsed</th>\n",
       "    </tr>\n",
       "  </thead>\n",
       "  <tbody>\n",
       "    <tr>\n",
       "      <th>196</th>\n",
       "      <td>8</td>\n",
       "      <td>16</td>\n",
       "      <td>2021-03-20 05:32:08.108000+00:00</td>\n",
       "      <td>2021-03-20 05:33:48.767000+00:00</td>\n",
       "      <td>18</td>\n",
       "      <td>0.545455</td>\n",
       "      <td>0.104651</td>\n",
       "      <td>0 days 00:01:40.659000</td>\n",
       "    </tr>\n",
       "    <tr>\n",
       "      <th>129</th>\n",
       "      <td>6</td>\n",
       "      <td>0</td>\n",
       "      <td>2021-03-20 02:57:53.904000+00:00</td>\n",
       "      <td>2021-03-20 02:59:51.806000+00:00</td>\n",
       "      <td>15</td>\n",
       "      <td>0.319149</td>\n",
       "      <td>0.087209</td>\n",
       "      <td>0 days 00:01:57.902000</td>\n",
       "    </tr>\n",
       "    <tr>\n",
       "      <th>147</th>\n",
       "      <td>6</td>\n",
       "      <td>18</td>\n",
       "      <td>2021-03-20 03:38:02.837000+00:00</td>\n",
       "      <td>2021-03-20 03:40:01.726000+00:00</td>\n",
       "      <td>15</td>\n",
       "      <td>0.319149</td>\n",
       "      <td>0.087209</td>\n",
       "      <td>0 days 00:01:58.889000</td>\n",
       "    </tr>\n",
       "    <tr>\n",
       "      <th>123</th>\n",
       "      <td>5</td>\n",
       "      <td>19</td>\n",
       "      <td>2021-03-20 02:44:47.050000+00:00</td>\n",
       "      <td>2021-03-20 02:46:44.245000+00:00</td>\n",
       "      <td>14</td>\n",
       "      <td>0.274510</td>\n",
       "      <td>0.081395</td>\n",
       "      <td>0 days 00:01:57.195000</td>\n",
       "    </tr>\n",
       "    <tr>\n",
       "      <th>114</th>\n",
       "      <td>5</td>\n",
       "      <td>10</td>\n",
       "      <td>2021-03-20 02:19:59.386000+00:00</td>\n",
       "      <td>2021-03-20 02:21:58.812000+00:00</td>\n",
       "      <td>14</td>\n",
       "      <td>0.274510</td>\n",
       "      <td>0.081395</td>\n",
       "      <td>0 days 00:01:59.426000</td>\n",
       "    </tr>\n",
       "  </tbody>\n",
       "</table>\n",
       "</div>"
      ],
      "text/plain": [
       "    hour 2min_chunk                            start  \\\n",
       "196    8         16 2021-03-20 05:32:08.108000+00:00   \n",
       "129    6          0 2021-03-20 02:57:53.904000+00:00   \n",
       "147    6         18 2021-03-20 03:38:02.837000+00:00   \n",
       "123    5         19 2021-03-20 02:44:47.050000+00:00   \n",
       "114    5         10 2021-03-20 02:19:59.386000+00:00   \n",
       "\n",
       "                                 end num_unique  perc_rel_unique  \\\n",
       "196 2021-03-20 05:33:48.767000+00:00         18         0.545455   \n",
       "129 2021-03-20 02:59:51.806000+00:00         15         0.319149   \n",
       "147 2021-03-20 03:40:01.726000+00:00         15         0.319149   \n",
       "123 2021-03-20 02:46:44.245000+00:00         14         0.274510   \n",
       "114 2021-03-20 02:21:58.812000+00:00         14         0.274510   \n",
       "\n",
       "     perc_abs_unique                elapsed  \n",
       "196         0.104651 0 days 00:01:40.659000  \n",
       "129         0.087209 0 days 00:01:57.902000  \n",
       "147         0.087209 0 days 00:01:58.889000  \n",
       "123         0.081395 0 days 00:01:57.195000  \n",
       "114         0.081395 0 days 00:01:59.426000  "
      ]
     },
     "execution_count": 356,
     "metadata": {},
     "output_type": "execute_result"
    }
   ],
   "source": [
    "# for normal people\n",
    "results.sort_values('perc_abs_unique',ascending=False).head()"
   ]
  },
  {
   "cell_type": "markdown",
   "metadata": {},
   "source": [
    "[Twitch Source](https://www.twitch.tv/videos/955629991)\n",
    "\n",
    "Variables:\n",
    "* `hour`: section of twitch chat df, after df was split into 1 hour sections\n",
    "* `xmin_chunk`: chunk of hour section, after section was split into x min chunks\n",
    "* `start`: starting timestamp of chunk\n",
    "* `end`: ending timestamp of chunk\n",
    "* `num_unique`: number of unique chatters in that chunk\n",
    "* `perc_rel_unique`: percent of unique __hour section__ chatters participating in that chunk\n",
    "* `perc_abs_unique`: percent of unique __twitch df__ chatters participating in that chunk"
   ]
  },
  {
   "cell_type": "markdown",
   "metadata": {},
   "source": [
    "__Conclusion__: The max relative chat engagement was around 55% in the eighth hour of twitch chat during chunk_16. Timestamps `03-20 05:32` to `03-20 05:33` are good candidates"
   ]
  },
  {
   "cell_type": "code",
   "execution_count": 357,
   "metadata": {},
   "outputs": [
    {
     "data": {
      "text/plain": [
       "[{'startTime': 27319.612, 'endTime': 27420.271, 'videoId': 955629991},\n",
       " {'startTime': 26689.814, 'endTime': 26808.451, 'videoId': 955629991},\n",
       " {'startTime': 18065.408, 'endTime': 18183.31, 'videoId': 955629991},\n",
       " {'startTime': 20474.341, 'endTime': 20593.23, 'videoId': 955629991},\n",
       " {'startTime': 3152.329, 'endTime': 3271.822, 'videoId': 955629991},\n",
       " {'startTime': 26320.325, 'endTime': 26439.613, 'videoId': 955629991},\n",
       " {'startTime': 8672.863, 'endTime': 8759.628, 'videoId': 955629991},\n",
       " {'startTime': 6851.107, 'endTime': 6965.998, 'videoId': 955629991}]"
      ]
     },
     "execution_count": 357,
     "metadata": {},
     "output_type": "execute_result"
    }
   ],
   "source": [
    "# for engineers\n",
    "json_results[:8]"
   ]
  },
  {
   "cell_type": "code",
   "execution_count": 358,
   "metadata": {},
   "outputs": [],
   "source": [
    "save_json(json_results) # save as txt file"
   ]
  },
  {
   "cell_type": "markdown",
   "metadata": {},
   "source": [
    "## Graphs"
   ]
  },
  {
   "cell_type": "code",
   "execution_count": 359,
   "metadata": {},
   "outputs": [
    {
     "name": "stderr",
     "output_type": "stream",
     "text": [
      "/Users/peter/opt/miniconda3/envs/data_env/lib/python3.8/site-packages/seaborn/axisgrid.py:643: UserWarning: Using the barplot function without specifying `order` is likely to produce an incorrect plot.\n",
      "  warnings.warn(warning)\n"
     ]
    },
    {
     "data": {
      "text/plain": [
       "Text(0.5, 1.05, 'Percent chatters, relative to each hour')"
      ]
     },
     "execution_count": 359,
     "metadata": {},
     "output_type": "execute_result"
    },
    {
     "data": {
      "image/png": "[encoded data removed]",
      "text/plain": [
       "<Figure size 864x432 with 8 Axes>"
      ]
     },
     "metadata": {
      "needs_background": "light"
     },
     "output_type": "display_data"
    }
   ],
   "source": [
    "g = sns.FacetGrid(results,col='hour',sharex=False, col_wrap = 4)\n",
    "g.map(sns.barplot,'2min_chunk','perc_rel_unique')\n",
    "\n",
    "plt.suptitle(\"Percent chatters, relative to each hour\",y=1.05)"
   ]
  },
  {
   "cell_type": "code",
   "execution_count": 360,
   "metadata": {},
   "outputs": [
    {
     "name": "stderr",
     "output_type": "stream",
     "text": [
      "/Users/peter/opt/miniconda3/envs/data_env/lib/python3.8/site-packages/seaborn/axisgrid.py:643: UserWarning: Using the barplot function without specifying `order` is likely to produce an incorrect plot.\n",
      "  warnings.warn(warning)\n"
     ]
    },
    {
     "data": {
      "text/plain": [
       "Text(0.5, 1.05, 'Percent of twitch session chatters participating at each chunk')"
      ]
     },
     "execution_count": 360,
     "metadata": {},
     "output_type": "execute_result"
    },
    {
     "data": {
      "image/png": "[encoded data removed]",
      "text/plain": [
       "<Figure size 864x432 with 8 Axes>"
      ]
     },
     "metadata": {
      "needs_background": "light"
     },
     "output_type": "display_data"
    }
   ],
   "source": [
    "g = sns.FacetGrid(results,col='hour',sharex=False, col_wrap = 4)\n",
    "g.map(sns.barplot,'2min_chunk','perc_abs_unique')\n",
    "\n",
    "plt.suptitle(\"Percent of twitch session chatters participating at each chunk\",y=1.05)"
   ]
  },
  {
   "cell_type": "markdown",
   "metadata": {},
   "source": [
    "### BUG"
   ]
  },
  {
   "cell_type": "markdown",
   "metadata": {},
   "source": [
    "Why do the perc_abs_unique and perc_rel_unique have the same exact graphs???"
   ]
  },
  {
   "cell_type": "markdown",
   "metadata": {},
   "source": [
    "# Algorithm 2: percent user activity\n",
    "\n",
    "__Description__: Try to find the best moments in clips based on when rate of messages per user peaked\n",
    "\n",
    "1. ~~Isolate chat transcript to 1 hour long sessions~~ DONE\n",
    "1. Find overall message rate per 2 minutes per users\n",
    "1. Identify timestamps where `message_rate` peaked"
   ]
  },
  {
   "cell_type": "markdown",
   "metadata": {},
   "source": [
    "Based on the above, it looks like top message sender sent the top message at all hours"
   ]
  },
  {
   "cell_type": "code",
   "execution_count": 361,
   "metadata": {},
   "outputs": [],
   "source": [
    "dfs = dfSplitter(big_df)\n",
    "dfs.find_rest()\n",
    "hour_list = dfs.result\n",
    "first_hour = hour_list[0]\n",
    "del hour_list[0]"
   ]
  },
  {
   "cell_type": "code",
   "execution_count": 362,
   "metadata": {},
   "outputs": [
    {
     "name": "stderr",
     "output_type": "stream",
     "text": [
      "<ipython-input-362-228cba36cc52>:4: SettingWithCopyWarning: \n",
      "A value is trying to be set on a copy of a slice from a DataFrame.\n",
      "Try using .loc[row_indexer,col_indexer] = value instead\n",
      "\n",
      "See the caveats in the documentation: https://pandas.pydata.org/pandas-docs/stable/user_guide/indexing.html#returning-a-view-versus-a-copy\n",
      "  hour_list[i]['hour'] = i # label each dataset so we can tell what hour they came from\n"
     ]
    }
   ],
   "source": [
    "chat_rates = ''\n",
    "\n",
    "for i in range(len(hour_list)):\n",
    "    hour_list[i]['hour'] = i # label each dataset so we can tell what hour they came from"
   ]
  },
  {
   "cell_type": "code",
   "execution_count": 363,
   "metadata": {},
   "outputs": [],
   "source": [
    "chunk_list = []\n",
    "for hour in hour_list:\n",
    "    fmc = fminChats(hour, big_df['_id'].unique()) # split into 2 min segments\n",
    "    fmc.find_rest()\n",
    "    \n",
    "    for chunk in fmc.result:\n",
    "        chunk_list.append(chunk) # fmc.result gets returned as a list"
   ]
  },
  {
   "cell_type": "code",
   "execution_count": 364,
   "metadata": {},
   "outputs": [],
   "source": [
    "import datetime as dt"
   ]
  },
  {
   "cell_type": "code",
   "execution_count": 365,
   "metadata": {},
   "outputs": [],
   "source": [
    "def rate_finder(dataframe, hour, x=2):\n",
    "    '''\n",
    "    Finds the rate of messages sent per X minutes for each user in the dataframe.\n",
    "    \n",
    "    NOTE: if only 1 timestamp in chunk dataframe, assumes the chunk is 2 minutes before the next chunk in the entire twitch chat stream\n",
    "    '''\n",
    "    # Initiate new df\n",
    "    chat_rate_df = pd.DataFrame(columns = ['hour','chunk','time_start','time_end','_id','num_chats', 'chat_rate'])\n",
    "    chatters = dataframe['_id'].unique() # id unique chatters for this chunk\n",
    "    \n",
    "    \n",
    "    for i in range(len(chatters)):\n",
    "        temp_df = dataframe[dataframe['_id']==chatters[i]] # isolate chatter's data\n",
    "        hour = hour\n",
    "        chunk = i\n",
    "        time_start = dataframe.iloc[0,0]\n",
    "        time_end = dataframe.iloc[-1,0]\n",
    "        _id = chatters[i]\n",
    "        num_chats = len(temp_df['body']) # count how many chats were sent by them\n",
    "        time_d = dt.timedelta.total_seconds(dataframe.iloc[-1,0] - dataframe.iloc[0,0]) \n",
    "\n",
    "        if time_d > 0:\n",
    "            chat_rate = (num_chats/time_d) * 60 * x # use time_d to calculate chat/sec, then multiply to get user requested rate\n",
    "        elif time_d == 0:\n",
    "            # if there is only 1 message in the chunk, there will be only 1 timestamp\n",
    "            # in that case assume that time_d = 2\n",
    "            time_d = 2\n",
    "            chat_rate = (num_chats/time_d) * 60 * x\n",
    "        else:\n",
    "            chat_rate = -100 # if number is negative, math is wrong somewhere\n",
    "\n",
    "        # gather results\n",
    "        results = pd.DataFrame({\n",
    "            'hour':[hour],\n",
    "            'chunk':[chunk],\n",
    "            'time_start':[time_start],\n",
    "            'time_end':[time_end],\n",
    "            '_id':[_id],\n",
    "            'num_chats':[num_chats],\n",
    "            'chat_rate':[chat_rate]\n",
    "        })\n",
    "\n",
    "        chat_rate_df = chat_rate_df.append(results) # store in df\n",
    "    return chat_rate_df.reset_index(drop=True)\n",
    "        "
   ]
  },
  {
   "cell_type": "markdown",
   "metadata": {},
   "source": [
    "## Per unique user"
   ]
  },
  {
   "cell_type": "code",
   "execution_count": 366,
   "metadata": {},
   "outputs": [],
   "source": [
    "chat_rates = pd.DataFrame(columns = ['hour', 'chunk', 'time_start', 'time_end', '_id', 'num_chats', 'chat_rate'])\n",
    "\n",
    "for chunk in chunk_list:\n",
    "    hour = chunk.iloc[-1,12] # col 12 is hour. \n",
    "    chat_rates = chat_rates.append(rate_finder(dataframe = chunk, hour = hour, x=2)) \n",
    "    \n",
    "chat_rates = chat_rates.reset_index(drop=True)"
   ]
  },
  {
   "cell_type": "code",
   "execution_count": 367,
   "metadata": {},
   "outputs": [],
   "source": [
    "# eliminate rows where the user only chatted once (so the timedelta is 0)\n",
    "deltas = []\n",
    "for i, row in chat_rates.iterrows():\n",
    "    delta = dt.timedelta.total_seconds(row['time_end'] - row['time_start'])\n",
    "    deltas.append(delta)\n",
    "\n",
    "chat_rates['elapsed'] = deltas\n",
    "chat_rates = chat_rates[chat_rates['elapsed'] != 0]"
   ]
  },
  {
   "cell_type": "code",
   "execution_count": 368,
   "metadata": {},
   "outputs": [
    {
     "data": {
      "text/plain": [
       "Text(0.5, -0.15, 'One dot represents one user')"
      ]
     },
     "execution_count": 368,
     "metadata": {},
     "output_type": "execute_result"
    },
    {
     "data": {
      "image/png": "[encoded data removed]",
      "text/plain": [
       "<Figure size 432x432 with 1 Axes>"
      ]
     },
     "metadata": {
      "needs_background": "light"
     },
     "output_type": "display_data"
    }
   ],
   "source": [
    "sns.catplot(x='hour',y='chat_rate', data=chat_rates, kind = 'strip',height=6)\n",
    "plt.suptitle(\"Mean chat rate per unique user, for each hour\",y=0.98)\n",
    "plt.title(\"One dot represents one user\",y=-0.15)"
   ]
  },
  {
   "cell_type": "markdown",
   "metadata": {},
   "source": [
    "__Interpretation__: There were three chunks (at hours 2,6,7 respectively) where mean unique user chat rate was higher than anywhere else"
   ]
  },
  {
   "cell_type": "code",
   "execution_count": 369,
   "metadata": {},
   "outputs": [
    {
     "name": "stdout",
     "output_type": "stream",
     "text": [
      "<class 'pandas.core.frame.DataFrame'>\n",
      "Int64Index: 125 entries, 1115 to 1239\n",
      "Data columns (total 8 columns):\n",
      " #   Column      Non-Null Count  Dtype              \n",
      "---  ------      --------------  -----              \n",
      " 0   hour        125 non-null    object             \n",
      " 1   chunk       125 non-null    object             \n",
      " 2   time_start  125 non-null    datetime64[ns, UTC]\n",
      " 3   time_end    125 non-null    datetime64[ns, UTC]\n",
      " 4   _id         125 non-null    object             \n",
      " 5   num_chats   125 non-null    object             \n",
      " 6   chat_rate   125 non-null    float64            \n",
      " 7   elapsed     125 non-null    float64            \n",
      "dtypes: datetime64[ns, UTC](2), float64(2), object(4)\n",
      "memory usage: 8.8+ KB\n"
     ]
    }
   ],
   "source": [
    "isolated = chat_rates[chat_rates['hour']==7]\n",
    "isolated.info()"
   ]
  },
  {
   "cell_type": "code",
   "execution_count": 375,
   "metadata": {},
   "outputs": [],
   "source": [
    "mean_rates = chat_rates.groupby(['hour','chunk']).mean().reset_index()"
   ]
  },
  {
   "cell_type": "code",
   "execution_count": 378,
   "metadata": {},
   "outputs": [
    {
     "data": {
      "text/html": [
       "<div>\n",
       "<style scoped>\n",
       "    .dataframe tbody tr th:only-of-type {\n",
       "        vertical-align: middle;\n",
       "    }\n",
       "\n",
       "    .dataframe tbody tr th {\n",
       "        vertical-align: top;\n",
       "    }\n",
       "\n",
       "    .dataframe thead th {\n",
       "        text-align: right;\n",
       "    }\n",
       "</style>\n",
       "<table border=\"1\" class=\"dataframe\">\n",
       "  <thead>\n",
       "    <tr style=\"text-align: right;\">\n",
       "      <th></th>\n",
       "      <th>hour</th>\n",
       "      <th>chunk</th>\n",
       "      <th>chat_rate</th>\n",
       "      <th>elapsed</th>\n",
       "    </tr>\n",
       "  </thead>\n",
       "  <tbody>\n",
       "    <tr>\n",
       "      <th>87</th>\n",
       "      <td>7</td>\n",
       "      <td>1</td>\n",
       "      <td>5.616447</td>\n",
       "      <td>105.146882</td>\n",
       "    </tr>\n",
       "    <tr>\n",
       "      <th>86</th>\n",
       "      <td>7</td>\n",
       "      <td>0</td>\n",
       "      <td>4.851385</td>\n",
       "      <td>105.146882</td>\n",
       "    </tr>\n",
       "    <tr>\n",
       "      <th>101</th>\n",
       "      <td>7</td>\n",
       "      <td>15</td>\n",
       "      <td>4.768575</td>\n",
       "      <td>100.659000</td>\n",
       "    </tr>\n",
       "    <tr>\n",
       "      <th>78</th>\n",
       "      <td>6</td>\n",
       "      <td>0</td>\n",
       "      <td>3.991713</td>\n",
       "      <td>103.504125</td>\n",
       "    </tr>\n",
       "    <tr>\n",
       "      <th>100</th>\n",
       "      <td>7</td>\n",
       "      <td>14</td>\n",
       "      <td>3.576431</td>\n",
       "      <td>100.659000</td>\n",
       "    </tr>\n",
       "    <tr>\n",
       "      <th>1</th>\n",
       "      <td>0</td>\n",
       "      <td>1</td>\n",
       "      <td>3.497183</td>\n",
       "      <td>111.750143</td>\n",
       "    </tr>\n",
       "    <tr>\n",
       "      <th>96</th>\n",
       "      <td>7</td>\n",
       "      <td>10</td>\n",
       "      <td>3.486104</td>\n",
       "      <td>109.648000</td>\n",
       "    </tr>\n",
       "    <tr>\n",
       "      <th>0</th>\n",
       "      <td>0</td>\n",
       "      <td>0</td>\n",
       "      <td>3.420562</td>\n",
       "      <td>111.750143</td>\n",
       "    </tr>\n",
       "    <tr>\n",
       "      <th>26</th>\n",
       "      <td>2</td>\n",
       "      <td>0</td>\n",
       "      <td>3.296661</td>\n",
       "      <td>92.380455</td>\n",
       "    </tr>\n",
       "    <tr>\n",
       "      <th>3</th>\n",
       "      <td>0</td>\n",
       "      <td>3</td>\n",
       "      <td>3.230044</td>\n",
       "      <td>114.060630</td>\n",
       "    </tr>\n",
       "  </tbody>\n",
       "</table>\n",
       "</div>"
      ],
      "text/plain": [
       "     hour  chunk  chat_rate     elapsed\n",
       "87      7      1   5.616447  105.146882\n",
       "86      7      0   4.851385  105.146882\n",
       "101     7     15   4.768575  100.659000\n",
       "78      6      0   3.991713  103.504125\n",
       "100     7     14   3.576431  100.659000\n",
       "1       0      1   3.497183  111.750143\n",
       "96      7     10   3.486104  109.648000\n",
       "0       0      0   3.420562  111.750143\n",
       "26      2      0   3.296661   92.380455\n",
       "3       0      3   3.230044  114.060630"
      ]
     },
     "execution_count": 378,
     "metadata": {},
     "output_type": "execute_result"
    }
   ],
   "source": [
    "mean_rates.sort_values('chat_rate', ascending=False).head(10)"
   ]
  },
  {
   "cell_type": "code",
   "execution_count": 379,
   "metadata": {},
   "outputs": [
    {
     "data": {
      "text/plain": [
       "<seaborn.axisgrid.FacetGrid at 0x7fd9c1d16b80>"
      ]
     },
     "execution_count": 379,
     "metadata": {},
     "output_type": "execute_result"
    },
    {
     "data": {
      "image/png": "[encoded data removed]",
      "text/plain": [
       "<Figure size 360x360 with 1 Axes>"
      ]
     },
     "metadata": {
      "needs_background": "light"
     },
     "output_type": "display_data"
    }
   ],
   "source": [
    "sns.catplot(x='hour',y='chat_rate',data=mean_rates, kind='strip')"
   ]
  },
  {
   "cell_type": "markdown",
   "metadata": {},
   "source": [
    "## Per hour"
   ]
  },
  {
   "cell_type": "code",
   "execution_count": 371,
   "metadata": {},
   "outputs": [],
   "source": [
    "def big_rate_finder(dataframe, x=2):\n",
    "    '''\n",
    "    Finds the overall chat rate per X minutes, regardless of chatter ID\n",
    "    '''\n",
    "    \n",
    "    dataframe = dataframe.sort_values('created_at')\n",
    "    seconds = dt.timedelta.total_seconds(dataframe.iloc[-1,0] - dataframe.iloc[0,0])\n",
    "    messages = len(dataframe['body'])\n",
    "    \n",
    "    rate = (messages/seconds) * 60 * x\n",
    "    \n",
    "    return rate"
   ]
  },
  {
   "cell_type": "code",
   "execution_count": 372,
   "metadata": {},
   "outputs": [],
   "source": [
    "hour_rates = {}\n",
    "for i in range(len(hour_list)):\n",
    "    rate = big_rate_finder(hour_list[i])\n",
    "    hour_rates[i] = [rate]"
   ]
  },
  {
   "cell_type": "code",
   "execution_count": 373,
   "metadata": {},
   "outputs": [],
   "source": [
    "hour_rates = pd.DataFrame(hour_rates).T.reset_index()\n",
    "hour_rates.columns = ['hour','chat_per_2min']"
   ]
  },
  {
   "cell_type": "code",
   "execution_count": 374,
   "metadata": {},
   "outputs": [
    {
     "data": {
      "text/plain": [
       "Text(0.5, 1.0, 'Chat per 2min')"
      ]
     },
     "execution_count": 374,
     "metadata": {},
     "output_type": "execute_result"
    },
    {
     "data": {
      "image/png": "[encoded data removed]",
      "text/plain": [
       "<Figure size 360x360 with 1 Axes>"
      ]
     },
     "metadata": {
      "needs_background": "light"
     },
     "output_type": "display_data"
    }
   ],
   "source": [
    "sns.catplot(x='hour',y='chat_per_2min',data=hour_rates, kind='bar')\n",
    "plt.title(\"Chat per 2min\")"
   ]
  },
  {
   "cell_type": "markdown",
   "metadata": {},
   "source": [
    "__Interpretation__: Hours 0,1,7 had the most chat activity overall. "
   ]
  },
  {
   "cell_type": "code",
   "execution_count": null,
   "metadata": {},
   "outputs": [],
   "source": []
  }
 ],
 "metadata": {
  "kernelspec": {
   "display_name": "Python 3",
   "language": "python",
   "name": "python3"
  },
  "language_info": {
   "codemirror_mode": {
    "name": "ipython",
    "version": 3
   },
   "file_extension": ".py",
   "mimetype": "text/x-python",
   "name": "python",
   "nbconvert_exporter": "python",
   "pygments_lexer": "ipython3",
   "version": "3.8.2"
  }
 },
 "nbformat": 4,
 "nbformat_minor": 4
}
