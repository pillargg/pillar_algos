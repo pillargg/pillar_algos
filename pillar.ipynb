{
 "cells": [
  {
   "cell_type": "code",
   "execution_count": 1,
   "metadata": {},
   "outputs": [],
   "source": [
    "import pandas as pd\n",
    "import numpy as np\n",
    "\n",
    "import matplotlib.pyplot as plt\n",
    "import seaborn as sns"
   ]
  },
  {
   "cell_type": "code",
   "execution_count": 2,
   "metadata": {},
   "outputs": [],
   "source": [
    "import datetime as dt\n",
    "import json"
   ]
  },
  {
   "cell_type": "markdown",
   "metadata": {},
   "source": [
    "# Preliminary Data"
   ]
  },
  {
   "cell_type": "markdown",
   "metadata": {},
   "source": [
    "Used to create data cleaning function"
   ]
  },
  {
   "cell_type": "code",
   "execution_count": 3,
   "metadata": {},
   "outputs": [],
   "source": [
    "def organize_twitch_chat(json_name):\n",
    "    data = pd.read_json(json_name, orient='records')\n",
    "    df = data[['created_at','updated_at','commenter','message']]\n",
    "    messages = df['message'].apply(pd.Series).drop(['fragments','user_color','user_notice_params'],axis=1)\n",
    "    users = df['commenter'].apply(pd.Series)\n",
    "    \n",
    "    df = df.drop(['message','commenter'], axis=1) # duplicate info\n",
    "    df = pd.concat([df,users,messages],axis=1)\n",
    "    df = df.iloc[:,[0,1,2,3,4,5,6,9,10,11,12,13]] # select cols that arent duplicates\n",
    "    \n",
    "    return df"
   ]
  },
  {
   "cell_type": "code",
   "execution_count": 4,
   "metadata": {},
   "outputs": [],
   "source": [
    "df = organize_twitch_chat(\"sample_data.json\")"
   ]
  },
  {
   "cell_type": "code",
   "execution_count": 5,
   "metadata": {},
   "outputs": [],
   "source": [
    "df['time_clipped'] = df['created_at'].astype(str).str.extract('(\\d\\d\\d\\d-\\d\\d-\\d\\d \\d\\d:\\d\\d)')"
   ]
  },
  {
   "cell_type": "code",
   "execution_count": 6,
   "metadata": {},
   "outputs": [
    {
     "data": {
      "text/html": [
       "<div>\n",
       "<style scoped>\n",
       "    .dataframe tbody tr th:only-of-type {\n",
       "        vertical-align: middle;\n",
       "    }\n",
       "\n",
       "    .dataframe tbody tr th {\n",
       "        vertical-align: top;\n",
       "    }\n",
       "\n",
       "    .dataframe thead th {\n",
       "        text-align: right;\n",
       "    }\n",
       "</style>\n",
       "<table border=\"1\" class=\"dataframe\">\n",
       "  <thead>\n",
       "    <tr style=\"text-align: right;\">\n",
       "      <th></th>\n",
       "      <th>created_at</th>\n",
       "      <th>updated_at</th>\n",
       "      <th>_id</th>\n",
       "      <th>name</th>\n",
       "      <th>type</th>\n",
       "      <th>bio</th>\n",
       "      <th>logo</th>\n",
       "      <th>body</th>\n",
       "      <th>is_action</th>\n",
       "      <th>user_badges</th>\n",
       "      <th>emoticons</th>\n",
       "      <th>time_clipped</th>\n",
       "    </tr>\n",
       "    <tr>\n",
       "      <th>display_name</th>\n",
       "      <th></th>\n",
       "      <th></th>\n",
       "      <th></th>\n",
       "      <th></th>\n",
       "      <th></th>\n",
       "      <th></th>\n",
       "      <th></th>\n",
       "      <th></th>\n",
       "      <th></th>\n",
       "      <th></th>\n",
       "      <th></th>\n",
       "      <th></th>\n",
       "    </tr>\n",
       "  </thead>\n",
       "  <tbody>\n",
       "    <tr>\n",
       "      <th>mdsvellhoo</th>\n",
       "      <td>1</td>\n",
       "      <td>1</td>\n",
       "      <td>1</td>\n",
       "      <td>1</td>\n",
       "      <td>1</td>\n",
       "      <td>0</td>\n",
       "      <td>1</td>\n",
       "      <td>1</td>\n",
       "      <td>1</td>\n",
       "      <td>0</td>\n",
       "      <td>0</td>\n",
       "      <td>1</td>\n",
       "    </tr>\n",
       "    <tr>\n",
       "      <th>chicken2013</th>\n",
       "      <td>1</td>\n",
       "      <td>1</td>\n",
       "      <td>1</td>\n",
       "      <td>1</td>\n",
       "      <td>1</td>\n",
       "      <td>0</td>\n",
       "      <td>1</td>\n",
       "      <td>1</td>\n",
       "      <td>1</td>\n",
       "      <td>0</td>\n",
       "      <td>0</td>\n",
       "      <td>1</td>\n",
       "    </tr>\n",
       "    <tr>\n",
       "      <th>luuser830</th>\n",
       "      <td>1</td>\n",
       "      <td>1</td>\n",
       "      <td>1</td>\n",
       "      <td>1</td>\n",
       "      <td>1</td>\n",
       "      <td>0</td>\n",
       "      <td>1</td>\n",
       "      <td>1</td>\n",
       "      <td>1</td>\n",
       "      <td>1</td>\n",
       "      <td>0</td>\n",
       "      <td>1</td>\n",
       "    </tr>\n",
       "    <tr>\n",
       "      <th>Pekoeta</th>\n",
       "      <td>1</td>\n",
       "      <td>1</td>\n",
       "      <td>1</td>\n",
       "      <td>1</td>\n",
       "      <td>1</td>\n",
       "      <td>0</td>\n",
       "      <td>1</td>\n",
       "      <td>1</td>\n",
       "      <td>1</td>\n",
       "      <td>1</td>\n",
       "      <td>1</td>\n",
       "      <td>1</td>\n",
       "    </tr>\n",
       "    <tr>\n",
       "      <th>littleballofhate</th>\n",
       "      <td>1</td>\n",
       "      <td>1</td>\n",
       "      <td>1</td>\n",
       "      <td>1</td>\n",
       "      <td>1</td>\n",
       "      <td>0</td>\n",
       "      <td>1</td>\n",
       "      <td>1</td>\n",
       "      <td>1</td>\n",
       "      <td>1</td>\n",
       "      <td>0</td>\n",
       "      <td>1</td>\n",
       "    </tr>\n",
       "    <tr>\n",
       "      <th>...</th>\n",
       "      <td>...</td>\n",
       "      <td>...</td>\n",
       "      <td>...</td>\n",
       "      <td>...</td>\n",
       "      <td>...</td>\n",
       "      <td>...</td>\n",
       "      <td>...</td>\n",
       "      <td>...</td>\n",
       "      <td>...</td>\n",
       "      <td>...</td>\n",
       "      <td>...</td>\n",
       "      <td>...</td>\n",
       "    </tr>\n",
       "    <tr>\n",
       "      <th>stevekay4444</th>\n",
       "      <td>20</td>\n",
       "      <td>20</td>\n",
       "      <td>20</td>\n",
       "      <td>20</td>\n",
       "      <td>20</td>\n",
       "      <td>0</td>\n",
       "      <td>20</td>\n",
       "      <td>20</td>\n",
       "      <td>20</td>\n",
       "      <td>20</td>\n",
       "      <td>1</td>\n",
       "      <td>20</td>\n",
       "    </tr>\n",
       "    <tr>\n",
       "      <th>CptnJLPicard</th>\n",
       "      <td>22</td>\n",
       "      <td>22</td>\n",
       "      <td>22</td>\n",
       "      <td>22</td>\n",
       "      <td>22</td>\n",
       "      <td>0</td>\n",
       "      <td>22</td>\n",
       "      <td>22</td>\n",
       "      <td>22</td>\n",
       "      <td>0</td>\n",
       "      <td>0</td>\n",
       "      <td>22</td>\n",
       "    </tr>\n",
       "    <tr>\n",
       "      <th>ninaisnoob</th>\n",
       "      <td>37</td>\n",
       "      <td>37</td>\n",
       "      <td>37</td>\n",
       "      <td>37</td>\n",
       "      <td>37</td>\n",
       "      <td>37</td>\n",
       "      <td>37</td>\n",
       "      <td>37</td>\n",
       "      <td>37</td>\n",
       "      <td>37</td>\n",
       "      <td>10</td>\n",
       "      <td>37</td>\n",
       "    </tr>\n",
       "    <tr>\n",
       "      <th>SamDLIVE</th>\n",
       "      <td>43</td>\n",
       "      <td>43</td>\n",
       "      <td>43</td>\n",
       "      <td>43</td>\n",
       "      <td>43</td>\n",
       "      <td>0</td>\n",
       "      <td>43</td>\n",
       "      <td>43</td>\n",
       "      <td>43</td>\n",
       "      <td>0</td>\n",
       "      <td>7</td>\n",
       "      <td>43</td>\n",
       "    </tr>\n",
       "    <tr>\n",
       "      <th>gassyvegan247</th>\n",
       "      <td>95</td>\n",
       "      <td>95</td>\n",
       "      <td>95</td>\n",
       "      <td>95</td>\n",
       "      <td>95</td>\n",
       "      <td>0</td>\n",
       "      <td>95</td>\n",
       "      <td>95</td>\n",
       "      <td>95</td>\n",
       "      <td>95</td>\n",
       "      <td>14</td>\n",
       "      <td>95</td>\n",
       "    </tr>\n",
       "  </tbody>\n",
       "</table>\n",
       "<p>100 rows × 12 columns</p>\n",
       "</div>"
      ],
      "text/plain": [
       "                  created_at  updated_at  _id  name  type  bio  logo  body  \\\n",
       "display_name                                                                 \n",
       "mdsvellhoo                 1           1    1     1     1    0     1     1   \n",
       "chicken2013                1           1    1     1     1    0     1     1   \n",
       "luuser830                  1           1    1     1     1    0     1     1   \n",
       "Pekoeta                    1           1    1     1     1    0     1     1   \n",
       "littleballofhate           1           1    1     1     1    0     1     1   \n",
       "...                      ...         ...  ...   ...   ...  ...   ...   ...   \n",
       "stevekay4444              20          20   20    20    20    0    20    20   \n",
       "CptnJLPicard              22          22   22    22    22    0    22    22   \n",
       "ninaisnoob                37          37   37    37    37   37    37    37   \n",
       "SamDLIVE                  43          43   43    43    43    0    43    43   \n",
       "gassyvegan247             95          95   95    95    95    0    95    95   \n",
       "\n",
       "                  is_action  user_badges  emoticons  time_clipped  \n",
       "display_name                                                       \n",
       "mdsvellhoo                1            0          0             1  \n",
       "chicken2013               1            0          0             1  \n",
       "luuser830                 1            1          0             1  \n",
       "Pekoeta                   1            1          1             1  \n",
       "littleballofhate          1            1          0             1  \n",
       "...                     ...          ...        ...           ...  \n",
       "stevekay4444             20           20          1            20  \n",
       "CptnJLPicard             22            0          0            22  \n",
       "ninaisnoob               37           37         10            37  \n",
       "SamDLIVE                 43            0          7            43  \n",
       "gassyvegan247            95           95         14            95  \n",
       "\n",
       "[100 rows x 12 columns]"
      ]
     },
     "execution_count": 6,
     "metadata": {},
     "output_type": "execute_result"
    }
   ],
   "source": [
    "df.groupby('display_name').count().sort_values('body')"
   ]
  },
  {
   "cell_type": "code",
   "execution_count": 7,
   "metadata": {},
   "outputs": [
    {
     "data": {
      "text/plain": [
       "Text(0.5, 1.0, 'Messages per User')"
      ]
     },
     "execution_count": 7,
     "metadata": {},
     "output_type": "execute_result"
    },
    {
     "data": {
      "image/png": "[encoded data removed]",
      "text/plain": [
       "<Figure size 432x288 with 1 Axes>"
      ]
     },
     "metadata": {
      "needs_background": "light"
     },
     "output_type": "display_data"
    }
   ],
   "source": [
    "sns.histplot(df['display_name'])\n",
    "plt.title('Messages per User')"
   ]
  },
  {
   "cell_type": "markdown",
   "metadata": {},
   "source": [
    "# Big Data\n",
    "\n",
    "[Twitch Source](https://www.twitch.tv/videos/955629991)"
   ]
  },
  {
   "cell_type": "code",
   "execution_count": 8,
   "metadata": {},
   "outputs": [],
   "source": [
    "big_df = organize_twitch_chat(\"big_data.json\") # fetch appropriate data"
   ]
  },
  {
   "cell_type": "code",
   "execution_count": 9,
   "metadata": {},
   "outputs": [
    {
     "data": {
      "text/plain": [
       "Text(0.5, 1.0, 'Message Count')"
      ]
     },
     "execution_count": 9,
     "metadata": {},
     "output_type": "execute_result"
    },
    {
     "data": {
      "image/png": "[encoded data removed]",
      "text/plain": [
       "<Figure size 432x288 with 1 Axes>"
      ]
     },
     "metadata": {
      "needs_background": "light"
     },
     "output_type": "display_data"
    }
   ],
   "source": [
    "sns.histplot(big_df['created_at'], bins=100)\n",
    "plt.title(\"Message Count\")"
   ]
  },
  {
   "cell_type": "code",
   "execution_count": 10,
   "metadata": {},
   "outputs": [
    {
     "data": {
      "text/plain": [
       "Text(0.5, 1.0, 'Messages per User')"
      ]
     },
     "execution_count": 10,
     "metadata": {},
     "output_type": "execute_result"
    },
    {
     "data": {
      "image/png": "[encoded data removed]",
      "text/plain": [
       "<Figure size 432x288 with 1 Axes>"
      ]
     },
     "metadata": {
      "needs_background": "light"
     },
     "output_type": "display_data"
    }
   ],
   "source": [
    "sns.histplot(big_df['display_name'])\n",
    "plt.title(\"Messages per User\")"
   ]
  },
  {
   "cell_type": "markdown",
   "metadata": {},
   "source": [
    "## User Stats"
   ]
  },
  {
   "cell_type": "code",
   "execution_count": 11,
   "metadata": {},
   "outputs": [],
   "source": [
    "def user_stats(dataframe):\n",
    "    '''\n",
    "    Returns the user who sent the most messages, most emoticons, and who changed their username the most\n",
    "    '''\n",
    "    temp_df = dataframe.groupby(\"name\").count().reset_index()\n",
    "    temp_df['username_chg'] = temp_df['_id'] - temp_df['display_name'] # if mismatch in count, then its probs changed username\n",
    "    \n",
    "    stats = {}\n",
    "    for col in ['_id','emoticons', 'username_chg']:\n",
    "        sort = temp_df.sort_values(col, ascending=False)[['name',col]].iloc[0]\n",
    "        stat = sort[col]\n",
    "        _id = sort['name']\n",
    "        \n",
    "        if col == '_id':\n",
    "            col = 'num_messages'\n",
    "        stats[col] = [_id, stat]\n",
    "    \n",
    "    return stats"
   ]
  },
  {
   "cell_type": "code",
   "execution_count": 12,
   "metadata": {},
   "outputs": [
    {
     "data": {
      "text/plain": [
       "{'num_messages': ['dominickstarcraft', 239],\n",
       " 'emoticons': ['gassyvegan247', 27],\n",
       " 'username_chg': ['21up21', 0]}"
      ]
     },
     "execution_count": 12,
     "metadata": {},
     "output_type": "execute_result"
    }
   ],
   "source": [
    "user_stats(big_df)"
   ]
  },
  {
   "cell_type": "markdown",
   "metadata": {},
   "source": [
    "# Algorithm 1: percent user participation"
   ]
  },
  {
   "cell_type": "markdown",
   "metadata": {},
   "source": [
    "__Description__: Try to find the best moments in clips based on where the most users participated\n",
    "1. ~~Isolate chat transcript to 1 hour long sessions~~ DONE `dfSplitter`\n",
    "1. ~~Find total number of unique users that participated in session~~ DONE\n",
    "1. ~~Find % of users that participated at any given `2 minute` timestamp~~\n",
    "1. ~~Isolate `top 3` timestamps per session~~"
   ]
  },
  {
   "cell_type": "markdown",
   "metadata": {},
   "source": [
    "## Split into hour sections"
   ]
  },
  {
   "cell_type": "code",
   "execution_count": 48,
   "metadata": {},
   "outputs": [],
   "source": [
    "class dfSplitter():\n",
    "    def __init__(self, dataframe):\n",
    "        '''\n",
    "        Splits dataframe into multiple dataframes, each 1 hour long\n",
    "\n",
    "        output:\n",
    "        ------\n",
    "        my_list: list\n",
    "            List of dataframes\n",
    "        '''\n",
    "        # init function finds the first split\n",
    "        dataframe = dataframe.sort_values(\"created_at\")\n",
    "        first = dataframe[dataframe['created_at'] <= dataframe.loc[0,'created_at'] + pd.Timedelta(hours = 1)]\n",
    "        \n",
    "        self.last_i = first.index.max()\n",
    "        self.dataframe = dataframe\n",
    "        self.result = []\n",
    "        self.result.append(dataframe.iloc[0, 0]) # NOTE: assumes first col is always \"created_at\" col\n",
    "        self.result.append(first)\n",
    "        \n",
    "    def find_rest(self):\n",
    "        '''\n",
    "        Uses last index of first split to find the others\n",
    "        '''\n",
    "        dataframe = self.dataframe\n",
    "        last_i = self.last_i\n",
    "        if last_i+1 != len(dataframe):\n",
    "            new_df = dataframe.loc[last_i+1:,:] # clip df to start at last_i\n",
    "            newest = new_df[new_df['created_at'] <= new_df.loc[last_i+1,'created_at'] + pd.Timedelta(hours=1)] # filter by hour\n",
    "            self.result.append(newest) # store in list\n",
    "            self.last_i = newest.index.max()\n",
    "            \n",
    "            self.find_rest() # repeat\n",
    "        else:\n",
    "            return dataframe # never actually used"
   ]
  },
  {
   "cell_type": "code",
   "execution_count": 49,
   "metadata": {},
   "outputs": [],
   "source": [
    "def sanity_time_check(dataframe):\n",
    "    '''\n",
    "    Checks the time length of dataframe\n",
    "    '''\n",
    "    return dataframe['created_at'].max() - dataframe['created_at'].min()\n",
    "\n",
    "def sanity_list_checker(list1):\n",
    "    '''\n",
    "    Prints out detailed information for each item in the list\n",
    "    '''\n",
    "    for data in list1:\n",
    "        print(f\"Hour {data['hour_section'].unique()} length: {sanity_time_check(data)}\")"
   ]
  },
  {
   "cell_type": "markdown",
   "metadata": {},
   "source": [
    "## Split each section into 2 minute chunks"
   ]
  },
  {
   "cell_type": "code",
   "execution_count": 50,
   "metadata": {},
   "outputs": [],
   "source": [
    "class fminChats():\n",
    "    def __init__(self,dataframe, big_unique, min_= 2):\n",
    "        '''\n",
    "        Finds the percent unique chatters that chatted every min_ minutes\n",
    "        \n",
    "        input\n",
    "        -----\n",
    "        dataframe: pd.DataFrame\n",
    "            Twitch chat dataframe organized and split by dfSplitter\n",
    "        big_unique: int\n",
    "            Total number of unique chatters for the entire Twitch stream\n",
    "        min_: int\n",
    "            Minute range to find timestamps for. Ex: Find 2 min long timestamps.\n",
    "        '''\n",
    "        \n",
    "        # init function finds the first split\n",
    "        dataframe = dataframe.sort_values(\"created_at\")\n",
    "        first = dataframe[dataframe['created_at'] <= dataframe.iloc[0,0] + pd.Timedelta(minutes = min_)]\n",
    "        \n",
    "        self.min_ = min_\n",
    "        self.total_uniques = len(dataframe['_id'].unique())\n",
    "        self.big_unique = big_unique\n",
    "        \n",
    "        self.last_i = first.index.max()\n",
    "        self.dataframe = dataframe\n",
    "        \n",
    "        self.result = []\n",
    "        self.result.append(first)\n",
    "        \n",
    "    def find_rest(self):\n",
    "        '''\n",
    "        Uses last index of first split to find the others\n",
    "        '''\n",
    "        dataframe = self.dataframe\n",
    "        last_i = self.last_i\n",
    "        if last_i+1 < dataframe.index.max(): # NOT len(dataframe), that bugs out and i dont wanna explain why\n",
    "            new_df = dataframe.loc[last_i+1:,:] # clip df to start new min_min calc at last_i+1\n",
    "            newest = new_df[new_df['created_at'] <= new_df.loc[last_i+1,'created_at'] + pd.Timedelta(value=self.min_, unit='minutes')] # filter by minute\n",
    "            self.result.append(newest) # store in list\n",
    "            \n",
    "            self.last_i = newest.index.max()\n",
    "            self.find_rest() # repeat\n",
    "        else:\n",
    "            x=''\n",
    "    \n",
    "    def perc_uniques(self, chunk_list):\n",
    "        '''\n",
    "        Finds the percent unique chatters for eachd dataframe in the list. Dataframes assumed to be split using self.find_rest.\n",
    "        '''\n",
    "        \n",
    "        perc_unique = {\n",
    "                f'{self.min_}min_chunk':[],\n",
    "                'start':[],\n",
    "                'end':[],\n",
    "                'num_unique':[],\n",
    "                'perc_rel_unique':[],\n",
    "                'perc_abs_unique':[]\n",
    "        }\n",
    "        \n",
    "        \n",
    "        for i in range(len(chunk_list)):\n",
    "            # calcuate\n",
    "            chunk = i\n",
    "            unique = len(chunk_list[i]['_id'].unique())\n",
    "            timestamp = [chunk_list[i]['created_at'].min(), chunk_list[i]['created_at'].max()]\n",
    "            perc_rel = unique/self.total_uniques # this is the total uniques in THAT DATAFRAME, ie the hourly cut\n",
    "            perc_abs = unique/self.big_unique # this is the total uniques in the entire twitch session\n",
    "            # store\n",
    "            perc_unique[f'{self.min_}min_chunk'].append(chunk)\n",
    "            perc_unique['start'].append(timestamp[0])\n",
    "            perc_unique['end'].append(timestamp[1])\n",
    "            perc_unique['num_unique'].append(unique)\n",
    "            perc_unique['perc_rel_unique'].append(perc_rel)\n",
    "            perc_unique['perc_abs_unique'].append(perc_abs)\n",
    "            \n",
    "        df_unique = pd.DataFrame(perc_unique)\n",
    "        df_unique['elapsed'] = df_unique['end'] - df_unique['start']\n",
    "        return df_unique\n",
    "    "
   ]
  },
  {
   "cell_type": "markdown",
   "metadata": {},
   "source": [
    "The above class will do everything for one df. The following functions will tie both classes together and format the results."
   ]
  },
  {
   "cell_type": "code",
   "execution_count": 91,
   "metadata": {},
   "outputs": [],
   "source": [
    "def results_jsonified(results, vid_id, first_sec):\n",
    "    '''\n",
    "    Extracts relevant results and makes them machine readable\n",
    "    \n",
    "    input\n",
    "    -----\n",
    "    results: pd.DataFrame\n",
    "        DataFrame with at least start, end columns.\n",
    "    vid_id: int\n",
    "        Twitch id of video\n",
    "    '''\n",
    "    results['first_sec'] = first_sec # to calculate elapsed time from first sec, in seconds\n",
    "    results = results.sort_values('perc_rel_unique', ascending=False) # so json format is returned with top result being the most relevant\n",
    "    json_results = []\n",
    "    for i, row in results.iterrows():\n",
    "        og = row['first_sec']\n",
    "        start = row['start']\n",
    "        end = row['end']\n",
    "        \n",
    "        start_sec = dt.timedelta.total_seconds(start-og) # find difference between first sec and given timestamp, convert that to seconds\n",
    "        end_sec = dt.timedelta.total_seconds(end-og)\n",
    "        \n",
    "        dict_ = {\"startTime\":start_sec,\n",
    "                 \"endTime\":end_sec,\n",
    "                 \"videoId\":vid_id}\n",
    "        json_results.append(dict_)\n",
    "        \n",
    "    return json_results\n",
    "        \n",
    "def hour_iterator(big_df, vid_id, min_=2):\n",
    "    '''\n",
    "    Pushes all dfs in a list through the fminChats function, returns a dataframe of results\n",
    "    \n",
    "    input\n",
    "    -----\n",
    "    big_df: pd.DataFrame\n",
    "        Df of the entire twitch session. This is the one that was split by dfSplitter class\n",
    "    min_: int\n",
    "        How long a timestamp range should be\n",
    "    vid_id: int\n",
    "        Twitch id of video. Needed for jsonify function\n",
    "    '''\n",
    "    ds = dfSplitter(big_df) # initiate\n",
    "    ds.find_rest() # split big_df into 1 hour long separate dfs\n",
    "    hour_list = ds.result # result stored in class var. NOTE: index 0 is always the very first timestamp of big_df\n",
    "    first_sec = hour_list[0]\n",
    "    hour_list = hour_list[1:]\n",
    "\n",
    "    # initiate empty results df\n",
    "    results = pd.DataFrame(columns=['hour', f'{min_}min_chunk', 'start', 'end', 'num_unique', 'perc_rel_unique', 'perc_abs_unique'])\n",
    "    max_uniques = len(big_df['_id'].unique()) # the total number of unique chatters for the entire twitch session\n",
    "\n",
    "    # iterate all sections through the class\n",
    "    for i in range(len(hour_list)):\n",
    "        fm = fminChats(hour_list[i], max_uniques)\n",
    "        _n = fm.find_rest() # _n not needed\n",
    "        chunk_list = fm.result # get back list of dfs, each 2 minutes long\n",
    "\n",
    "        hr_uniques = fm.perc_uniques(chunk_list)\n",
    "        hr_uniques['hour'] = i + 1\n",
    "        results = results.append(hr_uniques)\n",
    "\n",
    "    results['elapsed'] = results['end'] - results['start'] # to double check length\n",
    "    pretty_results = results.reset_index(drop=True) # prettify\n",
    "    \n",
    "    json_results = results_jsonified(results, vid_id, first_sec) # ordered by top perc_rel_unique\n",
    "    \n",
    "    return pretty_results, json_results"
   ]
  },
  {
   "cell_type": "code",
   "execution_count": 92,
   "metadata": {},
   "outputs": [],
   "source": [
    "results, json_results = hour_iterator(big_df, vid_id=955629991)"
   ]
  },
  {
   "cell_type": "code",
   "execution_count": 109,
   "metadata": {},
   "outputs": [],
   "source": [
    "def save_json(json_results):\n",
    "    '''\n",
    "    Saves json_results in txt file.\n",
    "    '''\n",
    "    str_  = '['\n",
    "    for dict_ in json_results:\n",
    "        str_ += str(dict_) + ', \\n '\n",
    "    str_ += ']'\n",
    "    \n",
    "    with open(\"results.txt\",'w') as f:\n",
    "        f.write(str_)"
   ]
  },
  {
   "cell_type": "markdown",
   "metadata": {},
   "source": [
    "## Results Top five moments"
   ]
  },
  {
   "cell_type": "code",
   "execution_count": 89,
   "metadata": {},
   "outputs": [
    {
     "data": {
      "text/html": [
       "<div>\n",
       "<style scoped>\n",
       "    .dataframe tbody tr th:only-of-type {\n",
       "        vertical-align: middle;\n",
       "    }\n",
       "\n",
       "    .dataframe tbody tr th {\n",
       "        vertical-align: top;\n",
       "    }\n",
       "\n",
       "    .dataframe thead th {\n",
       "        text-align: right;\n",
       "    }\n",
       "</style>\n",
       "<table border=\"1\" class=\"dataframe\">\n",
       "  <thead>\n",
       "    <tr style=\"text-align: right;\">\n",
       "      <th></th>\n",
       "      <th>hour</th>\n",
       "      <th>2min_chunk</th>\n",
       "      <th>start</th>\n",
       "      <th>end</th>\n",
       "      <th>num_unique</th>\n",
       "      <th>perc_rel_unique</th>\n",
       "      <th>perc_abs_unique</th>\n",
       "      <th>elapsed</th>\n",
       "    </tr>\n",
       "  </thead>\n",
       "  <tbody>\n",
       "    <tr>\n",
       "      <th>196</th>\n",
       "      <td>8</td>\n",
       "      <td>16</td>\n",
       "      <td>2021-03-20 05:32:08.108000+00:00</td>\n",
       "      <td>2021-03-20 05:33:48.767000+00:00</td>\n",
       "      <td>18</td>\n",
       "      <td>0.545455</td>\n",
       "      <td>0.104651</td>\n",
       "      <td>0 days 00:01:40.659000</td>\n",
       "    </tr>\n",
       "    <tr>\n",
       "      <th>129</th>\n",
       "      <td>6</td>\n",
       "      <td>0</td>\n",
       "      <td>2021-03-20 02:57:53.904000+00:00</td>\n",
       "      <td>2021-03-20 02:59:51.806000+00:00</td>\n",
       "      <td>15</td>\n",
       "      <td>0.319149</td>\n",
       "      <td>0.087209</td>\n",
       "      <td>0 days 00:01:57.902000</td>\n",
       "    </tr>\n",
       "    <tr>\n",
       "      <th>147</th>\n",
       "      <td>6</td>\n",
       "      <td>18</td>\n",
       "      <td>2021-03-20 03:38:02.837000+00:00</td>\n",
       "      <td>2021-03-20 03:40:01.726000+00:00</td>\n",
       "      <td>15</td>\n",
       "      <td>0.319149</td>\n",
       "      <td>0.087209</td>\n",
       "      <td>0 days 00:01:58.889000</td>\n",
       "    </tr>\n",
       "    <tr>\n",
       "      <th>123</th>\n",
       "      <td>5</td>\n",
       "      <td>19</td>\n",
       "      <td>2021-03-20 02:44:47.050000+00:00</td>\n",
       "      <td>2021-03-20 02:46:44.245000+00:00</td>\n",
       "      <td>14</td>\n",
       "      <td>0.274510</td>\n",
       "      <td>0.081395</td>\n",
       "      <td>0 days 00:01:57.195000</td>\n",
       "    </tr>\n",
       "    <tr>\n",
       "      <th>114</th>\n",
       "      <td>5</td>\n",
       "      <td>10</td>\n",
       "      <td>2021-03-20 02:19:59.386000+00:00</td>\n",
       "      <td>2021-03-20 02:21:58.812000+00:00</td>\n",
       "      <td>14</td>\n",
       "      <td>0.274510</td>\n",
       "      <td>0.081395</td>\n",
       "      <td>0 days 00:01:59.426000</td>\n",
       "    </tr>\n",
       "  </tbody>\n",
       "</table>\n",
       "</div>"
      ],
      "text/plain": [
       "    hour 2min_chunk                            start  \\\n",
       "196    8         16 2021-03-20 05:32:08.108000+00:00   \n",
       "129    6          0 2021-03-20 02:57:53.904000+00:00   \n",
       "147    6         18 2021-03-20 03:38:02.837000+00:00   \n",
       "123    5         19 2021-03-20 02:44:47.050000+00:00   \n",
       "114    5         10 2021-03-20 02:19:59.386000+00:00   \n",
       "\n",
       "                                 end num_unique  perc_rel_unique  \\\n",
       "196 2021-03-20 05:33:48.767000+00:00         18         0.545455   \n",
       "129 2021-03-20 02:59:51.806000+00:00         15         0.319149   \n",
       "147 2021-03-20 03:40:01.726000+00:00         15         0.319149   \n",
       "123 2021-03-20 02:46:44.245000+00:00         14         0.274510   \n",
       "114 2021-03-20 02:21:58.812000+00:00         14         0.274510   \n",
       "\n",
       "     perc_abs_unique                elapsed  \n",
       "196         0.104651 0 days 00:01:40.659000  \n",
       "129         0.087209 0 days 00:01:57.902000  \n",
       "147         0.087209 0 days 00:01:58.889000  \n",
       "123         0.081395 0 days 00:01:57.195000  \n",
       "114         0.081395 0 days 00:01:59.426000  "
      ]
     },
     "execution_count": 89,
     "metadata": {},
     "output_type": "execute_result"
    }
   ],
   "source": [
    "# for normal people\n",
    "results.sort_values('perc_abs_unique',ascending=False).head()"
   ]
  },
  {
   "cell_type": "markdown",
   "metadata": {},
   "source": [
    "[Twitch Source](https://www.twitch.tv/videos/955629991)\n",
    "\n",
    "Variables:\n",
    "* `hour`: section of twitch chat df, after df was split into 1 hour sections\n",
    "* `xmin_chunk`: chunk of hour section, after section was split into x min chunks\n",
    "* `start`: starting timestamp of chunk\n",
    "* `end`: ending timestamp of chunk\n",
    "* `num_unique`: number of unique chatters in that chunk\n",
    "* `perc_rel_unique`: percent of unique __hour section__ chatters participating in that chunk\n",
    "* `perc_abs_unique`: percent of unique __twitch df__ chatters participating in that chunk"
   ]
  },
  {
   "cell_type": "markdown",
   "metadata": {},
   "source": [
    "__Conclusion__: The max relative chat engagement was around 55% in the eighth hour of twitch chat during chunk_16. Timestamps `03-20 05:32` to `03-20 05:33` are good candidates"
   ]
  },
  {
   "cell_type": "code",
   "execution_count": 93,
   "metadata": {},
   "outputs": [
    {
     "data": {
      "text/plain": [
       "[{'startTime': 27319.612, 'endTime': 27420.271, 'videoId': 955629991},\n",
       " {'startTime': 26689.814, 'endTime': 26808.451, 'videoId': 955629991},\n",
       " {'startTime': 18065.408, 'endTime': 18183.31, 'videoId': 955629991},\n",
       " {'startTime': 20474.341, 'endTime': 20593.23, 'videoId': 955629991},\n",
       " {'startTime': 3152.329, 'endTime': 3271.822, 'videoId': 955629991},\n",
       " {'startTime': 26320.325, 'endTime': 26439.613, 'videoId': 955629991},\n",
       " {'startTime': 8672.863, 'endTime': 8759.628, 'videoId': 955629991},\n",
       " {'startTime': 6851.107, 'endTime': 6965.998, 'videoId': 955629991}]"
      ]
     },
     "execution_count": 93,
     "metadata": {},
     "output_type": "execute_result"
    }
   ],
   "source": [
    "# for engineers\n",
    "json_results[:8]"
   ]
  },
  {
   "cell_type": "code",
   "execution_count": 107,
   "metadata": {},
   "outputs": [],
   "source": [
    "save_json(json_results) # save as txt file"
   ]
  },
  {
   "cell_type": "markdown",
   "metadata": {},
   "source": [
    "## Graphs"
   ]
  },
  {
   "cell_type": "code",
   "execution_count": 21,
   "metadata": {},
   "outputs": [
    {
     "name": "stderr",
     "output_type": "stream",
     "text": [
      "/Users/peter/opt/miniconda3/envs/data_env/lib/python3.8/site-packages/seaborn/axisgrid.py:643: UserWarning: Using the barplot function without specifying `order` is likely to produce an incorrect plot.\n",
      "  warnings.warn(warning)\n"
     ]
    },
    {
     "data": {
      "text/plain": [
       "Text(0.5, 1.05, 'Percent chatters, relative to each hour')"
      ]
     },
     "execution_count": 21,
     "metadata": {},
     "output_type": "execute_result"
    },
    {
     "data": {
      "image/png": "[encoded data removed]",
      "text/plain": [
       "<Figure size 864x432 with 8 Axes>"
      ]
     },
     "metadata": {
      "needs_background": "light"
     },
     "output_type": "display_data"
    }
   ],
   "source": [
    "g = sns.FacetGrid(results,col='hour',sharex=False, col_wrap = 4)\n",
    "g.map(sns.barplot,'2min_chunk','perc_rel_unique')\n",
    "\n",
    "plt.suptitle(\"Percent chatters, relative to each hour\",y=1.05)"
   ]
  },
  {
   "cell_type": "code",
   "execution_count": 22,
   "metadata": {},
   "outputs": [
    {
     "name": "stderr",
     "output_type": "stream",
     "text": [
      "/Users/peter/opt/miniconda3/envs/data_env/lib/python3.8/site-packages/seaborn/axisgrid.py:643: UserWarning: Using the barplot function without specifying `order` is likely to produce an incorrect plot.\n",
      "  warnings.warn(warning)\n"
     ]
    },
    {
     "data": {
      "text/plain": [
       "Text(0.5, 1.05, 'Percent of twitch session chatters participating at each chunk')"
      ]
     },
     "execution_count": 22,
     "metadata": {},
     "output_type": "execute_result"
    },
    {
     "data": {
      "image/png": "[encoded data removed]",
      "text/plain": [
       "<Figure size 864x432 with 8 Axes>"
      ]
     },
     "metadata": {
      "needs_background": "light"
     },
     "output_type": "display_data"
    }
   ],
   "source": [
    "g = sns.FacetGrid(results,col='hour',sharex=False, col_wrap = 4)\n",
    "g.map(sns.barplot,'2min_chunk','perc_abs_unique')\n",
    "\n",
    "plt.suptitle(\"Percent of twitch session chatters participating at each chunk\",y=1.05)"
   ]
  },
  {
   "cell_type": "markdown",
   "metadata": {},
   "source": [
    "### BUG"
   ]
  },
  {
   "cell_type": "markdown",
   "metadata": {},
   "source": [
    "Why do the perc_abs_unique and perc_rel_unique have the same exact graphs???"
   ]
  },
  {
   "cell_type": "markdown",
   "metadata": {},
   "source": [
    "# Algorithm 2: percent user activity\n",
    "\n",
    "__Description__: Try to find the best moments in clips based on when rate of messages per user peaked\n",
    "\n",
    "1. ~~Isolate chat transcript to 1 hour long sessions~~ DONE\n",
    "1. Find overall message rate per 2 minutes per users\n",
    "1. Identify timestamps where `message_rate` peaked"
   ]
  },
  {
   "cell_type": "markdown",
   "metadata": {},
   "source": [
    "Based on the above, it looks like top message sender sent the top message at all hours"
   ]
  },
  {
   "cell_type": "code",
   "execution_count": null,
   "metadata": {},
   "outputs": [],
   "source": []
  }
 ],
 "metadata": {
  "kernelspec": {
   "display_name": "Python 3",
   "language": "python",
   "name": "python3"
  },
  "language_info": {
   "codemirror_mode": {
    "name": "ipython",
    "version": 3
   },
   "file_extension": ".py",
   "mimetype": "text/x-python",
   "name": "python",
   "nbconvert_exporter": "python",
   "pygments_lexer": "ipython3",
   "version": "3.8.2"
  }
 },
 "nbformat": 4,
 "nbformat_minor": 4
}
