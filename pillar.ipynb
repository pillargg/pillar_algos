{
 "cells": [
  {
   "cell_type": "code",
   "execution_count": 1,
   "metadata": {},
   "outputs": [],
   "source": [
    "import pandas as pd\n",
    "import numpy as np\n",
    "\n",
    "import matplotlib.pyplot as plt\n",
    "import seaborn as sns"
   ]
  },
  {
   "cell_type": "code",
   "execution_count": 2,
   "metadata": {},
   "outputs": [],
   "source": [
    "import datetime as dt\n",
    "import json"
   ]
  },
  {
   "cell_type": "markdown",
   "metadata": {},
   "source": [
    "# Preliminary Data"
   ]
  },
  {
   "cell_type": "markdown",
   "metadata": {},
   "source": [
    "Used to create data cleaning function"
   ]
  },
  {
   "cell_type": "code",
   "execution_count": 3,
   "metadata": {},
   "outputs": [],
   "source": [
    "def organize_twitch_chat(json_name):\n",
    "    data = pd.read_json(json_name, orient='records')\n",
    "    df = data[['created_at','updated_at','commenter','message']]\n",
    "    messages = df['message'].apply(pd.Series).drop(['fragments','user_color','user_notice_params'],axis=1)\n",
    "    users = df['commenter'].apply(pd.Series)\n",
    "    \n",
    "    df = df.drop(['message','commenter'], axis=1) # duplicate info\n",
    "    df = pd.concat([df,users,messages],axis=1)\n",
    "    df = df.iloc[:,[0,1,2,3,4,5,6,9,10,11,12,13]] # select cols that arent duplicates\n",
    "    \n",
    "    return df"
   ]
  },
  {
   "cell_type": "code",
   "execution_count": 4,
   "metadata": {},
   "outputs": [],
   "source": [
    "df = organize_twitch_chat(\"sample_data.json\")"
   ]
  },
  {
   "cell_type": "code",
   "execution_count": 5,
   "metadata": {},
   "outputs": [],
   "source": [
    "df['time_clipped'] = df['created_at'].astype(str).str.extract('(\\d\\d\\d\\d-\\d\\d-\\d\\d \\d\\d:\\d\\d)')"
   ]
  },
  {
   "cell_type": "code",
   "execution_count": 6,
   "metadata": {},
   "outputs": [
    {
     "data": {
      "text/html": [
       "<div>\n",
       "<style scoped>\n",
       "    .dataframe tbody tr th:only-of-type {\n",
       "        vertical-align: middle;\n",
       "    }\n",
       "\n",
       "    .dataframe tbody tr th {\n",
       "        vertical-align: top;\n",
       "    }\n",
       "\n",
       "    .dataframe thead th {\n",
       "        text-align: right;\n",
       "    }\n",
       "</style>\n",
       "<table border=\"1\" class=\"dataframe\">\n",
       "  <thead>\n",
       "    <tr style=\"text-align: right;\">\n",
       "      <th></th>\n",
       "      <th>created_at</th>\n",
       "      <th>updated_at</th>\n",
       "      <th>_id</th>\n",
       "      <th>name</th>\n",
       "      <th>type</th>\n",
       "      <th>bio</th>\n",
       "      <th>logo</th>\n",
       "      <th>body</th>\n",
       "      <th>is_action</th>\n",
       "      <th>user_badges</th>\n",
       "      <th>emoticons</th>\n",
       "      <th>time_clipped</th>\n",
       "    </tr>\n",
       "    <tr>\n",
       "      <th>display_name</th>\n",
       "      <th></th>\n",
       "      <th></th>\n",
       "      <th></th>\n",
       "      <th></th>\n",
       "      <th></th>\n",
       "      <th></th>\n",
       "      <th></th>\n",
       "      <th></th>\n",
       "      <th></th>\n",
       "      <th></th>\n",
       "      <th></th>\n",
       "      <th></th>\n",
       "    </tr>\n",
       "  </thead>\n",
       "  <tbody>\n",
       "    <tr>\n",
       "      <th>mdsvellhoo</th>\n",
       "      <td>1</td>\n",
       "      <td>1</td>\n",
       "      <td>1</td>\n",
       "      <td>1</td>\n",
       "      <td>1</td>\n",
       "      <td>0</td>\n",
       "      <td>1</td>\n",
       "      <td>1</td>\n",
       "      <td>1</td>\n",
       "      <td>0</td>\n",
       "      <td>0</td>\n",
       "      <td>1</td>\n",
       "    </tr>\n",
       "    <tr>\n",
       "      <th>chicken2013</th>\n",
       "      <td>1</td>\n",
       "      <td>1</td>\n",
       "      <td>1</td>\n",
       "      <td>1</td>\n",
       "      <td>1</td>\n",
       "      <td>0</td>\n",
       "      <td>1</td>\n",
       "      <td>1</td>\n",
       "      <td>1</td>\n",
       "      <td>0</td>\n",
       "      <td>0</td>\n",
       "      <td>1</td>\n",
       "    </tr>\n",
       "    <tr>\n",
       "      <th>luuser830</th>\n",
       "      <td>1</td>\n",
       "      <td>1</td>\n",
       "      <td>1</td>\n",
       "      <td>1</td>\n",
       "      <td>1</td>\n",
       "      <td>0</td>\n",
       "      <td>1</td>\n",
       "      <td>1</td>\n",
       "      <td>1</td>\n",
       "      <td>1</td>\n",
       "      <td>0</td>\n",
       "      <td>1</td>\n",
       "    </tr>\n",
       "    <tr>\n",
       "      <th>Pekoeta</th>\n",
       "      <td>1</td>\n",
       "      <td>1</td>\n",
       "      <td>1</td>\n",
       "      <td>1</td>\n",
       "      <td>1</td>\n",
       "      <td>0</td>\n",
       "      <td>1</td>\n",
       "      <td>1</td>\n",
       "      <td>1</td>\n",
       "      <td>1</td>\n",
       "      <td>1</td>\n",
       "      <td>1</td>\n",
       "    </tr>\n",
       "    <tr>\n",
       "      <th>littleballofhate</th>\n",
       "      <td>1</td>\n",
       "      <td>1</td>\n",
       "      <td>1</td>\n",
       "      <td>1</td>\n",
       "      <td>1</td>\n",
       "      <td>0</td>\n",
       "      <td>1</td>\n",
       "      <td>1</td>\n",
       "      <td>1</td>\n",
       "      <td>1</td>\n",
       "      <td>0</td>\n",
       "      <td>1</td>\n",
       "    </tr>\n",
       "    <tr>\n",
       "      <th>...</th>\n",
       "      <td>...</td>\n",
       "      <td>...</td>\n",
       "      <td>...</td>\n",
       "      <td>...</td>\n",
       "      <td>...</td>\n",
       "      <td>...</td>\n",
       "      <td>...</td>\n",
       "      <td>...</td>\n",
       "      <td>...</td>\n",
       "      <td>...</td>\n",
       "      <td>...</td>\n",
       "      <td>...</td>\n",
       "    </tr>\n",
       "    <tr>\n",
       "      <th>stevekay4444</th>\n",
       "      <td>20</td>\n",
       "      <td>20</td>\n",
       "      <td>20</td>\n",
       "      <td>20</td>\n",
       "      <td>20</td>\n",
       "      <td>0</td>\n",
       "      <td>20</td>\n",
       "      <td>20</td>\n",
       "      <td>20</td>\n",
       "      <td>20</td>\n",
       "      <td>1</td>\n",
       "      <td>20</td>\n",
       "    </tr>\n",
       "    <tr>\n",
       "      <th>CptnJLPicard</th>\n",
       "      <td>22</td>\n",
       "      <td>22</td>\n",
       "      <td>22</td>\n",
       "      <td>22</td>\n",
       "      <td>22</td>\n",
       "      <td>0</td>\n",
       "      <td>22</td>\n",
       "      <td>22</td>\n",
       "      <td>22</td>\n",
       "      <td>0</td>\n",
       "      <td>0</td>\n",
       "      <td>22</td>\n",
       "    </tr>\n",
       "    <tr>\n",
       "      <th>ninaisnoob</th>\n",
       "      <td>37</td>\n",
       "      <td>37</td>\n",
       "      <td>37</td>\n",
       "      <td>37</td>\n",
       "      <td>37</td>\n",
       "      <td>37</td>\n",
       "      <td>37</td>\n",
       "      <td>37</td>\n",
       "      <td>37</td>\n",
       "      <td>37</td>\n",
       "      <td>10</td>\n",
       "      <td>37</td>\n",
       "    </tr>\n",
       "    <tr>\n",
       "      <th>SamDLIVE</th>\n",
       "      <td>43</td>\n",
       "      <td>43</td>\n",
       "      <td>43</td>\n",
       "      <td>43</td>\n",
       "      <td>43</td>\n",
       "      <td>0</td>\n",
       "      <td>43</td>\n",
       "      <td>43</td>\n",
       "      <td>43</td>\n",
       "      <td>0</td>\n",
       "      <td>7</td>\n",
       "      <td>43</td>\n",
       "    </tr>\n",
       "    <tr>\n",
       "      <th>gassyvegan247</th>\n",
       "      <td>95</td>\n",
       "      <td>95</td>\n",
       "      <td>95</td>\n",
       "      <td>95</td>\n",
       "      <td>95</td>\n",
       "      <td>0</td>\n",
       "      <td>95</td>\n",
       "      <td>95</td>\n",
       "      <td>95</td>\n",
       "      <td>95</td>\n",
       "      <td>14</td>\n",
       "      <td>95</td>\n",
       "    </tr>\n",
       "  </tbody>\n",
       "</table>\n",
       "<p>100 rows × 12 columns</p>\n",
       "</div>"
      ],
      "text/plain": [
       "                  created_at  updated_at  _id  name  type  bio  logo  body  \\\n",
       "display_name                                                                 \n",
       "mdsvellhoo                 1           1    1     1     1    0     1     1   \n",
       "chicken2013                1           1    1     1     1    0     1     1   \n",
       "luuser830                  1           1    1     1     1    0     1     1   \n",
       "Pekoeta                    1           1    1     1     1    0     1     1   \n",
       "littleballofhate           1           1    1     1     1    0     1     1   \n",
       "...                      ...         ...  ...   ...   ...  ...   ...   ...   \n",
       "stevekay4444              20          20   20    20    20    0    20    20   \n",
       "CptnJLPicard              22          22   22    22    22    0    22    22   \n",
       "ninaisnoob                37          37   37    37    37   37    37    37   \n",
       "SamDLIVE                  43          43   43    43    43    0    43    43   \n",
       "gassyvegan247             95          95   95    95    95    0    95    95   \n",
       "\n",
       "                  is_action  user_badges  emoticons  time_clipped  \n",
       "display_name                                                       \n",
       "mdsvellhoo                1            0          0             1  \n",
       "chicken2013               1            0          0             1  \n",
       "luuser830                 1            1          0             1  \n",
       "Pekoeta                   1            1          1             1  \n",
       "littleballofhate          1            1          0             1  \n",
       "...                     ...          ...        ...           ...  \n",
       "stevekay4444             20           20          1            20  \n",
       "CptnJLPicard             22            0          0            22  \n",
       "ninaisnoob               37           37         10            37  \n",
       "SamDLIVE                 43            0          7            43  \n",
       "gassyvegan247            95           95         14            95  \n",
       "\n",
       "[100 rows x 12 columns]"
      ]
     },
     "execution_count": 6,
     "metadata": {},
     "output_type": "execute_result"
    }
   ],
   "source": [
    "df.groupby('display_name').count().sort_values('body')"
   ]
  },
  {
   "cell_type": "code",
   "execution_count": 7,
   "metadata": {},
   "outputs": [
    {
     "data": {
      "text/plain": [
       "Text(0.5, 1.0, 'Messages per User')"
      ]
     },
     "execution_count": 7,
     "metadata": {},
     "output_type": "execute_result"
    },
    {
     "data": {
      "image/png": "[encoded data removed]",
      "text/plain": [
       "<Figure size 432x288 with 1 Axes>"
      ]
     },
     "metadata": {
      "needs_background": "light"
     },
     "output_type": "display_data"
    }
   ],
   "source": [
    "sns.histplot(df['display_name'])\n",
    "plt.title('Messages per User')"
   ]
  },
  {
   "cell_type": "markdown",
   "metadata": {},
   "source": [
    "# Big Data"
   ]
  },
  {
   "cell_type": "code",
   "execution_count": 8,
   "metadata": {},
   "outputs": [],
   "source": [
    "big_df = organize_twitch_chat(\"big_data.json\")"
   ]
  },
  {
   "cell_type": "code",
   "execution_count": 9,
   "metadata": {},
   "outputs": [
    {
     "data": {
      "text/plain": [
       "Text(0.5, 1.0, 'Message Count')"
      ]
     },
     "execution_count": 9,
     "metadata": {},
     "output_type": "execute_result"
    },
    {
     "data": {
      "image/png": "[encoded data removed]",
      "text/plain": [
       "<Figure size 432x288 with 1 Axes>"
      ]
     },
     "metadata": {
      "needs_background": "light"
     },
     "output_type": "display_data"
    }
   ],
   "source": [
    "sns.histplot(big_df['created_at'], bins=100)\n",
    "plt.title(\"Message Count\")"
   ]
  },
  {
   "cell_type": "code",
   "execution_count": 10,
   "metadata": {},
   "outputs": [
    {
     "data": {
      "text/plain": [
       "Text(0.5, 1.0, 'Messages per User')"
      ]
     },
     "execution_count": 10,
     "metadata": {},
     "output_type": "execute_result"
    },
    {
     "data": {
      "image/png": "[encoded data removed]",
      "text/plain": [
       "<Figure size 432x288 with 1 Axes>"
      ]
     },
     "metadata": {
      "needs_background": "light"
     },
     "output_type": "display_data"
    }
   ],
   "source": [
    "sns.histplot(big_df['display_name'])\n",
    "plt.title(\"Messages per User\")"
   ]
  },
  {
   "cell_type": "markdown",
   "metadata": {},
   "source": [
    "## User Stats"
   ]
  },
  {
   "cell_type": "code",
   "execution_count": 11,
   "metadata": {},
   "outputs": [],
   "source": [
    "def user_stats(dataframe):\n",
    "    '''\n",
    "    Returns the user who sent the most messages, most emoticons, and who changed their username the most\n",
    "    '''\n",
    "    temp_df = dataframe.groupby(\"name\").count().reset_index()\n",
    "    temp_df['username_chg'] = temp_df['_id'] - temp_df['display_name'] # if mismatch in count, then its probs changed username\n",
    "    \n",
    "    stats = {}\n",
    "    for col in ['_id','emoticons', 'username_chg']:\n",
    "        sort = temp_df.sort_values(col, ascending=False)[['name',col]].iloc[0]\n",
    "        stat = sort[col]\n",
    "        _id = sort['name']\n",
    "        \n",
    "        if col == '_id':\n",
    "            col = 'num_messages'\n",
    "        stats[col] = [_id, stat]\n",
    "    \n",
    "    return stats"
   ]
  },
  {
   "cell_type": "code",
   "execution_count": 12,
   "metadata": {},
   "outputs": [
    {
     "data": {
      "text/plain": [
       "{'num_messages': ['dominickstarcraft', 239],\n",
       " 'emoticons': ['gassyvegan247', 27],\n",
       " 'username_chg': ['21up21', 0]}"
      ]
     },
     "execution_count": 12,
     "metadata": {},
     "output_type": "execute_result"
    }
   ],
   "source": [
    "user_stats(big_df)"
   ]
  },
  {
   "cell_type": "markdown",
   "metadata": {},
   "source": [
    "## Algorithm: percent user participation"
   ]
  },
  {
   "cell_type": "markdown",
   "metadata": {},
   "source": [
    "__Description__: Try to find the best moments in clips based on where the most users participated\n",
    "1. Isolate chat transcript to 1 hour long sessions\n",
    "1. Find total number of unique users that participated in session\n",
    "1. Find % of users that participated at any given `5 minute` timestamp\n",
    "1. Isolate `top 3` timestamps per session"
   ]
  },
  {
   "cell_type": "code",
   "execution_count": 13,
   "metadata": {},
   "outputs": [],
   "source": [
    "class dfSplitter():\n",
    "    def __init__(self, dataframe):\n",
    "        '''\n",
    "        Splits dataframe into multiple dataframes, each 1 hour long\n",
    "\n",
    "        output:\n",
    "        ------\n",
    "        my_list: list\n",
    "            List of dataframes\n",
    "        '''\n",
    "        # init function finds the first split\n",
    "        dataframe = dataframe.sort_values(\"created_at\")\n",
    "        first = dataframe[dataframe['created_at'] <= dataframe.loc[0,'created_at'] + pd.Timedelta(hours = 1)]\n",
    "        \n",
    "        self.last_i = first.index.max()\n",
    "        self.dataframe = dataframe\n",
    "        self.result = []\n",
    "        self.result.append(first)\n",
    "        \n",
    "    def find_rest(self):\n",
    "        '''\n",
    "        Uses last index of first split to find the others\n",
    "        '''\n",
    "        dataframe = self.dataframe\n",
    "        last_i = self.last_i\n",
    "        if last_i+1 != len(dataframe):\n",
    "            new_df = dataframe.loc[last_i+1:,:] # clip df to start at last_i\n",
    "            newest = new_df[new_df['created_at'] <= new_df.loc[last_i+1,'created_at'] + pd.Timedelta(hours=1)] # filter by hour\n",
    "            self.result.append(newest) # store in list\n",
    "            self.last_i = newest.index.max()\n",
    "            \n",
    "            self.find_rest() # repeat\n",
    "        else:\n",
    "            return dataframe # never actually used"
   ]
  },
  {
   "cell_type": "code",
   "execution_count": 129,
   "metadata": {},
   "outputs": [],
   "source": [
    "ds = dfSplitter(df)\n",
    "ds.find_rest()\n",
    "hour_list = ds.result"
   ]
  },
  {
   "cell_type": "code",
   "execution_count": 130,
   "metadata": {},
   "outputs": [
    {
     "name": "stderr",
     "output_type": "stream",
     "text": [
      "/home/jupyter-pomkos/.conda/envs/data_env/lib/python3.6/site-packages/ipykernel_launcher.py:3: SettingWithCopyWarning: \n",
      "A value is trying to be set on a copy of a slice from a DataFrame.\n",
      "Try using .loc[row_indexer,col_indexer] = value instead\n",
      "\n",
      "See the caveats in the documentation: https://pandas.pydata.org/pandas-docs/stable/user_guide/indexing.html#returning-a-view-versus-a-copy\n",
      "  This is separate from the ipykernel package so we can avoid doing imports until\n"
     ]
    }
   ],
   "source": [
    "# add hours column cuz its getting confusing\n",
    "for i in range(len(hour_list)):\n",
    "    hour_list[i]['hour_section'] = i"
   ]
  },
  {
   "cell_type": "code",
   "execution_count": 132,
   "metadata": {},
   "outputs": [],
   "source": [
    "class fminChats():\n",
    "    def __init__(self,dataframe):\n",
    "        '''\n",
    "        Finds the percent unique chatters that chatted every 5 minutes\n",
    "        '''\n",
    "        \n",
    "        # init function finds the first split\n",
    "        dataframe = dataframe.sort_values(\"created_at\")\n",
    "        first = dataframe[dataframe['created_at'] <= dataframe.iloc[0,0] + pd.Timedelta(minutes = 5)]\n",
    "        \n",
    "        self.total_uniques = len(dataframe['_id'].unique())\n",
    "        \n",
    "        self.last_i = first.index.max()\n",
    "        self.dataframe = dataframe\n",
    "        \n",
    "        self.result = []\n",
    "        self.result.append(first)\n",
    "        \n",
    "    def find_rest(self):\n",
    "        '''\n",
    "        Uses last index of first split to find the others\n",
    "        '''\n",
    "        dataframe = self.dataframe\n",
    "        last_i = self.last_i\n",
    "        if last_i+1 < len(dataframe):\n",
    "            new_df = dataframe.loc[last_i+1:,:] # clip df to start new 5min calc at last_i+1\n",
    "            newest = new_df[new_df['created_at'] <= new_df.loc[last_i+1,'created_at'] + pd.Timedelta(value=5, unit='minutes')] # filter by minute\n",
    "            self.result.append(newest) # store in list\n",
    "            \n",
    "            self.last_i = newest.index.max()\n",
    "            self.find_rest() # repeat\n",
    "        else:\n",
    "            print(\"Done\")\n",
    "    \n",
    "    def perc_uniques(self, chunk_list):\n",
    "        '''\n",
    "        Finds the percent unique chatters for eachd dataframe in the list. Dataframes assumed to be split using self.find_rest.\n",
    "        '''\n",
    "        \n",
    "        perc_unique = {\n",
    "                '5min_chunk':[],\n",
    "                'start':[],\n",
    "                'end':[],\n",
    "                'num_unique':[],\n",
    "                'perc_unique':[]\n",
    "        }\n",
    "        \n",
    "        for i in range(len(chunk_list)):\n",
    "            # calcuate\n",
    "            chunk = f\"chunk_{i}\"\n",
    "            unique = len(chunk_list[i]['_id'].unique())\n",
    "            timestamp = [chunk_list[i]['created_at'].min(), chunk_list[i]['created_at'].max()]\n",
    "            perc = unique/self.total_uniques\n",
    "            # store\n",
    "            perc_unique['5min_chunk'].append(chunk)\n",
    "            perc_unique['start'].append(timestamp[0])\n",
    "            perc_unique['end'].append(timestamp[1])\n",
    "            perc_unique['num_unique'].append(unique)\n",
    "            perc_unique['perc_unique'].append(perc)\n",
    "            \n",
    "        return pd.DataFrame(perc_unique)\n",
    "    "
   ]
  },
  {
   "cell_type": "code",
   "execution_count": 170,
   "metadata": {},
   "outputs": [],
   "source": [
    "def sanity_time_check(dataframe):\n",
    "    '''\n",
    "    Checks the time length of dataframe\n",
    "    '''\n",
    "    return dataframe['created_at'].max() - dataframe['created_at'].min()\n",
    "\n",
    "def sanity_list_checker(list1):\n",
    "    '''\n",
    "    Prints out detailed information for each item in the list\n",
    "    '''\n",
    "    for data in list1:\n",
    "        print(f\"Hour {data['hour_section'].unique()} length: {sanity_time_check(data)}\")"
   ]
  },
  {
   "cell_type": "code",
   "execution_count": 131,
   "metadata": {},
   "outputs": [],
   "source": [
    "first = hour_list[0]"
   ]
  },
  {
   "cell_type": "code",
   "execution_count": 142,
   "metadata": {},
   "outputs": [
    {
     "name": "stdout",
     "output_type": "stream",
     "text": [
      "Done\n"
     ]
    },
    {
     "name": "stderr",
     "output_type": "stream",
     "text": [
      "/home/jupyter-pomkos/.conda/envs/data_env/lib/python3.6/site-packages/ipykernel_launcher.py:8: SettingWithCopyWarning: \n",
      "A value is trying to be set on a copy of a slice from a DataFrame.\n",
      "Try using .loc[row_indexer,col_indexer] = value instead\n",
      "\n",
      "See the caveats in the documentation: https://pandas.pydata.org/pandas-docs/stable/user_guide/indexing.html#returning-a-view-versus-a-copy\n",
      "  \n"
     ]
    }
   ],
   "source": [
    "# Percent uniques every 5 minutes relative to that 1 hour section's chatters\n",
    "fm = fminChats(first)\n",
    "fm.find_rest()\n",
    "chunk_list = fm.result\n",
    "\n",
    "# add chunk column cuz its getting confusing\n",
    "for i in range(len(chunk_list)):\n",
    "    chunk_list[i]['chunk_section'] = i\n",
    "\n",
    "uniques = fm.perc_uniques(chunk_list)"
   ]
  },
  {
   "cell_type": "code",
   "execution_count": 171,
   "metadata": {},
   "outputs": [],
   "source": [
    "second = hour_list[1]"
   ]
  },
  {
   "cell_type": "code",
   "execution_count": 174,
   "metadata": {},
   "outputs": [
    {
     "data": {
      "text/plain": [
       "Timedelta('0 days 00:53:29.348000')"
      ]
     },
     "execution_count": 174,
     "metadata": {},
     "output_type": "execute_result"
    }
   ],
   "source": [
    "sanity_time_check(second)"
   ]
  },
  {
   "cell_type": "code",
   "execution_count": 172,
   "metadata": {},
   "outputs": [
    {
     "name": "stdout",
     "output_type": "stream",
     "text": [
      "Done\n"
     ]
    },
    {
     "name": "stderr",
     "output_type": "stream",
     "text": [
      "/home/jupyter-pomkos/.conda/envs/data_env/lib/python3.6/site-packages/ipykernel_launcher.py:8: SettingWithCopyWarning: \n",
      "A value is trying to be set on a copy of a slice from a DataFrame.\n",
      "Try using .loc[row_indexer,col_indexer] = value instead\n",
      "\n",
      "See the caveats in the documentation: https://pandas.pydata.org/pandas-docs/stable/user_guide/indexing.html#returning-a-view-versus-a-copy\n",
      "  \n"
     ]
    }
   ],
   "source": [
    "# Percent uniques every 5 minutes relative to that 1 hour section's chatters\n",
    "fm = fminChats(second)\n",
    "fm.find_rest()\n",
    "chunk_list = fm.result\n",
    "\n",
    "# add chunk column cuz its getting confusing\n",
    "for i in range(len(chunk_list)):\n",
    "    chunk_list[i]['chunk_section'] = i\n",
    "\n",
    "uniques = fm.perc_uniques(chunk_list)"
   ]
  },
  {
   "cell_type": "code",
   "execution_count": 173,
   "metadata": {},
   "outputs": [
    {
     "name": "stdout",
     "output_type": "stream",
     "text": [
      "Hour [1] length: 0 days 00:04:41.901000\n"
     ]
    }
   ],
   "source": [
    "sanity_list_checker(chunk_list)"
   ]
  },
  {
   "cell_type": "markdown",
   "metadata": {},
   "source": [
    "This code is saved for later.\n",
    "```python\n",
    "results = pd.DataFrame(columns=['hour', '5min_chunk', 'start', 'end', 'num_unique', 'perc_unique'])\n",
    "# now iterate through all sections\n",
    "for i in range(len(hour_list)):\n",
    "    fm = fminChats(hour_list[i])\n",
    "    _n = fm.find_rest()\n",
    "    chunk_list = fm.result # get back list of dfs, each 5 minutes long\n",
    "    \n",
    "    uniques = fm.perc_uniques(chunk_list)\n",
    "    uniques['hour'] = i + 1\n",
    "    results = results.append(uniques)\n",
    "results['elapsed'] = results['end'] - results['start']\n",
    "```"
   ]
  },
  {
   "cell_type": "code",
   "execution_count": null,
   "metadata": {},
   "outputs": [],
   "source": []
  },
  {
   "cell_type": "code",
   "execution_count": null,
   "metadata": {},
   "outputs": [],
   "source": []
  },
  {
   "cell_type": "code",
   "execution_count": null,
   "metadata": {},
   "outputs": [],
   "source": []
  },
  {
   "cell_type": "code",
   "execution_count": null,
   "metadata": {},
   "outputs": [],
   "source": []
  },
  {
   "cell_type": "code",
   "execution_count": null,
   "metadata": {},
   "outputs": [],
   "source": []
  },
  {
   "cell_type": "markdown",
   "metadata": {},
   "source": [
    "## Algorithm: percent user activity\n",
    "\n",
    "__Description__: Try to find the best moments in clips based on when rate of messages per user peaked\n",
    "\n",
    "1. Isolate chat transcript to 1 hour long sessions\n",
    "1. Find message rate per 5 minutes per user\n",
    "1. Identify timestamps where `message_rate` peaked"
   ]
  },
  {
   "cell_type": "code",
   "execution_count": 30,
   "metadata": {},
   "outputs": [
    {
     "name": "stdout",
     "output_type": "stream",
     "text": [
      "{'num_messages': ['gassyvegan247', 34], 'emoticons': ['kimpossible489', 5], 'username_chg': ['alqahira', 0]}\n",
      "{'num_messages': ['gassyvegan247', 23], 'emoticons': ['gassyvegan247', 4], 'username_chg': ['148u', 0]}\n",
      "{'num_messages': ['gassyvegan247', 23], 'emoticons': ['hypnomadoff', 3], 'username_chg': ['1jamesbowyer', 0]}\n",
      "{'num_messages': ['samdlive', 36], 'emoticons': ['ninaisnoob', 8], 'username_chg': ['alqahira', 0]}\n"
     ]
    }
   ],
   "source": [
    "for x in df_list:\n",
    "    print(user_stats(x))"
   ]
  },
  {
   "cell_type": "markdown",
   "metadata": {},
   "source": [
    "Based on the above, it looks like top message sender sent the top message at all hours"
   ]
  },
  {
   "cell_type": "code",
   "execution_count": 292,
   "metadata": {},
   "outputs": [
    {
     "data": {
      "text/plain": [
       "Text(0.5, 1.0, 'Share of total messages by user')"
      ]
     },
     "execution_count": 292,
     "metadata": {},
     "output_type": "execute_result"
    },
    {
     "data": {
      "image/png": "[encoded data removed]",
      "text/plain": [
       "<Figure size 720x720 with 1 Axes>"
      ]
     },
     "metadata": {
      "needs_background": "light"
     },
     "output_type": "display_data"
    }
   ],
   "source": [
    "user_freq = df.value_counts(['name'], normalize=True).sort_values(ascending = False).reset_index()\n",
    "user_freq.columns = ['name','perc_of_total_messages']\n",
    "sns.catplot(x='name',y='perc_of_total_messages',data=user_freq,kind='bar', height=10)\n",
    "plt.title(\"Share of total messages by user\")"
   ]
  },
  {
   "cell_type": "code",
   "execution_count": null,
   "metadata": {},
   "outputs": [],
   "source": []
  }
 ],
 "metadata": {
  "kernelspec": {
   "display_name": "Data Env",
   "language": "python",
   "name": "data_env"
  },
  "language_info": {
   "codemirror_mode": {
    "name": "ipython",
    "version": 3
   },
   "file_extension": ".py",
   "mimetype": "text/x-python",
   "name": "python",
   "nbconvert_exporter": "python",
   "pygments_lexer": "ipython3",
   "version": "3.6.12"
  }
 },
 "nbformat": 4,
 "nbformat_minor": 4
}
